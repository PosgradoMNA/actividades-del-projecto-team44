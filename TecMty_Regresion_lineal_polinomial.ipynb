{
  "cells": [
    {
      "cell_type": "markdown",
      "metadata": {
        "id": "view-in-github",
        "colab_type": "text"
      },
      "source": [
        "<a href=\"https://colab.research.google.com/github/PosgradoMNA/actividades-del-projecto-team44/blob/main/TecMty_Regresion_lineal_polinomial.ipynb\" target=\"_parent\"><img src=\"https://colab.research.google.com/assets/colab-badge.svg\" alt=\"Open In Colab\"/></a>"
      ]
    },
    {
      "cell_type": "markdown",
      "metadata": {
        "id": "FR8Bfxbzml1F"
      },
      "source": [
        "# **Tecnológico de Monterrey**\n",
        "\n",
        "#Maestría en Inteligencia Artificial Aplicada\n",
        "\n",
        "> Curso: Ciencia y Analítica de Datos\n",
        "\n",
        "> Entregable : Entregable : Semana 7 - Actividad Regresiones y K means - Notebook 1\n",
        "\n",
        ">Fecha: 9/11/2022\n",
        "\n",
        ">Profesores:\n",
        "\n",
        ">* María de la Paz Rico Fernández\n",
        ">* Roberto Antonio Guevara González\n",
        "\n",
        "> Alumno:\n",
        "\n",
        "*   AQUILES YONATAN ARMENTA HERNANDEZ - A01793252\n"
      ]
    },
    {
      "cell_type": "markdown",
      "metadata": {
        "id": "WUO-kdryVQwK"
      },
      "source": [
        "# Ejercicio 1\n"
      ]
    },
    {
      "cell_type": "markdown",
      "metadata": {
        "id": "b10vVvDFe6yG"
      },
      "source": [
        "Ejercicio 1. Costo en la industria de manufactura. Ahora realizaremos los ejercicios de regresión utilizando una parte para entrenar y otra para evaluar.\n",
        "\n",
        ">Divide los datos del costo de manufactura. Utiliza la función train_test_split (viene el ejemplo al final del notebook).\n",
        "\n",
        ">Regresión Lineal.\n",
        "* Realiza la regresión lineal: modelo generado (ecuación), su visualización, sus errores y r cuadrada.\n",
        "\n",
        ">Regresión Polinomial.\n",
        "* Realiza la  regresión polinomial completa, tu modelo generado (ecuación), su visualización, sus errores y r cuadrada.\n",
        "\n",
        ">Realiza la regresión con Ridge y Lasso. Incluye la ecuación de tu modelo, visualización , errores y r cuadrada.\n",
        "\n",
        ">Finalmente grafica :\n",
        "* MAE (de los cuatro métodos)\n",
        "* R2 (de los cuatro métodos)\n",
        "* Explica tus resultados, que método conviene más a la empresa, ¿por que?, ¿que porcentajes de entrenamiento y evaluación usaste?, ¿que error tienes?, ¿es bueno?, ¿cómo lo sabes?"
      ]
    },
    {
      "cell_type": "code",
      "execution_count": null,
      "metadata": {
        "id": "Msm89naSzi21"
      },
      "outputs": [],
      "source": [
        "# LIBRERIAS NECESARIAS PARA EL PROYECTO\n",
        "import numpy as np\n",
        "import matplotlib\n",
        "import matplotlib.pyplot as plt\n",
        "import pandas as pd\n",
        "import seaborn as sns\n",
        "from sklearn import metrics\n",
        "from sklearn.metrics import r2_score\n",
        "from sklearn.linear_model import LinearRegression, Ridge, Lasso\n",
        "from sklearn.preprocessing import PolynomialFeatures\n",
        "from sklearn.model_selection import train_test_split,cross_validate,RepeatedKFold\n",
        "from sklearn.metrics import r2_score,mean_absolute_error,mean_squared_error\n",
        "from sklearn.preprocessing import StandardScaler\n",
        "from sklearn.pipeline import Pipeline\n",
        "from sklearn.preprocessing import PolynomialFeatures"
      ]
    },
    {
      "cell_type": "code",
      "execution_count": null,
      "metadata": {
        "colab": {
          "base_uri": "https://localhost:8080/",
          "height": 300
        },
        "id": "UCuqtDzloU_A",
        "outputId": "5c63f2a1-7e1e-44cf-94e7-08d1442e9b19"
      },
      "outputs": [
        {
          "data": {
            "text/html": [
              "\n",
              "  <div id=\"df-4edd5ff4-45ba-42b1-b62d-84e6931c5af1\">\n",
              "    <div class=\"colab-df-container\">\n",
              "      <div>\n",
              "<style scoped>\n",
              "    .dataframe tbody tr th:only-of-type {\n",
              "        vertical-align: middle;\n",
              "    }\n",
              "\n",
              "    .dataframe tbody tr th {\n",
              "        vertical-align: top;\n",
              "    }\n",
              "\n",
              "    .dataframe thead th {\n",
              "        text-align: right;\n",
              "    }\n",
              "</style>\n",
              "<table border=\"1\" class=\"dataframe\">\n",
              "  <thead>\n",
              "    <tr style=\"text-align: right;\">\n",
              "      <th></th>\n",
              "      <th>Number of Units</th>\n",
              "      <th>Manufacturing Cost</th>\n",
              "    </tr>\n",
              "  </thead>\n",
              "  <tbody>\n",
              "    <tr>\n",
              "      <th>count</th>\n",
              "      <td>1000.000000</td>\n",
              "      <td>1000.000000</td>\n",
              "    </tr>\n",
              "    <tr>\n",
              "      <th>mean</th>\n",
              "      <td>4.472799</td>\n",
              "      <td>40.052999</td>\n",
              "    </tr>\n",
              "    <tr>\n",
              "      <th>std</th>\n",
              "      <td>1.336241</td>\n",
              "      <td>10.595322</td>\n",
              "    </tr>\n",
              "    <tr>\n",
              "      <th>min</th>\n",
              "      <td>1.000000</td>\n",
              "      <td>20.000000</td>\n",
              "    </tr>\n",
              "    <tr>\n",
              "      <th>25%</th>\n",
              "      <td>3.594214</td>\n",
              "      <td>32.912036</td>\n",
              "    </tr>\n",
              "    <tr>\n",
              "      <th>50%</th>\n",
              "      <td>4.435958</td>\n",
              "      <td>38.345781</td>\n",
              "    </tr>\n",
              "    <tr>\n",
              "      <th>75%</th>\n",
              "      <td>5.324780</td>\n",
              "      <td>44.531822</td>\n",
              "    </tr>\n",
              "    <tr>\n",
              "      <th>max</th>\n",
              "      <td>10.000000</td>\n",
              "      <td>100.000000</td>\n",
              "    </tr>\n",
              "  </tbody>\n",
              "</table>\n",
              "</div>\n",
              "      <button class=\"colab-df-convert\" onclick=\"convertToInteractive('df-4edd5ff4-45ba-42b1-b62d-84e6931c5af1')\"\n",
              "              title=\"Convert this dataframe to an interactive table.\"\n",
              "              style=\"display:none;\">\n",
              "        \n",
              "  <svg xmlns=\"http://www.w3.org/2000/svg\" height=\"24px\"viewBox=\"0 0 24 24\"\n",
              "       width=\"24px\">\n",
              "    <path d=\"M0 0h24v24H0V0z\" fill=\"none\"/>\n",
              "    <path d=\"M18.56 5.44l.94 2.06.94-2.06 2.06-.94-2.06-.94-.94-2.06-.94 2.06-2.06.94zm-11 1L8.5 8.5l.94-2.06 2.06-.94-2.06-.94L8.5 2.5l-.94 2.06-2.06.94zm10 10l.94 2.06.94-2.06 2.06-.94-2.06-.94-.94-2.06-.94 2.06-2.06.94z\"/><path d=\"M17.41 7.96l-1.37-1.37c-.4-.4-.92-.59-1.43-.59-.52 0-1.04.2-1.43.59L10.3 9.45l-7.72 7.72c-.78.78-.78 2.05 0 2.83L4 21.41c.39.39.9.59 1.41.59.51 0 1.02-.2 1.41-.59l7.78-7.78 2.81-2.81c.8-.78.8-2.07 0-2.86zM5.41 20L4 18.59l7.72-7.72 1.47 1.35L5.41 20z\"/>\n",
              "  </svg>\n",
              "      </button>\n",
              "      \n",
              "  <style>\n",
              "    .colab-df-container {\n",
              "      display:flex;\n",
              "      flex-wrap:wrap;\n",
              "      gap: 12px;\n",
              "    }\n",
              "\n",
              "    .colab-df-convert {\n",
              "      background-color: #E8F0FE;\n",
              "      border: none;\n",
              "      border-radius: 50%;\n",
              "      cursor: pointer;\n",
              "      display: none;\n",
              "      fill: #1967D2;\n",
              "      height: 32px;\n",
              "      padding: 0 0 0 0;\n",
              "      width: 32px;\n",
              "    }\n",
              "\n",
              "    .colab-df-convert:hover {\n",
              "      background-color: #E2EBFA;\n",
              "      box-shadow: 0px 1px 2px rgba(60, 64, 67, 0.3), 0px 1px 3px 1px rgba(60, 64, 67, 0.15);\n",
              "      fill: #174EA6;\n",
              "    }\n",
              "\n",
              "    [theme=dark] .colab-df-convert {\n",
              "      background-color: #3B4455;\n",
              "      fill: #D2E3FC;\n",
              "    }\n",
              "\n",
              "    [theme=dark] .colab-df-convert:hover {\n",
              "      background-color: #434B5C;\n",
              "      box-shadow: 0px 1px 3px 1px rgba(0, 0, 0, 0.15);\n",
              "      filter: drop-shadow(0px 1px 2px rgba(0, 0, 0, 0.3));\n",
              "      fill: #FFFFFF;\n",
              "    }\n",
              "  </style>\n",
              "\n",
              "      <script>\n",
              "        const buttonEl =\n",
              "          document.querySelector('#df-4edd5ff4-45ba-42b1-b62d-84e6931c5af1 button.colab-df-convert');\n",
              "        buttonEl.style.display =\n",
              "          google.colab.kernel.accessAllowed ? 'block' : 'none';\n",
              "\n",
              "        async function convertToInteractive(key) {\n",
              "          const element = document.querySelector('#df-4edd5ff4-45ba-42b1-b62d-84e6931c5af1');\n",
              "          const dataTable =\n",
              "            await google.colab.kernel.invokeFunction('convertToInteractive',\n",
              "                                                     [key], {});\n",
              "          if (!dataTable) return;\n",
              "\n",
              "          const docLinkHtml = 'Like what you see? Visit the ' +\n",
              "            '<a target=\"_blank\" href=https://colab.research.google.com/notebooks/data_table.ipynb>data table notebook</a>'\n",
              "            + ' to learn more about interactive tables.';\n",
              "          element.innerHTML = '';\n",
              "          dataTable['output_type'] = 'display_data';\n",
              "          await google.colab.output.renderOutput(dataTable, element);\n",
              "          const docLink = document.createElement('div');\n",
              "          docLink.innerHTML = docLinkHtml;\n",
              "          element.appendChild(docLink);\n",
              "        }\n",
              "      </script>\n",
              "    </div>\n",
              "  </div>\n",
              "  "
            ],
            "text/plain": [
              "       Number of Units  Manufacturing Cost\n",
              "count      1000.000000         1000.000000\n",
              "mean          4.472799           40.052999\n",
              "std           1.336241           10.595322\n",
              "min           1.000000           20.000000\n",
              "25%           3.594214           32.912036\n",
              "50%           4.435958           38.345781\n",
              "75%           5.324780           44.531822\n",
              "max          10.000000          100.000000"
            ]
          },
          "execution_count": 2,
          "metadata": {},
          "output_type": "execute_result"
        }
      ],
      "source": [
        "# LECTURA DEL DATASET\n",
        "df = pd.read_csv('https://raw.githubusercontent.com/marypazrf/bdd/main/EconomiesOfScale.csv')\n",
        "df.describe()"
      ]
    },
    {
      "cell_type": "code",
      "execution_count": null,
      "metadata": {
        "id": "6rWINCELoreL"
      },
      "outputs": [],
      "source": [
        "# SPLIT  DE LA MUESTRA\n",
        "X = df[['Number of Units']] # X\n",
        "y = df['Manufacturing Cost'] # Y\n",
        "X_train, X_test, y_train, y_test = train_test_split(X,y,train_size=0.80,random_state=10)\n",
        "\n",
        "# METRICAS NECESARIAS\n",
        "metricas = {\n",
        "    \"R2\":\"r2\",\n",
        "    \"MAE\":'neg_mean_absolute_error'\n",
        "}\n",
        "\n",
        "resultados = list()"
      ]
    },
    {
      "cell_type": "code",
      "execution_count": null,
      "metadata": {
        "id": "wsfwL5TFdKWa"
      },
      "outputs": [],
      "source": [
        "def grafica(y_fit):\n",
        "  plt.scatter(X, y)\n",
        "\n",
        "  order = np.argsort(X_test.values.ravel())\n",
        "  x_order = X_test.values.ravel()[order]\n",
        "  y_order = y_test.values.ravel()[order]\n",
        "  y_fit_order = y_fit[order]\n",
        "\n",
        "  plt.plot(x_order, y_fit_order, 'r-', linewidth=2, label='Predictions')\n",
        "  plt.xlabel('$X$', fontsize=18)\n",
        "  plt.ylabel('$y$', fontsize=18)\n",
        "  plt.legend(loc='upper left',fontsize=14)\n"
      ]
    },
    {
      "cell_type": "markdown",
      "metadata": {
        "id": "qfNvOgns7HGq"
      },
      "source": [
        "## Regresion Lineal"
      ]
    },
    {
      "cell_type": "code",
      "execution_count": null,
      "metadata": {
        "colab": {
          "base_uri": "https://localhost:8080/"
        },
        "id": "xGfucE3crFOA",
        "outputId": "e78a67c7-5625-4a98-d3ac-43e49f903d32"
      },
      "outputs": [
        {
          "data": {
            "text/plain": [
              "LinearRegression()"
            ]
          },
          "execution_count": 278,
          "metadata": {},
          "output_type": "execute_result"
        }
      ],
      "source": [
        "# REGRESION LINEAL\n",
        "LR = LinearRegression(fit_intercept=True)\n",
        "kfold = RepeatedKFold(n_splits=5, n_repeats=3)\n",
        "scores = cross_validate(LR,X_train,y_train,scoring=metricas,cv=kfold)\n",
        "resultados.append(scores)\n",
        "LR.fit(X_train,y_train)"
      ]
    },
    {
      "cell_type": "code",
      "execution_count": null,
      "metadata": {
        "colab": {
          "base_uri": "https://localhost:8080/",
          "height": 290
        },
        "id": "yJLbvmMjviVB",
        "outputId": "d182aa91-71cc-4d52-96c9-a3e306043498"
      },
      "outputs": [
        {
          "data": {
            "image/png": "[encoded data removed]",
            "text/plain": [
              "<Figure size 576x288 with 1 Axes>"
            ]
          },
          "metadata": {},
          "output_type": "display_data"
        }
      ],
      "source": [
        "# GRAFICAMOS LOS VALORES OBTENIDOS\n",
        "y_fit = LR.predict(X_test)\n",
        "grafica(y_fit)"
      ]
    },
    {
      "cell_type": "code",
      "execution_count": null,
      "metadata": {
        "colab": {
          "base_uri": "https://localhost:8080/"
        },
        "id": "mb7KqslUxIbr",
        "outputId": "1572563a-d855-4b1d-a90f-9d26ff52bad8"
      },
      "outputs": [
        {
          "data": {
            "text/plain": [
              "(array([-5.917708]), 66.6344123257405)"
            ]
          },
          "execution_count": 280,
          "metadata": {},
          "output_type": "execute_result"
        }
      ],
      "source": [
        "LR.coef_, LR.intercept_"
      ]
    },
    {
      "cell_type": "markdown",
      "metadata": {
        "id": "0UXbFR-D0fm-"
      },
      "source": [
        "**The model estimates:**\n",
        "\n",
        " 𝑦̂ = -5.91 + 66.63 "
      ]
    },
    {
      "cell_type": "code",
      "execution_count": null,
      "metadata": {
        "colab": {
          "base_uri": "https://localhost:8080/"
        },
        "id": "ta_RwVkD3CiM",
        "outputId": "21ebf459-b314-40ac-a614-0bca7fb66e5e"
      },
      "outputs": [
        {
          "name": "stdout",
          "output_type": "stream",
          "text": [
            "Error medio Absoluto (MAE): 5.287283133809135\n",
            "Root Mean Squared Error : 7.27426391400127\n",
            "R2_score 0.5695617538713827\n"
          ]
        }
      ],
      "source": [
        "print('Error medio Absoluto (MAE):', mean_absolute_error(y_test,y_fit))\n",
        "print('Root Mean Squared Error :', np.sqrt(mean_squared_error(y_test,y_fit)))\n",
        "print('R2_score', r2_score(y_test,y_fit))"
      ]
    },
    {
      "cell_type": "markdown",
      "metadata": {
        "id": "_Rv-RJSnVQwR"
      },
      "source": [
        "## Regresion Polinomial\n"
      ]
    },
    {
      "cell_type": "code",
      "execution_count": null,
      "metadata": {
        "colab": {
          "base_uri": "https://localhost:8080/"
        },
        "id": "BXo0Hm56VQwS",
        "outputId": "115c5440-f477-46ee-fd37-591a6c26a088"
      },
      "outputs": [
        {
          "data": {
            "text/plain": [
              "LinearRegression()"
            ]
          },
          "execution_count": 282,
          "metadata": {},
          "output_type": "execute_result"
        }
      ],
      "source": [
        "poly_features = PolynomialFeatures(degree=2, include_bias=False)\n",
        "X_poly = poly_features.fit_transform(X_train)\n",
        "poly_lr = LinearRegression(fit_intercept=True)\n",
        "kfold = RepeatedKFold(n_splits=5, n_repeats=3)\n",
        "scores = cross_validate(poly_lr ,X_train,y_train,scoring=metricas,cv=kfold)\n",
        "resultados.append(scores)\n",
        "poly_lr.fit(X_poly,y_train)"
      ]
    },
    {
      "cell_type": "code",
      "execution_count": null,
      "metadata": {
        "colab": {
          "base_uri": "https://localhost:8080/",
          "height": 290
        },
        "id": "x6VHpqBqGw6L",
        "outputId": "0d265cb4-3094-4472-891d-ce42077dc535"
      },
      "outputs": [
        {
          "data": {
            "image/png": "[encoded data removed]",
            "text/plain": [
              "<Figure size 576x288 with 1 Axes>"
            ]
          },
          "metadata": {},
          "output_type": "display_data"
        }
      ],
      "source": [
        "X_poly = poly_features.transform(X_test)\n",
        "y_fit_poly = poly_lr.predict(X_poly)\n",
        "grafica(y_fit_poly)"
      ]
    },
    {
      "cell_type": "code",
      "execution_count": null,
      "metadata": {
        "colab": {
          "base_uri": "https://localhost:8080/"
        },
        "id": "1FqY9-I4VQwS",
        "outputId": "ae807d54-4784-4eb5-fa8a-92c5afa37330"
      },
      "outputs": [
        {
          "data": {
            "text/plain": [
              "(array([-15.79822837,   1.06832436]), 87.51583264485228)"
            ]
          },
          "execution_count": 284,
          "metadata": {},
          "output_type": "execute_result"
        }
      ],
      "source": [
        "poly_lr.coef_, poly_lr.intercept_"
      ]
    },
    {
      "cell_type": "markdown",
      "metadata": {
        "id": "rKOSwvnmVQwT"
      },
      "source": [
        "The model estimates:\n",
        "\n",
        "$\\hat{y} =  -15.79X +1.06X^2 + 87.51$"
      ]
    },
    {
      "cell_type": "code",
      "execution_count": null,
      "metadata": {
        "colab": {
          "base_uri": "https://localhost:8080/"
        },
        "id": "R3cesZwBG5vt",
        "outputId": "9e543ac9-d892-420c-bf7c-c399df8a8818"
      },
      "outputs": [
        {
          "name": "stdout",
          "output_type": "stream",
          "text": [
            "Error medio Absoluto (MAE): 5.287283133809135\n",
            "Root Mean Squared Error : 7.27426391400127\n",
            "R2_score 0.5695617538713829\n"
          ]
        }
      ],
      "source": [
        "print('Error medio Absoluto (MAE):', mean_absolute_error(y_order,y_fit_order))\n",
        "print('Root Mean Squared Error :', np.sqrt(mean_squared_error(y_order,y_fit_order)))\n",
        "print('R2_score', r2_score(y_order,y_fit_order))"
      ]
    },
    {
      "cell_type": "markdown",
      "metadata": {
        "id": "EA9ttRe6Mn01"
      },
      "source": [
        "## RIDGE"
      ]
    },
    {
      "cell_type": "code",
      "execution_count": null,
      "metadata": {
        "colab": {
          "base_uri": "https://localhost:8080/",
          "height": 290
        },
        "id": "l9c_7ML4NOsv",
        "outputId": "e7a1eea4-9c18-45ac-9e32-a05988ea0950"
      },
      "outputs": [
        {
          "data": {
            "image/png": "[encoded data removed]",
            "text/plain": [
              "<Figure size 576x288 with 1 Axes>"
            ]
          },
          "metadata": {},
          "output_type": "display_data"
        }
      ],
      "source": [
        "modelo_ridge = Pipeline([\n",
        "    ('poli_features',PolynomialFeatures(degree=2, include_bias=False)),\n",
        "    ('scaler', StandardScaler()),\n",
        "    ('ridge', Ridge(alpha=10, solver='cholesky', random_state=10))\n",
        "])\n",
        "\n",
        "kfold = RepeatedKFold(n_splits=5, n_repeats=3)\n",
        "scores = cross_validate(modelo_ridge ,X_train,y_train,scoring=metricas,cv=kfold)\n",
        "resultados.append(scores)\n",
        "\n",
        "modelo_ridge.fit(X_train, y_train)\n",
        "\n",
        "y_fit_ridge =modelo_ridge.predict(X_test)\n",
        "grafica(y_fit_ridge)"
      ]
    },
    {
      "cell_type": "code",
      "execution_count": null,
      "metadata": {
        "colab": {
          "base_uri": "https://localhost:8080/"
        },
        "id": "d-9vloeSPqGl",
        "outputId": "deed551d-4e76-49a7-e854-243d1575aef6"
      },
      "outputs": [
        {
          "data": {
            "text/plain": [
              "(array([-15.17093432,   7.56898045]), 40.20534356581247)"
            ]
          },
          "execution_count": 287,
          "metadata": {},
          "output_type": "execute_result"
        }
      ],
      "source": [
        "modelo_ridge['ridge'].coef_, modelo_ridge['ridge'].intercept_"
      ]
    },
    {
      "cell_type": "markdown",
      "metadata": {
        "id": "OZWOilm-N_7R"
      },
      "source": [
        "The model estimates:\n",
        "\n",
        "$\\hat{y} =  -15.17X +7.56X^2 + 40.20$"
      ]
    },
    {
      "cell_type": "code",
      "execution_count": null,
      "metadata": {
        "colab": {
          "base_uri": "https://localhost:8080/"
        },
        "id": "lMzPVhLJRUOD",
        "outputId": "46f5bbf6-0c57-481f-e1b7-cc74e3f5e244"
      },
      "outputs": [
        {
          "name": "stdout",
          "output_type": "stream",
          "text": [
            "Error medio Absoluto (MAE): 10.30409991663711\n",
            "Root Mean Squared Error : 14.018357476014254\n",
            "R2_score -0.5985528803595088\n"
          ]
        }
      ],
      "source": [
        "print('Error medio Absoluto (MAE):', mean_absolute_error(y_order,y_fit_ridge))\n",
        "print('Root Mean Squared Error :', np.sqrt(mean_squared_error(y_order,y_fit_ridge)))\n",
        "print('R2_score', r2_score(y_order,y_fit_ridge))"
      ]
    },
    {
      "cell_type": "markdown",
      "metadata": {
        "id": "OKgGxkwxRzIH"
      },
      "source": [
        "## LASSO"
      ]
    },
    {
      "cell_type": "code",
      "execution_count": null,
      "metadata": {
        "colab": {
          "base_uri": "https://localhost:8080/",
          "height": 290
        },
        "id": "1QztjXGqR7_N",
        "outputId": "03a26ea7-5688-4c2f-b318-0febd5fe9335"
      },
      "outputs": [
        {
          "data": {
            "image/png": "[encoded data removed]",
            "text/plain": [
              "<Figure size 576x288 with 1 Axes>"
            ]
          },
          "metadata": {},
          "output_type": "display_data"
        }
      ],
      "source": [
        "modelo_lasso = Pipeline([\n",
        "    ('poli_features',PolynomialFeatures(degree=2, include_bias=False)),\n",
        "    ('scaler', StandardScaler()),\n",
        "    ('lasso', Lasso(alpha=10, random_state=10))\n",
        "])\n",
        "\n",
        "kfold = RepeatedKFold(n_splits=5, n_repeats=3)\n",
        "scores = cross_validate(modelo_lasso ,X_train,y_train,scoring=metricas,cv=kfold)\n",
        "resultados.append(scores)\n",
        "\n",
        "modelo_lasso.fit(X_train, y_train)\n",
        "\n",
        "y_fit_lasso = modelo_lasso.predict(X_test)\n",
        "grafica(y_fit_lasso)"
      ]
    },
    {
      "cell_type": "code",
      "execution_count": null,
      "metadata": {
        "colab": {
          "base_uri": "https://localhost:8080/"
        },
        "id": "1kmDvwFQSzA5",
        "outputId": "b4d89802-55ea-41eb-9d01-865fb96e54e6"
      },
      "outputs": [
        {
          "data": {
            "text/plain": [
              "(array([-0., -0.]), 40.2053435658125)"
            ]
          },
          "execution_count": 290,
          "metadata": {},
          "output_type": "execute_result"
        }
      ],
      "source": [
        "modelo_lasso['lasso'].coef_,modelo_lasso['lasso'].intercept_"
      ]
    },
    {
      "cell_type": "markdown",
      "metadata": {
        "id": "LBJ479CAUvY_"
      },
      "source": [
        "The model estimates:\n",
        "\n",
        "$\\hat{y} =  -0X - 0X^2 + 40.20$"
      ]
    },
    {
      "cell_type": "code",
      "execution_count": null,
      "metadata": {
        "colab": {
          "base_uri": "https://localhost:8080/"
        },
        "id": "TGTIbt4EU3Lz",
        "outputId": "27941310-7d4c-4c76-f5c7-7bb132dca95e"
      },
      "outputs": [
        {
          "name": "stdout",
          "output_type": "stream",
          "text": [
            "Error medio Absoluto (MAE): 8.028502438036874\n",
            "Root Mean Squared Error : 11.113634475035296\n",
            "R2_score -0.004719806882786282\n"
          ]
        }
      ],
      "source": [
        "print('Error medio Absoluto (MAE):', mean_absolute_error(y_order,y_fit_lasso))\n",
        "print('Root Mean Squared Error :', np.sqrt(mean_squared_error(y_order,y_fit_lasso)))\n",
        "print('R2_score', r2_score(y_order,y_fit_lasso))"
      ]
    },
    {
      "cell_type": "markdown",
      "metadata": {
        "id": "irJ6W0fWVcLf"
      },
      "source": [
        "## GRAFICAS"
      ]
    },
    {
      "cell_type": "markdown",
      "metadata": {
        "id": "n2rqdfsaVf1l"
      },
      "source": [
        "### R2"
      ]
    },
    {
      "cell_type": "code",
      "execution_count": null,
      "metadata": {
        "colab": {
          "base_uri": "https://localhost:8080/",
          "height": 268
        },
        "id": "1nY6bSdlViKe",
        "outputId": "b8efd5d6-7aed-4a6b-db4e-4d613277f2c9"
      },
      "outputs": [
        {
          "data": {
            "image/png": "[encoded data removed]",
            "text/plain": [
              "<Figure size 576x288 with 1 Axes>"
            ]
          },
          "metadata": {},
          "output_type": "display_data"
        }
      ],
      "source": [
        "sns.set(rc={'figure.figsize':(8,4)})\n",
        "\n",
        "R2list = list()\n",
        "for i in range(len(resultados)):\n",
        "  r2 = resultados[i]['test_R2']\n",
        "  R2list.append(r2)\n",
        "\n",
        "plt.boxplot(R2list, labels=['LR','POLY','RIDGE','LASSO'],showmeans=True)\n",
        "plt.show()"
      ]
    },
    {
      "cell_type": "markdown",
      "metadata": {
        "id": "ADCVKz-PYoSK"
      },
      "source": [
        "### MAE"
      ]
    },
    {
      "cell_type": "code",
      "execution_count": null,
      "metadata": {
        "colab": {
          "base_uri": "https://localhost:8080/",
          "height": 268
        },
        "id": "gjs5kBWeYubI",
        "outputId": "9fcd7145-9901-429a-c805-ca95d831229e"
      },
      "outputs": [
        {
          "data": {
            "image/png": "[encoded data removed]",
            "text/plain": [
              "<Figure size 576x288 with 1 Axes>"
            ]
          },
          "metadata": {},
          "output_type": "display_data"
        }
      ],
      "source": [
        "sns.set(rc={'figure.figsize':(8,4)})\n",
        "\n",
        "MAElist = list()\n",
        "for i in range(len(resultados)):\n",
        "  mae = resultados[i]['test_MAE']\n",
        "  MAElist.append(mae)\n",
        "\n",
        "plt.boxplot(MAElist, labels=['LR','POLY','RIDGE','LASSO'],showmeans=True)\n",
        "plt.show() "
      ]
    },
    {
      "cell_type": "markdown",
      "metadata": {
        "id": "rEySeONoZ1kC"
      },
      "source": [
        "## Conclusiones\n",
        "\n",
        "Revisando los modelos de la Regresion Lineal, Regresion Polinomial, Ridge y Lasso para R2 y MAE, podemos concluir que el mejor modelo es RIDGE R2, con el siguiente modelo:\n",
        "\n",
        "*   𝑦̂ =−15.17𝑋+7.56𝑋2+40.20\n",
        "\n",
        "Con los siguientes valores:\n",
        "\n",
        "* Error medio Absoluto (MAE): 10.30409991663711\n",
        "* Root Mean Squared Error : 14.018357476014254\n",
        "* R2_score -0.5985528803595088\n",
        "\n",
        "Se uso un porcentaje del 80% de Informacion para Entrenamiento y 20% para evaluación\n",
        "\n"
      ]
    },
    {
      "cell_type": "markdown",
      "metadata": {
        "id": "I3yLAeEHKt5I"
      },
      "source": [
        "# Ejercicio 2"
      ]
    },
    {
      "cell_type": "markdown",
      "metadata": {
        "id": "1LK_duZmi8y0"
      },
      "source": [
        "Ejercicio 2. Encuentra el mejor regresor para los datos de las casas:\n",
        "\n",
        ">Divide los datos. Utiliza la función train_test_split (ya esta en el notebook).\n",
        "\n",
        ">Regresión Múltiple Lineal.\n",
        "* Realiza la regresión lineal: modelo generado (ecuación), sus errores y r cuadrada.\n",
        "\n",
        ">Regresión Múltiple Polinomial.\n",
        "* Realiza la regresión polinomial completa, tu modelo generado (ecuación), sus errores y r cuadrada.\n",
        "\n",
        ">Realiza la regresión con Ridge y Lasso. Incluye la ecuación de tu modelo, errores y r cuadrada.\n",
        "\n",
        ">Finalmente gráfica :\n",
        "* MAE (de los cuatro métodos)\n",
        "* R2 (de los cuatro métodos)\n",
        "* Explica tus resultados, que método se aproxima mejor, ¿por qué?, ¿qué porcentajes de entrenamiento y evaluación usaste? ¿Que error tienes?, ¿es bueno?, ¿Cómo lo sabes?"
      ]
    },
    {
      "cell_type": "code",
      "execution_count": null,
      "metadata": {
        "colab": {
          "base_uri": "https://localhost:8080/",
          "height": 364
        },
        "id": "gD44CfJHLUsl",
        "outputId": "5a728c51-eb39-4f6d-e847-2dca1bb9ffc5"
      },
      "outputs": [
        {
          "data": {
            "text/html": [
              "\n",
              "  <div id=\"df-9a43ff2b-a032-4458-a02f-a0631e301961\">\n",
              "    <div class=\"colab-df-container\">\n",
              "      <div>\n",
              "<style scoped>\n",
              "    .dataframe tbody tr th:only-of-type {\n",
              "        vertical-align: middle;\n",
              "    }\n",
              "\n",
              "    .dataframe tbody tr th {\n",
              "        vertical-align: top;\n",
              "    }\n",
              "\n",
              "    .dataframe thead th {\n",
              "        text-align: right;\n",
              "    }\n",
              "</style>\n",
              "<table border=\"1\" class=\"dataframe\">\n",
              "  <thead>\n",
              "    <tr style=\"text-align: right;\">\n",
              "      <th></th>\n",
              "      <th>id</th>\n",
              "      <th>price</th>\n",
              "      <th>bedrooms</th>\n",
              "      <th>bathrooms</th>\n",
              "      <th>sqft_living</th>\n",
              "      <th>sqft_lot</th>\n",
              "      <th>floors</th>\n",
              "      <th>waterfront</th>\n",
              "      <th>view</th>\n",
              "      <th>condition</th>\n",
              "      <th>grade</th>\n",
              "      <th>sqft_above</th>\n",
              "      <th>sqft_basement</th>\n",
              "      <th>yr_built</th>\n",
              "      <th>yr_renovated</th>\n",
              "      <th>zipcode</th>\n",
              "      <th>lat</th>\n",
              "      <th>long</th>\n",
              "      <th>sqft_living15</th>\n",
              "      <th>sqft_lot15</th>\n",
              "    </tr>\n",
              "  </thead>\n",
              "  <tbody>\n",
              "    <tr>\n",
              "      <th>count</th>\n",
              "      <td>2.161300e+04</td>\n",
              "      <td>2.161300e+04</td>\n",
              "      <td>21613.000000</td>\n",
              "      <td>21613.000000</td>\n",
              "      <td>21613.000000</td>\n",
              "      <td>2.161300e+04</td>\n",
              "      <td>21613.000000</td>\n",
              "      <td>21613.000000</td>\n",
              "      <td>21613.000000</td>\n",
              "      <td>21613.000000</td>\n",
              "      <td>21613.000000</td>\n",
              "      <td>21613.000000</td>\n",
              "      <td>21613.000000</td>\n",
              "      <td>21613.000000</td>\n",
              "      <td>21613.000000</td>\n",
              "      <td>21613.000000</td>\n",
              "      <td>21613.000000</td>\n",
              "      <td>21613.000000</td>\n",
              "      <td>21613.000000</td>\n",
              "      <td>21613.000000</td>\n",
              "    </tr>\n",
              "    <tr>\n",
              "      <th>mean</th>\n",
              "      <td>4.580302e+09</td>\n",
              "      <td>5.400881e+05</td>\n",
              "      <td>3.370842</td>\n",
              "      <td>2.114757</td>\n",
              "      <td>2079.899736</td>\n",
              "      <td>1.510697e+04</td>\n",
              "      <td>1.494309</td>\n",
              "      <td>0.007542</td>\n",
              "      <td>0.234303</td>\n",
              "      <td>3.409430</td>\n",
              "      <td>7.656873</td>\n",
              "      <td>1788.390691</td>\n",
              "      <td>291.509045</td>\n",
              "      <td>1971.005136</td>\n",
              "      <td>84.402258</td>\n",
              "      <td>98077.939805</td>\n",
              "      <td>47.560053</td>\n",
              "      <td>-122.213896</td>\n",
              "      <td>1986.552492</td>\n",
              "      <td>12768.455652</td>\n",
              "    </tr>\n",
              "    <tr>\n",
              "      <th>std</th>\n",
              "      <td>2.876566e+09</td>\n",
              "      <td>3.671272e+05</td>\n",
              "      <td>0.930062</td>\n",
              "      <td>0.770163</td>\n",
              "      <td>918.440897</td>\n",
              "      <td>4.142051e+04</td>\n",
              "      <td>0.539989</td>\n",
              "      <td>0.086517</td>\n",
              "      <td>0.766318</td>\n",
              "      <td>0.650743</td>\n",
              "      <td>1.175459</td>\n",
              "      <td>828.090978</td>\n",
              "      <td>442.575043</td>\n",
              "      <td>29.373411</td>\n",
              "      <td>401.679240</td>\n",
              "      <td>53.505026</td>\n",
              "      <td>0.138564</td>\n",
              "      <td>0.140828</td>\n",
              "      <td>685.391304</td>\n",
              "      <td>27304.179631</td>\n",
              "    </tr>\n",
              "    <tr>\n",
              "      <th>min</th>\n",
              "      <td>1.000102e+06</td>\n",
              "      <td>7.500000e+04</td>\n",
              "      <td>0.000000</td>\n",
              "      <td>0.000000</td>\n",
              "      <td>290.000000</td>\n",
              "      <td>5.200000e+02</td>\n",
              "      <td>1.000000</td>\n",
              "      <td>0.000000</td>\n",
              "      <td>0.000000</td>\n",
              "      <td>1.000000</td>\n",
              "      <td>1.000000</td>\n",
              "      <td>290.000000</td>\n",
              "      <td>0.000000</td>\n",
              "      <td>1900.000000</td>\n",
              "      <td>0.000000</td>\n",
              "      <td>98001.000000</td>\n",
              "      <td>47.155900</td>\n",
              "      <td>-122.519000</td>\n",
              "      <td>399.000000</td>\n",
              "      <td>651.000000</td>\n",
              "    </tr>\n",
              "    <tr>\n",
              "      <th>25%</th>\n",
              "      <td>2.123049e+09</td>\n",
              "      <td>3.219500e+05</td>\n",
              "      <td>3.000000</td>\n",
              "      <td>1.750000</td>\n",
              "      <td>1427.000000</td>\n",
              "      <td>5.040000e+03</td>\n",
              "      <td>1.000000</td>\n",
              "      <td>0.000000</td>\n",
              "      <td>0.000000</td>\n",
              "      <td>3.000000</td>\n",
              "      <td>7.000000</td>\n",
              "      <td>1190.000000</td>\n",
              "      <td>0.000000</td>\n",
              "      <td>1951.000000</td>\n",
              "      <td>0.000000</td>\n",
              "      <td>98033.000000</td>\n",
              "      <td>47.471000</td>\n",
              "      <td>-122.328000</td>\n",
              "      <td>1490.000000</td>\n",
              "      <td>5100.000000</td>\n",
              "    </tr>\n",
              "    <tr>\n",
              "      <th>50%</th>\n",
              "      <td>3.904930e+09</td>\n",
              "      <td>4.500000e+05</td>\n",
              "      <td>3.000000</td>\n",
              "      <td>2.250000</td>\n",
              "      <td>1910.000000</td>\n",
              "      <td>7.618000e+03</td>\n",
              "      <td>1.500000</td>\n",
              "      <td>0.000000</td>\n",
              "      <td>0.000000</td>\n",
              "      <td>3.000000</td>\n",
              "      <td>7.000000</td>\n",
              "      <td>1560.000000</td>\n",
              "      <td>0.000000</td>\n",
              "      <td>1975.000000</td>\n",
              "      <td>0.000000</td>\n",
              "      <td>98065.000000</td>\n",
              "      <td>47.571800</td>\n",
              "      <td>-122.230000</td>\n",
              "      <td>1840.000000</td>\n",
              "      <td>7620.000000</td>\n",
              "    </tr>\n",
              "    <tr>\n",
              "      <th>75%</th>\n",
              "      <td>7.308900e+09</td>\n",
              "      <td>6.450000e+05</td>\n",
              "      <td>4.000000</td>\n",
              "      <td>2.500000</td>\n",
              "      <td>2550.000000</td>\n",
              "      <td>1.068800e+04</td>\n",
              "      <td>2.000000</td>\n",
              "      <td>0.000000</td>\n",
              "      <td>0.000000</td>\n",
              "      <td>4.000000</td>\n",
              "      <td>8.000000</td>\n",
              "      <td>2210.000000</td>\n",
              "      <td>560.000000</td>\n",
              "      <td>1997.000000</td>\n",
              "      <td>0.000000</td>\n",
              "      <td>98118.000000</td>\n",
              "      <td>47.678000</td>\n",
              "      <td>-122.125000</td>\n",
              "      <td>2360.000000</td>\n",
              "      <td>10083.000000</td>\n",
              "    </tr>\n",
              "    <tr>\n",
              "      <th>max</th>\n",
              "      <td>9.900000e+09</td>\n",
              "      <td>7.700000e+06</td>\n",
              "      <td>33.000000</td>\n",
              "      <td>8.000000</td>\n",
              "      <td>13540.000000</td>\n",
              "      <td>1.651359e+06</td>\n",
              "      <td>3.500000</td>\n",
              "      <td>1.000000</td>\n",
              "      <td>4.000000</td>\n",
              "      <td>5.000000</td>\n",
              "      <td>13.000000</td>\n",
              "      <td>9410.000000</td>\n",
              "      <td>4820.000000</td>\n",
              "      <td>2015.000000</td>\n",
              "      <td>2015.000000</td>\n",
              "      <td>98199.000000</td>\n",
              "      <td>47.777600</td>\n",
              "      <td>-121.315000</td>\n",
              "      <td>6210.000000</td>\n",
              "      <td>871200.000000</td>\n",
              "    </tr>\n",
              "  </tbody>\n",
              "</table>\n",
              "</div>\n",
              "      <button class=\"colab-df-convert\" onclick=\"convertToInteractive('df-9a43ff2b-a032-4458-a02f-a0631e301961')\"\n",
              "              title=\"Convert this dataframe to an interactive table.\"\n",
              "              style=\"display:none;\">\n",
              "        \n",
              "  <svg xmlns=\"http://www.w3.org/2000/svg\" height=\"24px\"viewBox=\"0 0 24 24\"\n",
              "       width=\"24px\">\n",
              "    <path d=\"M0 0h24v24H0V0z\" fill=\"none\"/>\n",
              "    <path d=\"M18.56 5.44l.94 2.06.94-2.06 2.06-.94-2.06-.94-.94-2.06-.94 2.06-2.06.94zm-11 1L8.5 8.5l.94-2.06 2.06-.94-2.06-.94L8.5 2.5l-.94 2.06-2.06.94zm10 10l.94 2.06.94-2.06 2.06-.94-2.06-.94-.94-2.06-.94 2.06-2.06.94z\"/><path d=\"M17.41 7.96l-1.37-1.37c-.4-.4-.92-.59-1.43-.59-.52 0-1.04.2-1.43.59L10.3 9.45l-7.72 7.72c-.78.78-.78 2.05 0 2.83L4 21.41c.39.39.9.59 1.41.59.51 0 1.02-.2 1.41-.59l7.78-7.78 2.81-2.81c.8-.78.8-2.07 0-2.86zM5.41 20L4 18.59l7.72-7.72 1.47 1.35L5.41 20z\"/>\n",
              "  </svg>\n",
              "      </button>\n",
              "      \n",
              "  <style>\n",
              "    .colab-df-container {\n",
              "      display:flex;\n",
              "      flex-wrap:wrap;\n",
              "      gap: 12px;\n",
              "    }\n",
              "\n",
              "    .colab-df-convert {\n",
              "      background-color: #E8F0FE;\n",
              "      border: none;\n",
              "      border-radius: 50%;\n",
              "      cursor: pointer;\n",
              "      display: none;\n",
              "      fill: #1967D2;\n",
              "      height: 32px;\n",
              "      padding: 0 0 0 0;\n",
              "      width: 32px;\n",
              "    }\n",
              "\n",
              "    .colab-df-convert:hover {\n",
              "      background-color: #E2EBFA;\n",
              "      box-shadow: 0px 1px 2px rgba(60, 64, 67, 0.3), 0px 1px 3px 1px rgba(60, 64, 67, 0.15);\n",
              "      fill: #174EA6;\n",
              "    }\n",
              "\n",
              "    [theme=dark] .colab-df-convert {\n",
              "      background-color: #3B4455;\n",
              "      fill: #D2E3FC;\n",
              "    }\n",
              "\n",
              "    [theme=dark] .colab-df-convert:hover {\n",
              "      background-color: #434B5C;\n",
              "      box-shadow: 0px 1px 3px 1px rgba(0, 0, 0, 0.15);\n",
              "      filter: drop-shadow(0px 1px 2px rgba(0, 0, 0, 0.3));\n",
              "      fill: #FFFFFF;\n",
              "    }\n",
              "  </style>\n",
              "\n",
              "      <script>\n",
              "        const buttonEl =\n",
              "          document.querySelector('#df-9a43ff2b-a032-4458-a02f-a0631e301961 button.colab-df-convert');\n",
              "        buttonEl.style.display =\n",
              "          google.colab.kernel.accessAllowed ? 'block' : 'none';\n",
              "\n",
              "        async function convertToInteractive(key) {\n",
              "          const element = document.querySelector('#df-9a43ff2b-a032-4458-a02f-a0631e301961');\n",
              "          const dataTable =\n",
              "            await google.colab.kernel.invokeFunction('convertToInteractive',\n",
              "                                                     [key], {});\n",
              "          if (!dataTable) return;\n",
              "\n",
              "          const docLinkHtml = 'Like what you see? Visit the ' +\n",
              "            '<a target=\"_blank\" href=https://colab.research.google.com/notebooks/data_table.ipynb>data table notebook</a>'\n",
              "            + ' to learn more about interactive tables.';\n",
              "          element.innerHTML = '';\n",
              "          dataTable['output_type'] = 'display_data';\n",
              "          await google.colab.output.renderOutput(dataTable, element);\n",
              "          const docLink = document.createElement('div');\n",
              "          docLink.innerHTML = docLinkHtml;\n",
              "          element.appendChild(docLink);\n",
              "        }\n",
              "      </script>\n",
              "    </div>\n",
              "  </div>\n",
              "  "
            ],
            "text/plain": [
              "                 id         price      bedrooms     bathrooms   sqft_living  \\\n",
              "count  2.161300e+04  2.161300e+04  21613.000000  21613.000000  21613.000000   \n",
              "mean   4.580302e+09  5.400881e+05      3.370842      2.114757   2079.899736   \n",
              "std    2.876566e+09  3.671272e+05      0.930062      0.770163    918.440897   \n",
              "min    1.000102e+06  7.500000e+04      0.000000      0.000000    290.000000   \n",
              "25%    2.123049e+09  3.219500e+05      3.000000      1.750000   1427.000000   \n",
              "50%    3.904930e+09  4.500000e+05      3.000000      2.250000   1910.000000   \n",
              "75%    7.308900e+09  6.450000e+05      4.000000      2.500000   2550.000000   \n",
              "max    9.900000e+09  7.700000e+06     33.000000      8.000000  13540.000000   \n",
              "\n",
              "           sqft_lot        floors    waterfront          view     condition  \\\n",
              "count  2.161300e+04  21613.000000  21613.000000  21613.000000  21613.000000   \n",
              "mean   1.510697e+04      1.494309      0.007542      0.234303      3.409430   \n",
              "std    4.142051e+04      0.539989      0.086517      0.766318      0.650743   \n",
              "min    5.200000e+02      1.000000      0.000000      0.000000      1.000000   \n",
              "25%    5.040000e+03      1.000000      0.000000      0.000000      3.000000   \n",
              "50%    7.618000e+03      1.500000      0.000000      0.000000      3.000000   \n",
              "75%    1.068800e+04      2.000000      0.000000      0.000000      4.000000   \n",
              "max    1.651359e+06      3.500000      1.000000      4.000000      5.000000   \n",
              "\n",
              "              grade    sqft_above  sqft_basement      yr_built  yr_renovated  \\\n",
              "count  21613.000000  21613.000000   21613.000000  21613.000000  21613.000000   \n",
              "mean       7.656873   1788.390691     291.509045   1971.005136     84.402258   \n",
              "std        1.175459    828.090978     442.575043     29.373411    401.679240   \n",
              "min        1.000000    290.000000       0.000000   1900.000000      0.000000   \n",
              "25%        7.000000   1190.000000       0.000000   1951.000000      0.000000   \n",
              "50%        7.000000   1560.000000       0.000000   1975.000000      0.000000   \n",
              "75%        8.000000   2210.000000     560.000000   1997.000000      0.000000   \n",
              "max       13.000000   9410.000000    4820.000000   2015.000000   2015.000000   \n",
              "\n",
              "            zipcode           lat          long  sqft_living15     sqft_lot15  \n",
              "count  21613.000000  21613.000000  21613.000000   21613.000000   21613.000000  \n",
              "mean   98077.939805     47.560053   -122.213896    1986.552492   12768.455652  \n",
              "std       53.505026      0.138564      0.140828     685.391304   27304.179631  \n",
              "min    98001.000000     47.155900   -122.519000     399.000000     651.000000  \n",
              "25%    98033.000000     47.471000   -122.328000    1490.000000    5100.000000  \n",
              "50%    98065.000000     47.571800   -122.230000    1840.000000    7620.000000  \n",
              "75%    98118.000000     47.678000   -122.125000    2360.000000   10083.000000  \n",
              "max    98199.000000     47.777600   -121.315000    6210.000000  871200.000000  "
            ]
          },
          "execution_count": 20,
          "metadata": {},
          "output_type": "execute_result"
        }
      ],
      "source": [
        "# LECTURA DEL DATASET\n",
        "df2 = pd.read_csv('https://raw.githubusercontent.com/marypazrf/bdd/main/kc_house_data.csv')\n",
        "df2.describe()"
      ]
    },
    {
      "cell_type": "code",
      "execution_count": null,
      "metadata": {
        "id": "MPhwKLBRkOGI"
      },
      "outputs": [],
      "source": [
        "# LIMPIAMOS LA DATA DE DATOS QUE NO SON NECESARIOS\n",
        "df2.drop('id',axis=1,inplace=True)\n",
        "df2.drop('zipcode',axis=1,inplace=True)\n",
        "df2.drop('lat',axis=1,inplace=True)\n",
        "df2.drop('long',axis=1,inplace=True)\n",
        "df2.drop('date', axis=1, inplace=True)"
      ]
    },
    {
      "cell_type": "code",
      "execution_count": null,
      "metadata": {
        "id": "4VRoWzkux2vV"
      },
      "outputs": [],
      "source": [
        "def graficaM(y_fit):\n",
        "  plt.scatter(X, y)\n",
        "\n",
        "  order = np.argsort(X_test.values.ravel())\n",
        "  x_order = X_test.values.ravel()[order]\n",
        "  y_order = y_test.values.ravel()[order]\n",
        "  y_fit_order = y_fit[order]\n",
        "\n",
        "  plt.plot(x_order, y_fit_order, 'r-', linewidth=2, label='Predictions')\n",
        "  plt.xlabel('$X$', fontsize=18)\n",
        "  plt.ylabel('$y$', fontsize=18)\n",
        "  plt.legend(loc='upper left',fontsize=14)"
      ]
    },
    {
      "cell_type": "code",
      "execution_count": null,
      "metadata": {
        "id": "m-s9ZyVv5iHC"
      },
      "outputs": [],
      "source": [
        "# SPLIT  DE LA MUESTRA\n",
        "mX = df2.columns.drop('price')\n",
        "\n",
        "X = df2[mX] # X\n",
        "y = df2['price'] # y\n",
        "\n",
        "X_train, X_test, y_train, y_test = train_test_split(X,y,train_size=0.80,random_state=10)\n",
        "\n",
        "# METRICAS NECESARIAS\n",
        "metricas = {\n",
        "    \"R2\":\"r2\",\n",
        "    \"MAE\":'neg_mean_absolute_error'\n",
        "}\n",
        "\n",
        "resultados = list()"
      ]
    },
    {
      "cell_type": "markdown",
      "metadata": {
        "id": "EYLWz9rOxRlo"
      },
      "source": [
        "## Regresion Lineal Multiple"
      ]
    },
    {
      "cell_type": "code",
      "execution_count": null,
      "metadata": {
        "id": "bYxXNDm2xUZQ"
      },
      "outputs": [],
      "source": [
        "# REGRESION LINEAL\n",
        "LRM = LinearRegression(fit_intercept=True)\n",
        "kfold = RepeatedKFold(n_splits=5, n_repeats=3)\n",
        "scores = cross_validate(LRM,X_train,y_train,scoring=metricas,cv=kfold)\n",
        "resultados.append(scores)\n",
        "LRM.fit(X_train,y_train)\n",
        "y_fit = LRM.predict(X_test)"
      ]
    },
    {
      "cell_type": "code",
      "execution_count": null,
      "metadata": {
        "colab": {
          "base_uri": "https://localhost:8080/"
        },
        "id": "jRehgEkIxlRE",
        "outputId": "1d74009b-a082-4557-e726-4b1db1298f24"
      },
      "outputs": [
        {
          "name": "stdout",
          "output_type": "stream",
          "text": [
            "[-3.76683274e+04  4.27364791e+04  1.02300342e+02 -7.69755024e-02\n",
            "  2.31889484e+04  5.51599951e+05  4.41166108e+04  2.09451037e+04\n",
            "  1.24305790e+05  4.91681504e+01  5.31321920e+01 -3.46978539e+03\n",
            "  4.68331247e+00  2.99056709e+01 -4.58858771e-01] 5972932.920183142\n"
          ]
        }
      ],
      "source": [
        "# OBTENEMOS LOS VALORES \n",
        "print(LRM.coef_.ravel(), LRM.intercept_)"
      ]
    },
    {
      "cell_type": "markdown",
      "metadata": {
        "id": "8SIQOws0zRAg"
      },
      "source": [
        "The model estimates:\n",
        "\n",
        "𝑦̂ =-3.76𝑋1 + 4.27𝑋2 + 1.02X3 - 7.69X4 + 2.31X5 + 5.51X6 + 4.41X7 + 2.09X8 + 1.24 X9 + 4.91X10 + 5.31X11 - 3.46X12 + 4.68X13 + 2.99X14 - 4.58X15 + 5972932.92"
      ]
    },
    {
      "cell_type": "code",
      "execution_count": null,
      "metadata": {
        "colab": {
          "base_uri": "https://localhost:8080/"
        },
        "id": "hlxGpVkn19zr",
        "outputId": "02b21706-d977-4eb2-b860-368d649e0190"
      },
      "outputs": [
        {
          "name": "stdout",
          "output_type": "stream",
          "text": [
            "Error medio Absoluto (MAE): 139557.22435871416\n",
            "Root Mean Squared Error : 224280.2878492429\n",
            "R2_score 0.655690716581879\n"
          ]
        }
      ],
      "source": [
        "print('Error medio Absoluto (MAE):', mean_absolute_error(y_test,y_fit))\n",
        "print('Root Mean Squared Error :', np.sqrt(mean_squared_error(y_test,y_fit)))\n",
        "print('R2_score', r2_score(y_test,y_fit))"
      ]
    },
    {
      "cell_type": "markdown",
      "metadata": {
        "id": "5uZe-o4B2wKn"
      },
      "source": [
        "### Regresion Polinomial Multiple"
      ]
    },
    {
      "cell_type": "code",
      "execution_count": null,
      "metadata": {
        "id": "_8BTnU3A23LD"
      },
      "outputs": [],
      "source": [
        "poly_features = PolynomialFeatures(degree=2, include_bias=False)\n",
        "X_poly = poly_features.fit_transform(X_train)\n",
        "poly_lr = LinearRegression(fit_intercept=True)\n",
        "kfold = RepeatedKFold(n_splits=5, n_repeats=3)\n",
        "scores = cross_validate(poly_lr ,X_train,y_train,scoring=metricas,cv=kfold)\n",
        "resultados.append(scores)\n",
        "poly_lr.fit(X_poly,y_train)\n",
        "X_poly_transform = poly_features.transform(X_test)\n",
        "y_fit_poly = poly_lr.predict(X_poly_transform)\n"
      ]
    },
    {
      "cell_type": "code",
      "execution_count": null,
      "metadata": {
        "colab": {
          "base_uri": "https://localhost:8080/"
        },
        "id": "IL3BySMd3BK7",
        "outputId": "5131ade1-234f-46a3-8848-9aaedb5b1b02"
      },
      "outputs": [
        {
          "name": "stdout",
          "output_type": "stream",
          "text": [
            "[ 1.08105215e+06 -1.02221957e+06 -1.01827869e+03 -3.63059434e+01\n",
            " -2.11606976e+06 -3.98422047e+06 -3.12993867e+05  5.30011189e+05\n",
            "  1.27469467e+06 -4.95704771e+02 -2.67320857e+02 -7.27527747e+04\n",
            " -3.38519349e+03  4.03130255e+03 -2.14745422e+01  8.62578909e+02\n",
            "  3.73270565e+03 -1.43758738e+01  2.50428132e-01  1.70733704e+04\n",
            " -1.39743510e+03  3.00863534e+02 -2.44882404e+03 -2.93344801e+03\n",
            " -3.73308824e+00 -1.23352901e+01 -5.58205558e+02 -6.70675743e+00\n",
            "  1.85973107e+01  6.09189442e-02 -1.11567570e+04  1.93913879e+01\n",
            " -5.52683965e-01 -2.10724190e+04  6.55085208e+04  2.66266651e+03\n",
            " -4.00515058e+03  1.46476016e+04  1.00098064e+01  9.77850349e+00\n",
            "  5.04864921e+02 -2.11325574e+01 -1.69104967e+01  4.61692289e-01\n",
            "  1.51860305e+00  1.07165989e+01 -1.70106330e+01  8.40224936e+01\n",
            " -5.97597995e+00  8.29189236e+00  2.72373361e+01 -7.26580676e-01\n",
            " -1.52941126e+00  1.44429615e+00 -2.06890608e-02  1.18726349e+00\n",
            "  2.57006355e+00  9.03150067e-07  3.23923293e-01  1.39536242e-01\n",
            "  1.22170938e-02  4.12774467e-02  2.33804439e-01 -1.07174406e+01\n",
            " -1.07169748e+01  1.76381581e-02  4.06355830e-05  3.34059354e-04\n",
            "  3.12714837e-06  2.41286838e+04 -8.73411542e+04 -3.58303696e+03\n",
            "  3.48926648e+04 -1.10498724e+03 -3.07373699e+01  1.37293573e+01\n",
            "  1.01847567e+03  1.18022548e+01 -4.95450971e+00 -3.74103840e-01\n",
            " -3.98422606e+06  5.14088564e+04  3.80389709e+04 -1.22284818e+05\n",
            "  7.44211924e+01  9.60132644e+00  4.16918955e+03 -7.10090031e+01\n",
            "  2.46263361e+02 -1.30963906e+00  5.44550229e+03  7.10958722e+03\n",
            "  1.43218732e+04  5.14395843e+00 -1.11196695e+01  9.83957697e+01\n",
            " -1.16580385e+01 -1.41002660e+00 -1.84949138e-01  3.71767762e+03\n",
            " -5.37274758e+03 -2.80110755e+00  1.10846437e+01 -3.17932644e+02\n",
            " -2.26483241e+01  4.92576799e+01 -1.37876363e-01  8.27872631e+03\n",
            "  1.39964253e+01  1.32420792e+01 -6.67753564e+02 -7.37233486e+00\n",
            " -3.21012872e+01 -6.97978130e-01 -7.80969065e-01 -7.76130881e-01\n",
            " -7.64779445e-01  3.96737298e-02 -1.19426453e+00 -2.56985651e+00\n",
            " -5.23901920e-02 -8.90735997e-01  4.49243241e-02 -1.17085905e+00\n",
            " -2.57068779e+00  1.97838454e+01  5.80171043e-01 -2.06164201e+00\n",
            "  1.29918004e-02  1.15840737e+00  6.46267268e-02 -1.66671729e-04\n",
            "  3.68383726e-02 -6.44535758e-05  2.09896825e-07] 67060593.34670207\n"
          ]
        }
      ],
      "source": [
        "# OBTENEMOS LOS VALORES \n",
        "print(poly_lr.coef_.ravel(), poly_lr.intercept_)"
      ]
    },
    {
      "cell_type": "markdown",
      "metadata": {
        "id": "_UwZSUwn3NxV"
      },
      "source": [
        "The model estimates:\n",
        "\n",
        "𝑦̂ =1.08𝑋1 ..... + 2.09X135 + 67060593.34"
      ]
    },
    {
      "cell_type": "code",
      "execution_count": null,
      "metadata": {
        "id": "on1SzeoE4y_Y"
      },
      "outputs": [],
      "source": [
        "order = np.argsort(X_test.values.ravel())\n",
        "x_order = X_test.values.ravel()[order]\n",
        "y_order = y_test.values.ravel()\n",
        "y_fit_order =y_fit_poly"
      ]
    },
    {
      "cell_type": "code",
      "execution_count": null,
      "metadata": {
        "colab": {
          "base_uri": "https://localhost:8080/"
        },
        "id": "jGyDQlN53qga",
        "outputId": "65185277-44fe-4472-838f-ad19dd75e98a"
      },
      "outputs": [
        {
          "name": "stdout",
          "output_type": "stream",
          "text": [
            "Error medio Absoluto (MAE): 124347.09418373529\n",
            "Root Mean Squared Error : 192576.30094959823\n",
            "R2_score 0.7461529015147186\n"
          ]
        }
      ],
      "source": [
        "print('Error medio Absoluto (MAE):', mean_absolute_error(y_order,y_fit_order))\n",
        "print('Root Mean Squared Error :', np.sqrt(mean_squared_error(y_order,y_fit_order)))\n",
        "print('R2_score', r2_score(y_order,y_fit_order))"
      ]
    },
    {
      "cell_type": "markdown",
      "metadata": {
        "id": "KG5W1F2m74ss"
      },
      "source": [
        "## RIDGE"
      ]
    },
    {
      "cell_type": "code",
      "execution_count": null,
      "metadata": {
        "id": "wlCxkDyk752t"
      },
      "outputs": [],
      "source": [
        "modelo_ridge = Pipeline([\n",
        "    ('poli_features',PolynomialFeatures(degree=2, include_bias=False)),\n",
        "    ('scaler', StandardScaler()),\n",
        "    ('ridge', Ridge(alpha=10, solver='cholesky', random_state=10))\n",
        "])\n",
        "\n",
        "kfold = RepeatedKFold(n_splits=5, n_repeats=3)\n",
        "scores = cross_validate(modelo_ridge ,X_train,y_train,scoring=metricas,cv=kfold)\n",
        "resultados.append(scores)\n",
        "\n",
        "modelo_ridge.fit(X_train, y_train)\n",
        "\n",
        "y_fit_ridge = modelo_ridge.predict(X_test)"
      ]
    },
    {
      "cell_type": "code",
      "execution_count": null,
      "metadata": {
        "colab": {
          "base_uri": "https://localhost:8080/"
        },
        "id": "hw6jLwZb8F86",
        "outputId": "adef0d57-f3b7-4fc3-abc6-528584a59934"
      },
      "outputs": [
        {
          "data": {
            "text/plain": [
              "(array([ 6.45140493e+04,  1.55918051e+04, -4.54028008e+03, -1.00986686e+05,\n",
              "        -2.87695912e+04, -3.04488078e+04, -2.72195569e+04,  4.05170888e+04,\n",
              "         7.56899691e+04, -7.26739443e+03,  4.15711442e+03, -8.45994981e+04,\n",
              "        -6.06046444e+04,  1.19363837e+05,  8.57535605e+03,  9.10411467e+03,\n",
              "        -2.10103461e+04, -3.53641536e+04,  1.56200114e+04,  2.93588922e+04,\n",
              "         2.20175399e+02,  2.72639524e+03,  1.20266618e+04, -7.05723490e+03,\n",
              "        -3.08953613e+04, -2.32151915e+04, -9.30339840e+04,  5.22488749e+03,\n",
              "         5.46067304e+04,  7.67131077e+03, -1.18853463e+04,  5.82843863e+04,\n",
              "        -4.40513775e+04, -3.19154020e+04,  2.24595376e+04,  6.10477606e+03,\n",
              "        -4.70221202e+04,  8.59886755e+04,  6.31200092e+04,  1.30296480e+04,\n",
              "         2.65226234e+04, -2.58782694e+04, -8.15253955e+04,  3.45430069e+04,\n",
              "         1.78988071e+04, -3.94909818e+04, -4.30326157e+04,  1.81789510e+04,\n",
              "        -4.60937345e+03,  7.46661203e+03,  1.80971839e+05,  2.68645666e+04,\n",
              "        -1.51576276e+04, -8.44563274e+04,  2.93943488e+03, -1.74822772e+03,\n",
              "        -1.75195743e+03,  8.01896742e+03,  3.05271283e+04, -3.52599222e+00,\n",
              "         4.36003025e+02, -2.77615582e+03,  8.81989087e+04, -4.37030403e+04,\n",
              "        -2.50903683e+03,  3.65491745e+04, -6.46090403e+03,  2.15063462e+04,\n",
              "         5.18193172e+04,  4.90193780e+04, -1.05402646e+04, -6.40499049e+03,\n",
              "         3.74956689e+04,  1.56372817e+04, -5.15813726e+04,  2.09871814e+04,\n",
              "         1.28283142e+04, -1.67733432e+04, -5.02464814e+04, -2.15452189e+04,\n",
              "        -3.04488078e+04,  1.67454581e+04,  3.24207371e+03, -5.86988756e+04,\n",
              "         2.15696657e+04,  4.45799737e+03,  5.67987855e+04, -9.88014037e+03,\n",
              "         4.88377550e+04, -2.51440991e+03,  1.09624470e+04,  1.42840104e+04,\n",
              "         9.18961265e+04, -2.12642615e+01, -1.50677417e+04, -5.63151377e+04,\n",
              "        -9.16890228e+03,  8.71880732e+03, -8.66335086e+03,  2.25163217e+04,\n",
              "         2.60178645e+02, -5.39217815e+03,  2.39014334e+04, -1.30694769e+05,\n",
              "        -3.95808552e+04,  1.80805138e+05, -3.83070974e+04,  1.03237025e+05,\n",
              "         1.63291806e+05,  9.39926995e+04, -9.66595382e+04,  2.10235521e+04,\n",
              "        -2.33416029e+05, -1.40691854e+05,  2.90921902e+04,  2.59633306e+02,\n",
              "        -5.49855272e+04,  2.86034489e+03, -1.28620785e+04,  1.83709137e+03,\n",
              "        -3.88785252e+04, -7.25509276e+04,  2.28429231e+03,  3.10577847e+04,\n",
              "        -1.56445639e+04,  3.40123164e+04,  2.29719842e+04, -1.49996109e+05,\n",
              "         1.20532632e+05,  2.20497974e+04,  8.44735874e+04, -2.66935197e+03,\n",
              "         9.71879164e+04,  5.02424260e+03, -5.35340066e+03]), 540243.2680161947)"
            ]
          },
          "execution_count": 61,
          "metadata": {},
          "output_type": "execute_result"
        }
      ],
      "source": [
        "# OBTENEMOS LOS VALORES \n",
        "modelo_ridge['ridge'].coef_, modelo_ridge['ridge'].intercept_"
      ]
    },
    {
      "cell_type": "markdown",
      "metadata": {
        "id": "B81GVyUt9AIO"
      },
      "source": [
        "The model estimates:\n",
        "\n",
        "𝑦̂ = 6.45𝑋1 ..... - 5.35X135 + 540243.26"
      ]
    },
    {
      "cell_type": "code",
      "execution_count": null,
      "metadata": {
        "id": "2kZ5f41z9Vmj"
      },
      "outputs": [],
      "source": [
        "order = np.argsort(X_test.values.ravel())\n",
        "x_order = X_test.values.ravel()[order]\n",
        "y_order = y_test.values.ravel()\n",
        "y_fit_order = y_fit_ridge"
      ]
    },
    {
      "cell_type": "code",
      "execution_count": null,
      "metadata": {
        "colab": {
          "base_uri": "https://localhost:8080/"
        },
        "id": "7NNde5Ha9k7y",
        "outputId": "f77df7b7-31ae-4e93-a87a-c8d7c30af87c"
      },
      "outputs": [
        {
          "name": "stdout",
          "output_type": "stream",
          "text": [
            "Error medio Absoluto (MAE): 125878.17822092563\n",
            "Root Mean Squared Error : 195200.0212048077\n",
            "R2_score 0.7391887960699358\n"
          ]
        }
      ],
      "source": [
        "print('Error medio Absoluto (MAE):', mean_absolute_error(y_order,y_fit_order))\n",
        "print('Root Mean Squared Error :', np.sqrt(mean_squared_error(y_order,y_fit_order)))\n",
        "print('R2_score', r2_score(y_order,y_fit_order))"
      ]
    },
    {
      "cell_type": "markdown",
      "metadata": {
        "id": "UUUKBxM39y3A"
      },
      "source": [
        "## LASSO"
      ]
    },
    {
      "cell_type": "code",
      "execution_count": null,
      "metadata": {
        "id": "cIk0Z2zf9z3c"
      },
      "outputs": [],
      "source": [
        "import warnings\n",
        "warnings.filterwarnings(\"ignore\")\n",
        "\n",
        "modelo_lasso = Pipeline([\n",
        "    ('poli_features',PolynomialFeatures(degree=2, include_bias=False)),\n",
        "    ('scaler', StandardScaler()),\n",
        "    ('lasso', Lasso(alpha=10, random_state=10))\n",
        "])\n",
        "\n",
        "kfold = RepeatedKFold(n_splits=5, n_repeats=3)\n",
        "scores = cross_validate(modelo_lasso ,X_train,y_train,scoring=metricas,cv=kfold)\n",
        "resultados.append(scores)\n",
        "\n",
        "modelo_lasso.fit(X_train, y_train)\n",
        "\n",
        "y_fit_lasso = modelo_lasso.predict(X_test)"
      ]
    },
    {
      "cell_type": "code",
      "execution_count": null,
      "metadata": {
        "colab": {
          "base_uri": "https://localhost:8080/"
        },
        "id": "RwPtVaa__U6W",
        "outputId": "8f115291-f835-4f47-bef4-d1581057d5a3"
      },
      "outputs": [
        {
          "data": {
            "text/plain": [
              "(array([ 7.95035403e+04,  1.09774008e+05,  5.12981975e+04, -1.05654280e+05,\n",
              "        -3.91595478e+04, -9.05914599e+02,  5.45333588e+04,  4.21201912e+04,\n",
              "         2.17270247e+05, -1.19543136e+05, -3.66437725e+04, -9.35689622e+04,\n",
              "        -9.74112859e+04,  6.39187860e+04, -1.57438800e+03,  9.53195592e+03,\n",
              "        -2.08927097e+04, -6.74373245e+04,  1.73627853e+04,  3.24343520e+04,\n",
              "        -1.74795673e+02,  2.07674365e+03,  9.76558272e+03, -1.28479549e+04,\n",
              "        -1.31642157e+04, -1.18333597e+04, -1.05235794e+05,  5.92832985e+03,\n",
              "         6.51688110e+04,  6.97864499e+03, -1.22375300e+04,  1.51834147e+05,\n",
              "        -4.76653248e+04, -3.65057309e+04,  2.25640621e+04,  8.38269018e+03,\n",
              "        -5.17904934e+04,  1.16739761e+05, -8.41587532e+03, -1.72515956e+04,\n",
              "        -7.50290604e+04, -2.75778168e+04, -1.07097666e+05,  3.86767002e+04,\n",
              "         6.63336846e+04, -1.22379873e+04, -2.93927188e+04, -4.84548216e+03,\n",
              "         7.50210842e+04, -2.61083172e+04,  2.68641243e+05, -2.29899993e+05,\n",
              "        -3.36073285e+03, -6.63619794e+04, -1.49394105e+04, -1.29633511e+02,\n",
              "        -4.37663273e+04,  8.93205249e+03,  3.19118413e+04,  9.46836973e+01,\n",
              "        -1.06743407e+01, -0.00000000e+00,  1.04171283e+05, -7.42832289e+04,\n",
              "        -8.77568937e+03,  2.62930582e+04, -6.17597137e+03,  2.29495078e+04,\n",
              "         5.24255838e+04,  5.02318432e+04, -9.81851820e+03, -6.36877462e+03,\n",
              "         3.78464917e+04,  1.69810682e+04, -6.51601492e+04,  1.70004434e+04,\n",
              "         1.96250239e+04, -1.63002482e+04, -4.73046228e+04, -2.31382024e+04,\n",
              "        -4.06118562e+04,  1.76755504e+04,  4.28096362e+03, -5.78966100e+04,\n",
              "         3.97572584e+04,  1.17650465e+04,  3.47374371e+04, -9.93456923e+03,\n",
              "         4.80084477e+04, -2.44063136e+03,  1.07662931e+04,  9.00242396e+03,\n",
              "         9.01545856e+04, -6.15900726e+04, -3.94811225e+04, -1.32782816e+05,\n",
              "        -9.67646629e+03,  9.31564535e+03, -8.12335958e+03,  2.40906380e+04,\n",
              "        -6.48012884e+03,  2.20814018e+04,  4.18368645e+04, -1.31195220e+05,\n",
              "        -3.89929104e+04,  1.94242030e+05, -4.39925816e+04,  1.19017427e+05,\n",
              "         7.06133171e+04,  6.68106821e+04, -2.55731694e+05,  1.67203856e+04,\n",
              "        -2.48528409e+05, -1.58662280e+05,  2.25102707e+05,  3.09898750e+04,\n",
              "         2.30114497e+03,  1.68414551e+04, -2.41139231e+03,  4.47031822e+04,\n",
              "        -4.97847994e+04, -7.15697209e+04,  7.26734138e+03,  3.14998894e+04,\n",
              "        -5.09535117e+03,  5.74538522e+04,  8.35630266e+04, -1.03948269e+05,\n",
              "         1.50601604e+05,  6.58796679e+02,  8.63577662e+04, -3.09661274e+03,\n",
              "         1.05632980e+05,  2.76184533e+03, -7.37341701e+03]), 540243.2680161947)"
            ]
          },
          "execution_count": 67,
          "metadata": {},
          "output_type": "execute_result"
        }
      ],
      "source": [
        "# OBTENEMOS LOS VALORES \n",
        "modelo_lasso['lasso'].coef_, modelo_lasso['lasso'].intercept_"
      ]
    },
    {
      "cell_type": "markdown",
      "metadata": {
        "id": "Y71Txb-L_sDK"
      },
      "source": [
        "The model estimates:\n",
        "\n",
        "𝑦̂ = 7.95𝑋1 ..... - 7.37X135 + 540243.26"
      ]
    },
    {
      "cell_type": "code",
      "execution_count": null,
      "metadata": {
        "id": "wRZflZAZ_it5"
      },
      "outputs": [],
      "source": [
        "order = np.argsort(X_test.values.ravel())\n",
        "x_order = X_test.values.ravel()[order]\n",
        "y_order = y_test.values.ravel()\n",
        "y_fit_order = y_fit_lasso"
      ]
    },
    {
      "cell_type": "code",
      "execution_count": null,
      "metadata": {
        "colab": {
          "base_uri": "https://localhost:8080/"
        },
        "id": "w885Bpdf_2_h",
        "outputId": "b9c508d8-7953-44a2-a162-92b1279b9e9a"
      },
      "outputs": [
        {
          "name": "stdout",
          "output_type": "stream",
          "text": [
            "Error medio Absoluto (MAE): 125894.57620461189\n",
            "Root Mean Squared Error : 195668.13765745916\n",
            "R2_score 0.7379363739733451\n"
          ]
        }
      ],
      "source": [
        "print('Error medio Absoluto (MAE):', mean_absolute_error(y_order,y_fit_order))\n",
        "print('Root Mean Squared Error :', np.sqrt(mean_squared_error(y_order,y_fit_order)))\n",
        "print('R2_score', r2_score(y_order,y_fit_order))"
      ]
    },
    {
      "cell_type": "markdown",
      "metadata": {
        "id": "Cyj5XIAO__Wj"
      },
      "source": [
        "## GRAFICAS"
      ]
    },
    {
      "cell_type": "markdown",
      "metadata": {
        "id": "dtgjrDARALj7"
      },
      "source": [
        "### R2"
      ]
    },
    {
      "cell_type": "code",
      "execution_count": null,
      "metadata": {
        "colab": {
          "base_uri": "https://localhost:8080/",
          "height": 268
        },
        "id": "5lUplnxGAEqm",
        "outputId": "3c8b596b-d3c7-49f5-853f-f4d3265b6306"
      },
      "outputs": [
        {
          "data": {
            "image/png": "[encoded data removed]",
            "text/plain": [
              "<Figure size 576x288 with 1 Axes>"
            ]
          },
          "metadata": {},
          "output_type": "display_data"
        }
      ],
      "source": [
        "sns.set(rc={'figure.figsize':(8,4)})\n",
        "\n",
        "R2list = list()\n",
        "for i in range(len(resultados[0])):\n",
        "  r2 = resultados[i]['test_R2']\n",
        "  R2list.append(r2)\n",
        "\n",
        "plt.boxplot(R2list, labels=['LR','POLY','RIDGE','LASSO'],showmeans=True)\n",
        "plt.show()"
      ]
    },
    {
      "cell_type": "markdown",
      "metadata": {
        "id": "jiJBaYRUA40V"
      },
      "source": [
        "### MAE"
      ]
    },
    {
      "cell_type": "code",
      "execution_count": null,
      "metadata": {
        "colab": {
          "base_uri": "https://localhost:8080/",
          "height": 268
        },
        "id": "wM-eCx_9A6Gd",
        "outputId": "073cdfc1-a0dc-4217-9f43-11af20ec133e"
      },
      "outputs": [
        {
          "data": {
            "image/png": "[encoded data removed]",
            "text/plain": [
              "<Figure size 576x288 with 1 Axes>"
            ]
          },
          "metadata": {},
          "output_type": "display_data"
        }
      ],
      "source": [
        "sns.set(rc={'figure.figsize':(8,4)})\n",
        "\n",
        "MAElist = list()\n",
        "for i in range(len(resultados[0])):\n",
        "  mae = resultados[i]['test_MAE']\n",
        "  MAElist.append(mae)\n",
        "\n",
        "plt.boxplot(MAElist, labels=['LR','POLY','RIDGE','LASSO'],showmeans=True)\n",
        "plt.show() "
      ]
    },
    {
      "cell_type": "markdown",
      "metadata": {
        "id": "q9ceDVKxBJyD"
      },
      "source": [
        "## Conclusiones\n",
        "\n",
        "Revisando los modelos de la Regresion Lineal Multiple, Regresion Polinomial, Ridge y Lasso para R2 y MAE , podemos concluir que el mejor modelo es REGRESION LINEAL MULTIPLE R2, con el siguiente modelo:\n",
        "\n",
        "*   The model estimates:\n",
        "\n",
        "𝑦̂ =-3.76𝑋1 + 4.27𝑋2 + 1.02X3 - 7.69X4 + 2.31X5 + 5.51X6 + 4.41X7 + 2.09X8 + 1.24 X9 + 4.91X10 + 5.31X11 - 3.46X12 + 4.68X13 + 2.99X14 - 4.58X15 + 5972932.92\n",
        "\n",
        "Con los siguientes valores:\n",
        "\n",
        "* Error medio Absoluto (MAE): 139557.22435871416\n",
        "* Root Mean Squared Error : 224280.2878492429\n",
        "* R2_score 0.655690716581879\n",
        "\n",
        "Se uso un porcentaje del 80% de Informacion para Entrenamiento y 20% para evaluación"
      ]
    }
  ],
  "metadata": {
    "accelerator": "GPU",
    "colab": {
      "collapsed_sections": [],
      "provenance": [],
      "include_colab_link": true
    },
    "kernelspec": {
      "display_name": "Python 3",
      "language": "python",
      "name": "python3"
    },
    "language_info": {
      "codemirror_mode": {
        "name": "ipython",
        "version": 3
      },
      "file_extension": ".py",
      "mimetype": "text/x-python",
      "name": "python",
      "nbconvert_exporter": "python",
      "pygments_lexer": "ipython3",
      "version": "3.7.7"
    }
  },
  "nbformat": 4,
  "nbformat_minor": 0
}