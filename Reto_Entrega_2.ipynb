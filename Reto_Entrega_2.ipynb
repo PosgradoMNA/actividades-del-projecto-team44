{
  "cells": [
    {
      "cell_type": "markdown",
      "metadata": {
        "id": "view-in-github",
        "colab_type": "text"
      },
      "source": [
        "<a href=\"https://colab.research.google.com/github/PosgradoMNA/actividades-del-projecto-team44/blob/main/Reto_Entrega_2.ipynb\" target=\"_parent\"><img src=\"https://colab.research.google.com/assets/colab-badge.svg\" alt=\"Open In Colab\"/></a>"
      ]
    },
    {
      "cell_type": "markdown",
      "metadata": {
        "id": "GcMCo8xdhDN6"
      },
      "source": [
        "# **Tecnológico de Monterrey**\n",
        "\n",
        "Maestría en Inteligencia Artificial Aplicada\n",
        "\n",
        "> Curso: Ciencia y Analítica de Datos\n",
        "\n",
        "> Entregable : Reto Entrega 2 Clasificación-ensambles \n",
        "\n",
        ">Fecha: 18/11/2022\n",
        "\n",
        ">Profesores:\n",
        "\n",
        ">* María de la Paz Rico Fernández\n",
        ">* Roberto Antonio Guevara González\n",
        "\n",
        "> Alumnos:\n",
        "*   LUIS ALFONSO SABANERO ESQUIVEL - A01273286\n",
        "*   AQUILES YONATAN ARMENTA HERNANDEZ - A01793252\n",
        "\n",
        "https://github.com/PosgradoMNA/actividades-del-projecto-team44"
      ]
    },
    {
      "cell_type": "code",
      "execution_count": null,
      "metadata": {
        "id": "BtVmJL8Pfzz8"
      },
      "outputs": [],
      "source": [
        "# IMPLEMENTACION DE LIBRERIAS PARA MANIPUACION DE LA BASE DE DATOS ASI COMO LA VISUALIZACION DE LA INFORMACION.\n",
        "import pandas as pd   \n",
        "import numpy as np\n",
        "import numpy as np\n",
        "import matplotlib.pyplot as plt \n",
        "import seaborn as sns \n",
        "\n",
        "from sklearn.model_selection import train_test_split\n",
        "from sklearn.pipeline import Pipeline\n",
        "from sklearn.tree import DecisionTreeClassifier\n",
        "from sklearn.ensemble import RandomForestClassifier\n",
        "from sklearn.model_selection import learning_curve, validation_curve\n",
        "from sklearn.preprocessing import OneHotEncoder,LabelEncoder,OrdinalEncoder \n",
        "from sklearn.compose import ColumnTransformer\n",
        "from sklearn.impute import SimpleImputer\n",
        "from sklearn.model_selection import GridSearchCV\n",
        "from sklearn import tree\n",
        "\n",
        "from sklearn.metrics import confusion_matrix,classification_report,ConfusionMatrixDisplay\n",
        "from imblearn.metrics import classification_report_imbalanced\n",
        "from sklearn.model_selection import  cross_validate,  RepeatedStratifiedKFold, cross_val_score\n",
        "from sklearn.metrics import classification_report, make_scorer"
      ]
    },
    {
      "cell_type": "code",
      "execution_count": null,
      "metadata": {
        "colab": {
          "base_uri": "https://localhost:8080/",
          "height": 408
        },
        "id": "MUVTpZtvkJyv",
        "outputId": "cda17ca0-a3cf-4469-d8d6-ebfadffa32c8"
      },
      "outputs": [
        {
          "data": {
            "text/html": [
              "<div>\n",
              "<style scoped>\n",
              "    .dataframe tbody tr th:only-of-type {\n",
              "        vertical-align: middle;\n",
              "    }\n",
              "\n",
              "    .dataframe tbody tr th {\n",
              "        vertical-align: top;\n",
              "    }\n",
              "\n",
              "    .dataframe thead th {\n",
              "        text-align: right;\n",
              "    }\n",
              "</style>\n",
              "<table border=\"1\" class=\"dataframe\">\n",
              "  <thead>\n",
              "    <tr style=\"text-align: right;\">\n",
              "      <th></th>\n",
              "      <th>CLAVE</th>\n",
              "      <th>SITIO</th>\n",
              "      <th>ORGANISMO_DE_CUENCA</th>\n",
              "      <th>ESTADO</th>\n",
              "      <th>MUNICIPIO</th>\n",
              "      <th>ACUIFERO</th>\n",
              "      <th>SUBTIPO</th>\n",
              "      <th>LONGITUD</th>\n",
              "      <th>LATITUD</th>\n",
              "      <th>PERIODO</th>\n",
              "      <th>...</th>\n",
              "      <th>CUMPLE_CON_DUR</th>\n",
              "      <th>CUMPLE_CON_CF</th>\n",
              "      <th>CUMPLE_CON_NO3</th>\n",
              "      <th>CUMPLE_CON_AS</th>\n",
              "      <th>CUMPLE_CON_CD</th>\n",
              "      <th>CUMPLE_CON_CR</th>\n",
              "      <th>CUMPLE_CON_HG</th>\n",
              "      <th>CUMPLE_CON_PB</th>\n",
              "      <th>CUMPLE_CON_MN</th>\n",
              "      <th>CUMPLE_CON_FE</th>\n",
              "    </tr>\n",
              "  </thead>\n",
              "  <tbody>\n",
              "    <tr>\n",
              "      <th>0</th>\n",
              "      <td>DLAGU6</td>\n",
              "      <td>POZO SAN GIL</td>\n",
              "      <td>LERMA SANTIAGO PACIFICO</td>\n",
              "      <td>AGUASCALIENTES</td>\n",
              "      <td>ASIENTOS</td>\n",
              "      <td>VALLE DE CHICALOTE</td>\n",
              "      <td>POZO</td>\n",
              "      <td>-102.02210</td>\n",
              "      <td>22.20887</td>\n",
              "      <td>2020</td>\n",
              "      <td>...</td>\n",
              "      <td>SI</td>\n",
              "      <td>SI</td>\n",
              "      <td>SI</td>\n",
              "      <td>SI</td>\n",
              "      <td>SI</td>\n",
              "      <td>SI</td>\n",
              "      <td>SI</td>\n",
              "      <td>SI</td>\n",
              "      <td>SI</td>\n",
              "      <td>SI</td>\n",
              "    </tr>\n",
              "    <tr>\n",
              "      <th>1</th>\n",
              "      <td>DLAGU6516</td>\n",
              "      <td>POZO R013 CAÑADA HONDA</td>\n",
              "      <td>LERMA SANTIAGO PACIFICO</td>\n",
              "      <td>AGUASCALIENTES</td>\n",
              "      <td>AGUASCALIENTES</td>\n",
              "      <td>VALLE DE CHICALOTE</td>\n",
              "      <td>POZO</td>\n",
              "      <td>-102.20075</td>\n",
              "      <td>21.99958</td>\n",
              "      <td>2020</td>\n",
              "      <td>...</td>\n",
              "      <td>SI</td>\n",
              "      <td>SI</td>\n",
              "      <td>SI</td>\n",
              "      <td>SI</td>\n",
              "      <td>SI</td>\n",
              "      <td>SI</td>\n",
              "      <td>SI</td>\n",
              "      <td>SI</td>\n",
              "      <td>SI</td>\n",
              "      <td>SI</td>\n",
              "    </tr>\n",
              "    <tr>\n",
              "      <th>2</th>\n",
              "      <td>DLAGU7</td>\n",
              "      <td>POZO COSIO</td>\n",
              "      <td>LERMA SANTIAGO PACIFICO</td>\n",
              "      <td>AGUASCALIENTES</td>\n",
              "      <td>COSIO</td>\n",
              "      <td>VALLE DE AGUASCALIENTES</td>\n",
              "      <td>POZO</td>\n",
              "      <td>-102.28801</td>\n",
              "      <td>22.36685</td>\n",
              "      <td>2020</td>\n",
              "      <td>...</td>\n",
              "      <td>SI</td>\n",
              "      <td>SI</td>\n",
              "      <td>SI</td>\n",
              "      <td>NO</td>\n",
              "      <td>SI</td>\n",
              "      <td>SI</td>\n",
              "      <td>SI</td>\n",
              "      <td>SI</td>\n",
              "      <td>SI</td>\n",
              "      <td>SI</td>\n",
              "    </tr>\n",
              "    <tr>\n",
              "      <th>3</th>\n",
              "      <td>DLAGU9</td>\n",
              "      <td>POZO EL SALITRILLO</td>\n",
              "      <td>LERMA SANTIAGO PACIFICO</td>\n",
              "      <td>AGUASCALIENTES</td>\n",
              "      <td>RINCON DE ROMOS</td>\n",
              "      <td>VALLE DE AGUASCALIENTES</td>\n",
              "      <td>POZO</td>\n",
              "      <td>-102.29449</td>\n",
              "      <td>22.18435</td>\n",
              "      <td>2020</td>\n",
              "      <td>...</td>\n",
              "      <td>SI</td>\n",
              "      <td>SI</td>\n",
              "      <td>SI</td>\n",
              "      <td>SI</td>\n",
              "      <td>SI</td>\n",
              "      <td>SI</td>\n",
              "      <td>SI</td>\n",
              "      <td>SI</td>\n",
              "      <td>SI</td>\n",
              "      <td>SI</td>\n",
              "    </tr>\n",
              "    <tr>\n",
              "      <th>4</th>\n",
              "      <td>DLBAJ107</td>\n",
              "      <td>RANCHO EL TECOLOTE</td>\n",
              "      <td>PENINSULA DE BAJA CALIFORNIA</td>\n",
              "      <td>BAJA CALIFORNIA SUR</td>\n",
              "      <td>LA PAZ</td>\n",
              "      <td>TODOS SANTOS</td>\n",
              "      <td>POZO</td>\n",
              "      <td>-110.24480</td>\n",
              "      <td>23.45138</td>\n",
              "      <td>2020</td>\n",
              "      <td>...</td>\n",
              "      <td>SI</td>\n",
              "      <td>SI</td>\n",
              "      <td>NO</td>\n",
              "      <td>SI</td>\n",
              "      <td>SI</td>\n",
              "      <td>SI</td>\n",
              "      <td>SI</td>\n",
              "      <td>SI</td>\n",
              "      <td>SI</td>\n",
              "      <td>SI</td>\n",
              "    </tr>\n",
              "  </tbody>\n",
              "</table>\n",
              "<p>5 rows × 57 columns</p>\n",
              "</div>"
            ],
            "text/plain": [
              "       CLAVE                   SITIO           ORGANISMO_DE_CUENCA  \\\n",
              "0     DLAGU6            POZO SAN GIL       LERMA SANTIAGO PACIFICO   \n",
              "1  DLAGU6516  POZO R013 CAÑADA HONDA       LERMA SANTIAGO PACIFICO   \n",
              "2     DLAGU7              POZO COSIO       LERMA SANTIAGO PACIFICO   \n",
              "3     DLAGU9      POZO EL SALITRILLO       LERMA SANTIAGO PACIFICO   \n",
              "4   DLBAJ107      RANCHO EL TECOLOTE  PENINSULA DE BAJA CALIFORNIA   \n",
              "\n",
              "                ESTADO        MUNICIPIO                 ACUIFERO SUBTIPO  \\\n",
              "0       AGUASCALIENTES         ASIENTOS       VALLE DE CHICALOTE    POZO   \n",
              "1       AGUASCALIENTES   AGUASCALIENTES       VALLE DE CHICALOTE    POZO   \n",
              "2       AGUASCALIENTES            COSIO  VALLE DE AGUASCALIENTES    POZO   \n",
              "3       AGUASCALIENTES  RINCON DE ROMOS  VALLE DE AGUASCALIENTES    POZO   \n",
              "4  BAJA CALIFORNIA SUR           LA PAZ             TODOS SANTOS    POZO   \n",
              "\n",
              "    LONGITUD   LATITUD  PERIODO  ...  CUMPLE_CON_DUR CUMPLE_CON_CF  \\\n",
              "0 -102.02210  22.20887     2020  ...              SI            SI   \n",
              "1 -102.20075  21.99958     2020  ...              SI            SI   \n",
              "2 -102.28801  22.36685     2020  ...              SI            SI   \n",
              "3 -102.29449  22.18435     2020  ...              SI            SI   \n",
              "4 -110.24480  23.45138     2020  ...              SI            SI   \n",
              "\n",
              "   CUMPLE_CON_NO3 CUMPLE_CON_AS  CUMPLE_CON_CD CUMPLE_CON_CR CUMPLE_CON_HG  \\\n",
              "0              SI            SI             SI            SI            SI   \n",
              "1              SI            SI             SI            SI            SI   \n",
              "2              SI            NO             SI            SI            SI   \n",
              "3              SI            SI             SI            SI            SI   \n",
              "4              NO            SI             SI            SI            SI   \n",
              "\n",
              "  CUMPLE_CON_PB CUMPLE_CON_MN CUMPLE_CON_FE  \n",
              "0            SI            SI            SI  \n",
              "1            SI            SI            SI  \n",
              "2            SI            SI            SI  \n",
              "3            SI            SI            SI  \n",
              "4            SI            SI            SI  \n",
              "\n",
              "[5 rows x 57 columns]"
            ]
          },
          "execution_count": 89,
          "metadata": {},
          "output_type": "execute_result"
        }
      ],
      "source": [
        "# LECTURA DEL ARCHIVO CON LA INFORMACION, ASI COMO LA VISUALIZACION DE LOS PRIMEROS REGISTROS.\n",
        "df_subterraneo=pd.read_csv('Datos_de_calidad_del_agua_de_sitios_de_monitoreo_de_aguas_subterraneas_2020.csv', encoding = 'latin1')\n",
        "df_subterraneo.head()"
      ]
    },
    {
      "cell_type": "code",
      "execution_count": null,
      "metadata": {
        "id": "C81iMRyfkW5T"
      },
      "outputs": [],
      "source": [
        "subterranero_copy=df_subterraneo.copy()\n",
        "# ELIMINAMOS LA INFORMACION QUE CONTIENE INFORMACION NULL Y QUE NO TIENE CASO MAANTENER YA QUE YA EXISTEN\n",
        "# INDICADORES QUE NOS INDICAN SI SE ENCUENTRA CONTAMINADA Y NO ES NECESARIO REALIZAR NUEVAMENTE EL CALCULO\n",
        "# LOS VALORES SI O NO DE LOS CONTAMINANTES QUE ESTAN EN OTRAS COLUMNAS SON NECESARIOS PARA ESTA PRACTICA.\n",
        "subterranero_copy.drop(columns=\"SDT_mg/L\",inplace=True)\n",
        "subterranero_copy.drop(columns=\"PERIODO\",inplace=True) \n",
        "subterranero_copy.drop(columns=\"CLAVE\",inplace=True)\n",
        "subterranero_copy.drop(columns=\"ALC_mg/L\",inplace=True)\n",
        "subterranero_copy.drop(columns=\"CONDUCT_mS/cm\",inplace=True)\n",
        "subterranero_copy.drop(columns=\"SDT_M_mg/L\",inplace=True)\n",
        "subterranero_copy.drop(columns=\"FLUORUROS_mg/L\",inplace=True)\n",
        "subterranero_copy.drop(columns=\"DUR_mg/L\",inplace=True)\n",
        "subterranero_copy.drop(columns=\"COLI_FEC_NMP/100_mL\",inplace=True) \n",
        "subterranero_copy.drop(columns=\"N_NO3_mg/L\",inplace=True) \n",
        "subterranero_copy.drop(columns=\"AS_TOT_mg/L\",inplace=True) \n",
        "subterranero_copy.drop(columns=\"CD_TOT_mg/L\",inplace=True) \n",
        "subterranero_copy.drop(columns=\"CR_TOT_mg/L\",inplace=True) \n",
        "subterranero_copy.drop(columns=\"HG_TOT_mg/L\",inplace=True) \n",
        "subterranero_copy.drop(columns=\"MN_TOT_mg/L\",inplace=True) \n",
        "subterranero_copy.drop(columns=\"FE_TOT_mg/L\",inplace=True)\n",
        "subterranero_copy.drop(columns=\"PB_TOT_mg/L\",inplace=True) \n",
        "\n",
        "subterranero_copy.drop(columns=\"LONGITUD\",inplace=True) \n",
        "subterranero_copy.drop(columns=\"LATITUD\",inplace=True) \n",
        "\n",
        "subterranero_copy.drop(columns=\"CONTAMINANTES\",inplace=True) \n",
        "\n",
        "\n",
        "# LOS DATOS COMO ESTADO , MUNICIPIO, ACUIFERO , SITIO Y ORGANISMO DE CUENCA, SE ELIMINAN, YA QUE\n",
        "# TENEMOS LA LATITUD Y LA LONGITUD PARA PODERLOS POSICIONAR EN UN MAPA.\n",
        "subterranero_copy.drop(columns=\"SITIO\",inplace=True) \n",
        "subterranero_copy.drop(columns=\"ORGANISMO_DE_CUENCA\",inplace=True) \n",
        "subterranero_copy.drop(columns=\"MUNICIPIO\",inplace=True) \n",
        "subterranero_copy.drop(columns=\"ACUIFERO\",inplace=True) \n",
        "subterranero_copy.drop(columns=\"ESTADO\",inplace=True)\n",
        "\n",
        "#ELIMINADOS COLUMNAS CUMPLE DEBIDO A UNA QUE SE TIENE CORRELACIONES FUERTES 1 CON OTRAS COLUMNAS\n",
        "subterranero_copy.drop(columns=\"CUMPLE_CON_ALC\",inplace=True)\n",
        "subterranero_copy.drop(columns=\"CUMPLE_CON_COND\",inplace=True) \n",
        "subterranero_copy.drop(columns=\"CUMPLE_CON_SDT_ra\",inplace=True) \n",
        "subterranero_copy.drop(columns=\"CUMPLE_CON_SDT_salin\",inplace=True) \n",
        "subterranero_copy.drop(columns=\"CUMPLE_CON_FLUO\",inplace=True) \n",
        "subterranero_copy.drop(columns=\"CUMPLE_CON_DUR\",inplace=True) \n",
        "subterranero_copy.drop(columns=\"CUMPLE_CON_CF\",inplace=True) \n",
        "subterranero_copy.drop(columns=\"CUMPLE_CON_NO3\",inplace=True)\n",
        "subterranero_copy.drop(columns=\"CUMPLE_CON_AS\",inplace=True) \n",
        "subterranero_copy.drop(columns=\"CUMPLE_CON_CD\",inplace=True)\n",
        "subterranero_copy.drop(columns=\"CUMPLE_CON_CR\",inplace=True) \n",
        "subterranero_copy.drop(columns=\"CUMPLE_CON_HG\",inplace=True)\n",
        "subterranero_copy.drop(columns=\"CUMPLE_CON_PB\",inplace=True) \n",
        "subterranero_copy.drop(columns=\"CUMPLE_CON_MN\",inplace=True) \n",
        "subterranero_copy.drop(columns=\"CUMPLE_CON_FE\",inplace=True)  \n"
      ]
    },
    {
      "cell_type": "markdown",
      "metadata": {
        "id": "CPNSjDJQkcU4"
      },
      "source": [
        "## LIMPIEZA Y ESTANDARIZACION"
      ]
    },
    {
      "cell_type": "code",
      "execution_count": null,
      "metadata": {
        "colab": {
          "base_uri": "https://localhost:8080/"
        },
        "id": "DeE88Rcqkdcf",
        "outputId": "729f7704-b7ab-4e43-dbfd-18ea368a3c65"
      },
      "outputs": [
        {
          "data": {
            "text/plain": [
              "array([0, 1, 2])"
            ]
          },
          "execution_count": 91,
          "metadata": {},
          "output_type": "execute_result"
        }
      ],
      "source": [
        "# CONVERTIMOS LOS VALORES DE CALIDAD_ALC POR VALORES NUMERICOS , Y SE ESTANDARIZA UN VALOR COMO BAJO\n",
        "# PARA TENER SOLO CATEGORIAS DE ALTA , MEDIA Y BAJA.\n",
        "subterranero_copy['CALIDAD_ALC'].fillna(1,inplace=True)  # REMPLAZAMOS NULOS POR UN VALOR DEFAULT\n",
        "subterranero_copy['CALIDAD_ALC'].replace(['Alta'],0,inplace=True)\n",
        "subterranero_copy['CALIDAD_ALC'].replace(['Media'],1,inplace=True)\n",
        "subterranero_copy['CALIDAD_ALC'].replace(['Baja'],2,inplace=True)\n",
        "subterranero_copy['CALIDAD_ALC'].replace(['Indeseable como FAAP'],2,inplace=True) \n",
        "\n",
        "# VERIFICAMOS QUE LA MUESTRA SOLO CONTENGA LOS VALORES DEFINIDOS.\n",
        "subterranero_copy['CALIDAD_ALC'].unique()"
      ]
    },
    {
      "cell_type": "code",
      "execution_count": null,
      "metadata": {
        "colab": {
          "base_uri": "https://localhost:8080/"
        },
        "id": "873ipa7qkjMy",
        "outputId": "3131b59a-d88e-4b4f-cefd-ac4f0f76f05d"
      },
      "outputs": [
        {
          "data": {
            "text/plain": [
              "array([1, 2, 3, 4, 0])"
            ]
          },
          "execution_count": 92,
          "metadata": {},
          "output_type": "execute_result"
        }
      ],
      "source": [
        "# CONVERTIMOS LOS VALORES DE CALIDAD_CONDUC POR VALORES NUMERICOS\n",
        "subterranero_copy['CALIDAD_CONDUC'].fillna(3,inplace=True) # REMPLAZAMOS NULOS POR UN VALOR DEFAULT\n",
        "subterranero_copy['CALIDAD_CONDUC'].replace(['Excelente para riego'],0,inplace=True)\n",
        "subterranero_copy['CALIDAD_CONDUC'].replace(['Permisible para riego'],1,inplace=True)\n",
        "subterranero_copy['CALIDAD_CONDUC'].replace(['Buena para riego'],2,inplace=True)\n",
        "subterranero_copy['CALIDAD_CONDUC'].replace(['Dudosa para riego'],3,inplace=True)\n",
        "subterranero_copy['CALIDAD_CONDUC'].replace(['Indeseable para riego'],4,inplace=True)\n",
        "\n",
        "# VERIFICAMOS QUE LA MUESTRA SOLO CONTENGA LOS VALORES DEFINIDOS.\n",
        "subterranero_copy['CALIDAD_CONDUC'].unique()"
      ]
    },
    {
      "cell_type": "code",
      "execution_count": null,
      "metadata": {
        "colab": {
          "base_uri": "https://localhost:8080/"
        },
        "id": "fipHxe1gkj9T",
        "outputId": "f6047ebe-2ab9-4dd0-b693-52c42ef63035"
      },
      "outputs": [
        {
          "data": {
            "text/plain": [
              "array([0, 1, 2, 3, 4])"
            ]
          },
          "execution_count": 93,
          "metadata": {},
          "output_type": "execute_result"
        }
      ],
      "source": [
        "# CONVERTIMOS LOS VALORES DE CALIDAD_SDT_ra POR VALORES NUMERICOS\n",
        "subterranero_copy['CALIDAD_SDT_ra'].fillna(3,inplace=True) # REMPLAZAMOS NULOS POR UN VALOR DEFAULT\n",
        "subterranero_copy['CALIDAD_SDT_ra'].replace(['Cultivos sensibles'],0,inplace=True)\n",
        "subterranero_copy['CALIDAD_SDT_ra'].replace(['Excelente para riego'],1,inplace=True)\n",
        "subterranero_copy['CALIDAD_SDT_ra'].replace(['Cultivos con manejo especial'],2,inplace=True)\n",
        "subterranero_copy['CALIDAD_SDT_ra'].replace(['Cultivos tolerantes'],3,inplace=True)\n",
        "subterranero_copy['CALIDAD_SDT_ra'].replace(['Indeseable para riego'],4,inplace=True)\n",
        "\n",
        "# VERIFICAMOS QUE LA MUESTRA SOLO CONTENGA LOS VALORES DEFINIDOS.\n",
        "subterranero_copy['CALIDAD_SDT_ra'].unique()"
      ]
    },
    {
      "cell_type": "code",
      "execution_count": null,
      "metadata": {
        "colab": {
          "base_uri": "https://localhost:8080/"
        },
        "id": "hufEM7N5kmeM",
        "outputId": "41bfedf4-a834-4be4-db4e-714c8dddc786"
      },
      "outputs": [
        {
          "data": {
            "text/plain": [
              "array([0, 1, 2, 3])"
            ]
          },
          "execution_count": 94,
          "metadata": {},
          "output_type": "execute_result"
        }
      ],
      "source": [
        "# CONVERTIMOS LOS VALORES DE CALIDAD_SDT_salin POR VALORES NUMERICOS\n",
        "subterranero_copy['CALIDAD_SDT_salin'].fillna(2,inplace=True) # REMPLAZAMOS NULOS POR UN VALOR DEFAULT\n",
        "subterranero_copy['CALIDAD_SDT_salin'].replace(['Potable - Dulce'],0,inplace=True)\n",
        "subterranero_copy['CALIDAD_SDT_salin'].replace(['Ligeramente salobres'],1,inplace=True)\n",
        "subterranero_copy['CALIDAD_SDT_salin'].replace(['Salobres'],2,inplace=True)\n",
        "subterranero_copy['CALIDAD_SDT_salin'].replace(['Salinas'],3,inplace=True)\n",
        "\n",
        "# VERIFICAMOS QUE LA MUESTRA SOLO CONTENGA LOS VALORES DEFINIDOS.\n",
        "subterranero_copy['CALIDAD_SDT_salin'].unique()"
      ]
    },
    {
      "cell_type": "code",
      "execution_count": null,
      "metadata": {
        "colab": {
          "base_uri": "https://localhost:8080/"
        },
        "id": "NTTA-gFNko5Y",
        "outputId": "5b81b9c8-0be4-475f-b134-7c85908989ee"
      },
      "outputs": [
        {
          "data": {
            "text/plain": [
              "array([0, 1, 2, 3])"
            ]
          },
          "execution_count": 95,
          "metadata": {},
          "output_type": "execute_result"
        }
      ],
      "source": [
        "# CONVERTIMOS LOS VALORES DE CALIDAD_FLUO POR VALORES NUMERICOS\n",
        "subterranero_copy['CALIDAD_FLUO'].replace(['Potable - Optima'],0,inplace=True)\n",
        "subterranero_copy['CALIDAD_FLUO'].replace(['Alta'],1,inplace=True)\n",
        "subterranero_copy['CALIDAD_FLUO'].replace(['Baja'],2,inplace=True)\n",
        "subterranero_copy['CALIDAD_FLUO'].replace(['Media'],3,inplace=True)\n",
        "\n",
        "# VERIFICAMOS QUE LA MUESTRA SOLO CONTENGA LOS VALORES DEFINIDOS.\n",
        "subterranero_copy['CALIDAD_FLUO'].unique()"
      ]
    },
    {
      "cell_type": "code",
      "execution_count": null,
      "metadata": {
        "colab": {
          "base_uri": "https://localhost:8080/"
        },
        "id": "lKyfNaLqkq1o",
        "outputId": "7eee96cf-f42f-40c7-90e0-340a3dc059de"
      },
      "outputs": [
        {
          "data": {
            "text/plain": [
              "array([2, 3, 0, 1])"
            ]
          },
          "execution_count": 96,
          "metadata": {},
          "output_type": "execute_result"
        }
      ],
      "source": [
        "# CONVERTIMOS LOS VALORES DE CALIDAD_DUR POR VALORES NUMERICOS\n",
        "subterranero_copy['CALIDAD_DUR'].fillna(2,inplace=True)  # REMPLAZAMOS NULOS POR UN VALOR DEFAULT\n",
        "subterranero_copy['CALIDAD_DUR'].replace(['Potable - Suave'],0,inplace=True)\n",
        "subterranero_copy['CALIDAD_DUR'].replace(['Potable - Moderadamente suave'],1,inplace=True)\n",
        "subterranero_copy['CALIDAD_DUR'].replace(['Potable - Dura'],2,inplace=True)\n",
        "subterranero_copy['CALIDAD_DUR'].replace(['Muy dura e indeseable usos industrial y domestico'],3,inplace=True)\n",
        "\n",
        "# VERIFICAMOS QUE LA MUESTRA SOLO CONTENGA LOS VALORES DEFINIDOS.\n",
        "subterranero_copy['CALIDAD_DUR'].unique()"
      ]
    },
    {
      "cell_type": "code",
      "execution_count": null,
      "metadata": {
        "id": "qLc-Xz8MkuAP"
      },
      "outputs": [],
      "source": [
        "# CONVERTIMOS LOS VALORES DE CALIDAD_DUR POR VALORES NUMERICOS\n",
        "lista=['CALIDAD_AS','CALIDAD_N_NO3']\n",
        "subterranero_copy['CALIDAD_N_NO3'].fillna(1,inplace=True) #Los clasificamos como Media por default\n",
        "for i in lista:\n",
        "    subterranero_copy[i].replace(['Potable - Excelente'],0,inplace=True)\n",
        "    subterranero_copy[i].replace(['Potable - Buena calidad'],1,inplace=True)\n",
        "    subterranero_copy[i].replace(['Apta como FAAP'],1,inplace=True)\n",
        "    subterranero_copy[i].replace(['No apta como FAAP'],2,inplace=True)"
      ]
    },
    {
      "cell_type": "code",
      "execution_count": null,
      "metadata": {
        "colab": {
          "base_uri": "https://localhost:8080/"
        },
        "id": "2S0n4blokvvM",
        "outputId": "92a79402-66bc-4f5a-8560-bf210b2d38ee"
      },
      "outputs": [
        {
          "data": {
            "text/plain": [
              "array([0, 1, 3, 2, 4])"
            ]
          },
          "execution_count": 98,
          "metadata": {},
          "output_type": "execute_result"
        }
      ],
      "source": [
        "# CONVERTIMOS LOS VALORES DE CALIDAD_COLI_FEC POR VALORES NUMERICOS\n",
        "subterranero_copy['CALIDAD_COLI_FEC'].replace(['Potable - Excelente'],0,inplace=True)\n",
        "subterranero_copy['CALIDAD_COLI_FEC'].replace(['Aceptable'],1,inplace=True)\n",
        "subterranero_copy['CALIDAD_COLI_FEC'].replace(['Buena calidad'],2,inplace=True)\n",
        "subterranero_copy['CALIDAD_COLI_FEC'].replace(['Contaminada'],3,inplace=True)\n",
        "subterranero_copy['CALIDAD_COLI_FEC'].replace(['Fuertemente contaminada'],4,inplace=True)\n",
        "\n",
        "# VERIFICAMOS QUE LA MUESTRA SOLO CONTENGA LOS VALORES DEFINIDOS.\n",
        "subterranero_copy['CALIDAD_COLI_FEC'].unique()"
      ]
    },
    {
      "cell_type": "code",
      "execution_count": null,
      "metadata": {
        "id": "irbrZGLlnRPU"
      },
      "outputs": [],
      "source": [
        "lista=['CALIDAD_PB','CALIDAD_HG','CALIDAD_CR','CALIDAD_CD']\n",
        "for i in lista:\n",
        "    subterranero_copy[i].replace(['Potable - Excelente'],0,inplace=True)\n",
        "    subterranero_copy[i].replace(['No apta como FAAP'],1,inplace=True)"
      ]
    },
    {
      "cell_type": "code",
      "execution_count": null,
      "metadata": {
        "id": "bILiRBhmnSFH"
      },
      "outputs": [],
      "source": [
        "lista=['CALIDAD_MN','CALIDAD_FE']\n",
        "for i in lista:\n",
        "    subterranero_copy[i].replace(['Potable - Excelente'],0,inplace=True)\n",
        "    subterranero_copy[i].replace(['Sin efectos en la salud - Puede dar color al agua'],1,inplace=True)\n",
        "    subterranero_copy[i].replace(['Puede afectar la salud'],2,inplace=True) #Lo mandamos como baja"
      ]
    },
    {
      "cell_type": "code",
      "execution_count": null,
      "metadata": {
        "colab": {
          "base_uri": "https://localhost:8080/"
        },
        "id": "Va2ljisakwYm",
        "outputId": "bc929ded-9843-440d-e837-efd7d6e6a4ca"
      },
      "outputs": [
        {
          "data": {
            "text/plain": [
              "array([4, 2, 3, 1, 0])"
            ]
          },
          "execution_count": 101,
          "metadata": {},
          "output_type": "execute_result"
        }
      ],
      "source": [
        "# ESTANDARIZAMOS LOS VALORES DE SUBTIPO\n",
        "subterranero_copy['SUBTIPO'].replace(['Pozo','POZO NORIA'],\"POZO\",inplace=True)\n",
        "subterranero_copy['SUBTIPO'].replace(['BOMBEO CENOTE'],\"CENOTE\",inplace=True)\n",
        "\n",
        "label_encoder = LabelEncoder()\n",
        "subterranero_copy['SUBTIPO']= label_encoder.fit_transform(subterranero_copy['SUBTIPO'])\n",
        "\n",
        "# VERIFICAMOS QUE LA MUESTRA SOLO CONTENGA LOS VALORES DEFINIDOS.\n",
        "subterranero_copy['SUBTIPO'].unique()"
      ]
    },
    {
      "cell_type": "code",
      "execution_count": null,
      "metadata": {
        "colab": {
          "base_uri": "https://localhost:8080/"
        },
        "id": "tIdqD6D4kzvq",
        "outputId": "e567090f-dcc5-4cc1-bc23-93cf7b0fa3f4"
      },
      "outputs": [
        {
          "data": {
            "text/plain": [
              "array([2, 1, 0])"
            ]
          },
          "execution_count": 102,
          "metadata": {},
          "output_type": "execute_result"
        }
      ],
      "source": [
        "# CONVERTIMOS LOS VALORES ALFABETICOS DEL SEMAFORO A VALORES NUMERICOS\n",
        "label_encoder = LabelEncoder()\n",
        "  \n",
        "# Encode labels in column 'species'.\n",
        "subterranero_copy['SEMAFORO']= label_encoder.fit_transform(subterranero_copy['SEMAFORO'])\n",
        "subterranero_copy['SEMAFORO'].unique()"
      ]
    },
    {
      "cell_type": "code",
      "execution_count": null,
      "metadata": {
        "id": "xRxrgsupn16N"
      },
      "outputs": [],
      "source": [
        "# Transformaciones a factores categóricos de entrada:\n",
        "categorical_pipeline = Pipeline(steps = [('impModa', SimpleImputer(missing_values=np.nan, strategy='most_frequent')\n",
        "                                )])  \n",
        "categorical_pipeline_nombres = ['SUBTIPO', 'CALIDAD_ALC', 'CALIDAD_CONDUC','CALIDAD_SDT_ra','CALIDAD_SDT_salin','CALIDAD_FLUO','CALIDAD_DUR',\n",
        "                                'CALIDAD_COLI_FEC','CALIDAD_N_NO3','CALIDAD_AS','CALIDAD_CD','CALIDAD_CR','CALIDAD_HG','CALIDAD_PB','CALIDAD_MN','CALIDAD_FE']\n",
        "\n",
        "\n",
        "# Conjuntamos las transformaciones numéricas y categóricas que se estarán aplicando a los datos de entrada:\n",
        "columnasTransformer = ColumnTransformer(transformers = [('numpipe', categorical_pipeline, categorical_pipeline_nombres)],\n",
        "                                        remainder='passthrough')"
      ]
    },
    {
      "cell_type": "code",
      "execution_count": null,
      "metadata": {
        "colab": {
          "base_uri": "https://localhost:8080/"
        },
        "id": "p1EwzSsck_Dq",
        "outputId": "42bfed34-c39b-4e5a-f324-e3d1fe846bb0"
      },
      "outputs": [
        {
          "name": "stdout",
          "output_type": "stream",
          "text": [
            "<class 'pandas.core.frame.DataFrame'>\n",
            "RangeIndex: 1068 entries, 0 to 1067\n",
            "Data columns (total 17 columns):\n",
            " #   Column             Non-Null Count  Dtype\n",
            "---  ------             --------------  -----\n",
            " 0   SUBTIPO            1068 non-null   int64\n",
            " 1   CALIDAD_ALC        1068 non-null   int64\n",
            " 2   CALIDAD_CONDUC     1068 non-null   int64\n",
            " 3   CALIDAD_SDT_ra     1068 non-null   int64\n",
            " 4   CALIDAD_SDT_salin  1068 non-null   int64\n",
            " 5   CALIDAD_FLUO       1068 non-null   int64\n",
            " 6   CALIDAD_DUR        1068 non-null   int64\n",
            " 7   CALIDAD_COLI_FEC   1068 non-null   int64\n",
            " 8   CALIDAD_N_NO3      1068 non-null   int64\n",
            " 9   CALIDAD_AS         1068 non-null   int64\n",
            " 10  CALIDAD_CD         1068 non-null   int64\n",
            " 11  CALIDAD_CR         1068 non-null   int64\n",
            " 12  CALIDAD_HG         1068 non-null   int64\n",
            " 13  CALIDAD_PB         1068 non-null   int64\n",
            " 14  CALIDAD_MN         1068 non-null   int64\n",
            " 15  CALIDAD_FE         1068 non-null   int64\n",
            " 16  SEMAFORO           1068 non-null   int64\n",
            "dtypes: int64(17)\n",
            "memory usage: 142.0 KB\n"
          ]
        }
      ],
      "source": [
        "# VERIFICAMOS QUE LA INFORMACION ESTE ESTANDARIZADA Y LIMPIA\n",
        "subterranero_copy.info()"
      ]
    },
    {
      "cell_type": "markdown",
      "metadata": {
        "id": "WsTTlE36TylJ"
      },
      "source": [
        "## Modelo Dummy"
      ]
    },
    {
      "cell_type": "code",
      "execution_count": null,
      "metadata": {
        "id": "EB1GfhoOTylJ"
      },
      "outputs": [],
      "source": [
        "X = subterranero_copy.iloc[:,0:16] # SELECCIONAMOS LAS 15 VARIABLES DE ENTRADA PARA LA SEGMENTACION DE LA MUESTRA\n",
        "y = subterranero_copy['SEMAFORO'] # SELECCIONAMOS LA VARIABLE DE SALIDA "
      ]
    },
    {
      "cell_type": "code",
      "execution_count": null,
      "metadata": {
        "id": "Ck6hn-p3TylJ"
      },
      "outputs": [],
      "source": [
        "modelo = RandomForestClassifier()\n",
        "pipeline = Pipeline(steps=[('ct',columnasTransformer),('m',modelo)])\n",
        "\n",
        "modelo_RF = pipeline.fit(X,y)\n",
        "\n",
        "results_RF = modelo_RF.predict(X)"
      ]
    },
    {
      "cell_type": "code",
      "execution_count": null,
      "metadata": {
        "id": "BAs8FlMZTylJ",
        "outputId": "252938a5-2bc6-4de3-b600-147d52a72ab3"
      },
      "outputs": [
        {
          "data": {
            "text/plain": [
              "array([0.00305927, 0.02547403, 0.02636645, 0.03323451, 0.03120469,\n",
              "       0.21650981, 0.14726839, 0.09722727, 0.11092879, 0.12530189,\n",
              "       0.00234868, 0.02079189, 0.00105599, 0.01711371, 0.06986453,\n",
              "       0.07225008])"
            ]
          },
          "execution_count": 50,
          "metadata": {},
          "output_type": "execute_result"
        }
      ],
      "source": [
        "modelo_RF['m'].feature_importances_"
      ]
    },
    {
      "cell_type": "code",
      "execution_count": null,
      "metadata": {
        "id": "NuADY7EPTylK",
        "outputId": "c92a4efe-42b8-431e-eeaf-ceb1a2add443"
      },
      "outputs": [
        {
          "data": {
            "image/png": "[encoded data removed]",
            "text/plain": [
              "<Figure size 432x288 with 1 Axes>"
            ]
          },
          "metadata": {
            "needs_background": "light"
          },
          "output_type": "display_data"
        }
      ],
      "source": [
        "importances = modelo_RF['m'].feature_importances_\n",
        "std = np.std([modelo_RF['m'].feature_importances_ for tree in modelo_RF['m'].estimators_], axis=0)\n",
        "fig, ax = plt.subplots()\n",
        "feature_names = [f\"feature {i}\" for i in range(X.shape[1])]\n",
        "forest_importances = pd.Series(importances, index=feature_names)\n",
        "forest_importances.plot.bar(yerr=std, ax=ax)\n",
        "ax.set_title(\"Feature importances using MDI\")\n",
        "ax.set_ylabel(\"Mean decrease in impurity\")\n",
        "fig.tight_layout()"
      ]
    },
    {
      "cell_type": "code",
      "execution_count": null,
      "metadata": {
        "id": "k5CWSCS1TylK",
        "outputId": "d8d003d7-05c5-475f-df20-b4456a66eb79"
      },
      "outputs": [
        {
          "name": "stdout",
          "output_type": "stream",
          "text": [
            "Importancia de los predictores en el modelo\n",
            "-------------------------------------------\n"
          ]
        },
        {
          "data": {
            "text/html": [
              "<div>\n",
              "<style scoped>\n",
              "    .dataframe tbody tr th:only-of-type {\n",
              "        vertical-align: middle;\n",
              "    }\n",
              "\n",
              "    .dataframe tbody tr th {\n",
              "        vertical-align: top;\n",
              "    }\n",
              "\n",
              "    .dataframe thead th {\n",
              "        text-align: right;\n",
              "    }\n",
              "</style>\n",
              "<table border=\"1\" class=\"dataframe\">\n",
              "  <thead>\n",
              "    <tr style=\"text-align: right;\">\n",
              "      <th></th>\n",
              "      <th>predictor</th>\n",
              "      <th>importancia</th>\n",
              "    </tr>\n",
              "  </thead>\n",
              "  <tbody>\n",
              "    <tr>\n",
              "      <th>5</th>\n",
              "      <td>CALIDAD_FLUO</td>\n",
              "      <td>0.216510</td>\n",
              "    </tr>\n",
              "    <tr>\n",
              "      <th>6</th>\n",
              "      <td>CALIDAD_DUR</td>\n",
              "      <td>0.147268</td>\n",
              "    </tr>\n",
              "    <tr>\n",
              "      <th>9</th>\n",
              "      <td>CALIDAD_AS</td>\n",
              "      <td>0.125302</td>\n",
              "    </tr>\n",
              "    <tr>\n",
              "      <th>8</th>\n",
              "      <td>CALIDAD_N_NO3</td>\n",
              "      <td>0.110929</td>\n",
              "    </tr>\n",
              "    <tr>\n",
              "      <th>7</th>\n",
              "      <td>CALIDAD_COLI_FEC</td>\n",
              "      <td>0.097227</td>\n",
              "    </tr>\n",
              "    <tr>\n",
              "      <th>15</th>\n",
              "      <td>CALIDAD_FE</td>\n",
              "      <td>0.072250</td>\n",
              "    </tr>\n",
              "    <tr>\n",
              "      <th>14</th>\n",
              "      <td>CALIDAD_MN</td>\n",
              "      <td>0.069865</td>\n",
              "    </tr>\n",
              "    <tr>\n",
              "      <th>3</th>\n",
              "      <td>CALIDAD_SDT_ra</td>\n",
              "      <td>0.033235</td>\n",
              "    </tr>\n",
              "    <tr>\n",
              "      <th>4</th>\n",
              "      <td>CALIDAD_SDT_salin</td>\n",
              "      <td>0.031205</td>\n",
              "    </tr>\n",
              "    <tr>\n",
              "      <th>2</th>\n",
              "      <td>CALIDAD_CONDUC</td>\n",
              "      <td>0.026366</td>\n",
              "    </tr>\n",
              "    <tr>\n",
              "      <th>1</th>\n",
              "      <td>CALIDAD_ALC</td>\n",
              "      <td>0.025474</td>\n",
              "    </tr>\n",
              "    <tr>\n",
              "      <th>11</th>\n",
              "      <td>CALIDAD_CR</td>\n",
              "      <td>0.020792</td>\n",
              "    </tr>\n",
              "    <tr>\n",
              "      <th>13</th>\n",
              "      <td>CALIDAD_PB</td>\n",
              "      <td>0.017114</td>\n",
              "    </tr>\n",
              "    <tr>\n",
              "      <th>0</th>\n",
              "      <td>SUBTIPO</td>\n",
              "      <td>0.003059</td>\n",
              "    </tr>\n",
              "    <tr>\n",
              "      <th>10</th>\n",
              "      <td>CALIDAD_CD</td>\n",
              "      <td>0.002349</td>\n",
              "    </tr>\n",
              "    <tr>\n",
              "      <th>12</th>\n",
              "      <td>CALIDAD_HG</td>\n",
              "      <td>0.001056</td>\n",
              "    </tr>\n",
              "  </tbody>\n",
              "</table>\n",
              "</div>"
            ],
            "text/plain": [
              "            predictor  importancia\n",
              "5        CALIDAD_FLUO     0.216510\n",
              "6         CALIDAD_DUR     0.147268\n",
              "9          CALIDAD_AS     0.125302\n",
              "8       CALIDAD_N_NO3     0.110929\n",
              "7    CALIDAD_COLI_FEC     0.097227\n",
              "15         CALIDAD_FE     0.072250\n",
              "14         CALIDAD_MN     0.069865\n",
              "3      CALIDAD_SDT_ra     0.033235\n",
              "4   CALIDAD_SDT_salin     0.031205\n",
              "2      CALIDAD_CONDUC     0.026366\n",
              "1         CALIDAD_ALC     0.025474\n",
              "11         CALIDAD_CR     0.020792\n",
              "13         CALIDAD_PB     0.017114\n",
              "0             SUBTIPO     0.003059\n",
              "10         CALIDAD_CD     0.002349\n",
              "12         CALIDAD_HG     0.001056"
            ]
          },
          "execution_count": 53,
          "metadata": {},
          "output_type": "execute_result"
        }
      ],
      "source": [
        "subterranero_features=subterranero_copy.copy()\n",
        "importancia_predictores = pd.DataFrame(\n",
        "                            {'predictor': subterranero_features.drop(columns = \"SEMAFORO\").columns,\n",
        "                             'importancia': modelo_RF['m'].feature_importances_}\n",
        "                            )\n",
        "print(\"Importancia de los predictores en el modelo\")\n",
        "print(\"-------------------------------------------\")\n",
        "importancia_predictores.sort_values('importancia', ascending=False)"
      ]
    },
    {
      "cell_type": "markdown",
      "metadata": {
        "id": "viVnv64MrfoS"
      },
      "source": [
        "## Modelos Finales"
      ]
    },
    {
      "cell_type": "code",
      "execution_count": null,
      "metadata": {
        "id": "E-N7FCPqTylL"
      },
      "outputs": [],
      "source": [
        "def mi_LearningCurvePlot(train_sizes, train_scores, val_scores,metrica):\n",
        "\n",
        "    train_mean = np.mean(train_scores, axis=1)\n",
        "    train_std = np.std(train_scores, axis=1)\n",
        "    val_mean = np.mean(val_scores, axis=1)\n",
        "    val_std = np.std(val_scores, axis=1)\n",
        "\n",
        "    # Graficamos las curvas de aprendizaje incluyendo una región indicando la desviación estándar.\n",
        "    plt.figure(figsize=(10,10))\n",
        "    plt.plot(train_sizes, train_mean, color='blue', marker='o', markersize=5, label='Training')\n",
        "    plt.fill_between(train_sizes, train_mean + train_std, train_mean - train_std, alpha=0.1, color='blue')\n",
        "    \n",
        "    plt.plot(train_sizes, val_mean, color='red', marker='+', markersize=5, linestyle='--', label='Validation')\n",
        "    plt.fill_between(train_sizes, val_mean + val_std, val_mean - val_std, alpha=0.1, color='red')\n",
        "    \n",
        "    plt.title('Curvas de Aprendizaje incrementando el tamaño de la muestra')\n",
        "    plt.xlabel('Tamaño del conjunto de entrenamiento')\n",
        "    plt.ylabel(metrica)\n",
        "    plt.grid()\n",
        "    plt.legend(loc='lower left')\n",
        "    plt.show()\n",
        "\n",
        "\n",
        "# Transformaciones a factores categóricos de entrada:\n",
        "categorical_pipeline = Pipeline(steps = [('impModa', SimpleImputer(missing_values=np.nan, strategy='most_frequent')\n",
        "                                )])  \n",
        "categorical_pipeline_nombres = ['CALIDAD_ALC', 'CALIDAD_CONDUC','CALIDAD_SDT_ra','CALIDAD_SDT_salin','CALIDAD_FLUO','CALIDAD_DUR',\n",
        "                                'CALIDAD_COLI_FEC','CALIDAD_N_NO3','CALIDAD_AS','CALIDAD_CR','CALIDAD_PB','CALIDAD_MN','CALIDAD_FE']\n",
        "\n",
        "\n",
        "# Conjuntamos las transformaciones numéricas y categóricas que se estarán aplicando a los datos de entrada:\n",
        "columnasTransformer = ColumnTransformer(transformers = [('numpipe', categorical_pipeline, categorical_pipeline_nombres)],\n",
        "                                        remainder='passthrough')"
      ]
    },
    {
      "cell_type": "code",
      "execution_count": null,
      "metadata": {
        "id": "wBqNmB2zlgSw"
      },
      "outputs": [],
      "source": [
        "subterranero_model=subterranero_copy.copy()\n",
        "subterranero_model.drop(columns=\"SUBTIPO\",inplace=True)\n",
        "subterranero_model.drop(columns=\"CALIDAD_CD\",inplace=True)\n",
        "subterranero_model.drop(columns=\"CALIDAD_HG\",inplace=True)\n",
        "\n",
        "\n",
        "X = subterranero_model.iloc[:,0:13] # SELECCIONAMOS LAS 15 VARIABLES DE ENTRADA PARA LA SEGMENTACION DE LA MUESTRA\n",
        "y = subterranero_model['SEMAFORO'] # SELECCIONAMOS LA VARIABLE DE SALIDA \n",
        "X_train, X_test, y_train, y_test = train_test_split(X, y, train_size=0.80) # PARTIMOS LA MUESRA AL 80%"
      ]
    },
    {
      "cell_type": "code",
      "execution_count": null,
      "metadata": {
        "colab": {
          "base_uri": "https://localhost:8080/"
        },
        "id": "FHrVb77immxC",
        "outputId": "6f1eed94-72f4-4c7c-cce9-d69352dfbee0"
      },
      "outputs": [
        {
          "name": "stdout",
          "output_type": "stream",
          "text": [
            "Registros Totales: 1068\n",
            "Registros de Entrenamiento: 854\n",
            "Registros de Validación: 214\n"
          ]
        }
      ],
      "source": [
        "print(\"Registros Totales: \" + str(len(subterranero_copy)))\n",
        "print(\"Registros de Entrenamiento: \" + str(len(X_train)))\n",
        "print(\"Registros de Validación: \" + str(len(X_test)))"
      ]
    },
    {
      "cell_type": "code",
      "execution_count": null,
      "metadata": {
        "id": "If2g0YfMzXDM",
        "outputId": "54e201a9-8e32-4e1d-d3f8-062635d3f28a"
      },
      "outputs": [
        {
          "name": "stdout",
          "output_type": "stream",
          "text": [
            "Mejor valor de accuracy obtenido con la mejor combinación: 0.9816488934755189\n",
            "Mejor combinación de valores encontrados de los hiperparámetros: {'m__ccp_alpha': 0.0001, 'm__class_weight': None, 'm__criterion': 'gini', 'm__max_depth': 11, 'm__min_samples_split': 9}\n"
          ]
        }
      ],
      "source": [
        "kfold = RepeatedStratifiedKFold(n_splits=5, n_repeats=3)\n",
        "max_depth = np.linspace(1,20,20, dtype=\"int\")\n",
        "pipeline = Pipeline(steps=[('ct',columnasTransformer),('m',DecisionTreeClassifier())])\n",
        "lst_min_samples_split = [i for i in range(2, 11)]\n",
        "param_grid = {\n",
        "    'm__ccp_alpha':[0.0001,0.01,0.1,1.0,10.,100.],\n",
        "    'm__criterion':['gini', 'entropy', 'log_loss'],\n",
        "    'm__max_depth': max_depth,\n",
        "    'm__min_samples_split': lst_min_samples_split,\n",
        "    'm__class_weight': ['balanced', None]\n",
        "}\n",
        "\n",
        "grid = GridSearchCV(estimator=pipeline,\n",
        "                    param_grid=param_grid,\n",
        "                    cv=kfold,\n",
        "                    scoring='accuracy',\n",
        "                    n_jobs=-1\n",
        "                    )\n",
        "\n",
        "grid.fit(X_train, y_train)\n",
        "\n",
        "print('Mejor valor de accuracy obtenido con la mejor combinación:', grid.best_score_)\n",
        "print('Mejor combinación de valores encontrados de los hiperparámetros:', grid.best_params_)\n"
      ]
    },
    {
      "cell_type": "code",
      "execution_count": null,
      "metadata": {
        "id": "ey5pxdXDTylM",
        "outputId": "fcd86947-779f-4dfe-8039-016767fabb2a"
      },
      "outputs": [
        {
          "name": "stdout",
          "output_type": "stream",
          "text": [
            "Mejor valor de precision obtenido con la mejor combinación: 0.964868707717005\n",
            "Mejor combinación de valores encontrados de los hiperparámetros: {'m__ccp_alpha': 0.01, 'm__class_weight': None, 'm__criterion': 'entropy', 'm__max_depth': 16, 'm__min_samples_split': 2}\n"
          ]
        }
      ],
      "source": [
        "kfold = RepeatedStratifiedKFold(n_splits=5, n_repeats=3)\n",
        "max_depth = np.linspace(1,20,20, dtype=\"int\")\n",
        "pipeline = Pipeline(steps=[('ct',columnasTransformer),('m',RandomForestClassifier())])\n",
        "lst_min_samples_split = [i for i in range(2, 11)]\n",
        "param_grid = {\n",
        "    'm__ccp_alpha':[0.01,0.1,1.0,10.],\n",
        "    'm__criterion':['gini', 'entropy', 'log_loss'],\n",
        "    'm__max_depth': max_depth,\n",
        "    'm__min_samples_split': lst_min_samples_split,\n",
        "    'm__class_weight': ['balanced', None]\n",
        "}\n",
        "\n",
        "grid = GridSearchCV(estimator=pipeline,\n",
        "                    param_grid=param_grid,\n",
        "                    cv=kfold,\n",
        "                    scoring='accuracy',\n",
        "                    n_jobs=-1\n",
        "                    )\n",
        "\n",
        "grid.fit(X_train, y_train)\n",
        "\n",
        "print('Mejor valor de precision obtenido con la mejor combinación:', grid.best_score_)\n",
        "print('Mejor combinación de valores encontrados de los hiperparámetros:', grid.best_params_)"
      ]
    },
    {
      "cell_type": "markdown",
      "metadata": {
        "id": "Z5gWcQAjzwid"
      },
      "source": [
        "### Modelos Final Decision Tree"
      ]
    },
    {
      "cell_type": "code",
      "execution_count": null,
      "metadata": {
        "id": "70wwwsIMTylN",
        "outputId": "a81de03f-a224-4c3a-d467-178aecc3b717"
      },
      "outputs": [
        {
          "data": {
            "image/png": "[encoded data removed]",
            "text/plain": [
              "<Figure size 720x720 with 1 Axes>"
            ]
          },
          "metadata": {
            "needs_background": "light"
          },
          "output_type": "display_data"
        }
      ],
      "source": [
        "modelo_DT = DecisionTreeClassifier(ccp_alpha=0.0001,class_weight=None,criterion='gini',max_depth=11,min_samples_split=9)\n",
        "pipeline_DT = Pipeline(steps=[('ct',columnasTransformer), ('m',modelo_DT)])\n",
        "\n",
        "\n",
        "delta_train_sz = np.linspace(0.1,1,20)\n",
        "cv = RepeatedStratifiedKFold(n_splits=5, n_repeats=3)\n",
        "metrica=\"accuracy\"\n",
        "tr_sizes, tr_scores, val_scores = learning_curve(estimator = pipeline_DT,    \n",
        "                                                 X = X_train,\n",
        "                                                 y = y_train,\n",
        "                                                 cv = cv ,\n",
        "                                                 scoring='accuracy',\n",
        "                                                 train_sizes = delta_train_sz ,\n",
        "                                                 )\n",
        "\n",
        "# Obtenemos el gráfico con las curvas de aprendizaje:\n",
        "mi_LearningCurvePlot(tr_sizes, tr_scores, val_scores,metrica)"
      ]
    },
    {
      "cell_type": "code",
      "execution_count": null,
      "metadata": {
        "id": "7qZeyZpWvRGP"
      },
      "outputs": [],
      "source": [
        "#{'m__ccp_alpha': 0.0001, 'm__class_weight': None, 'm__criterion': 'gini', 'm__max_depth': 11, 'm__min_samples_split': 9}\n",
        "modelo_FDT= DecisionTreeClassifier(ccp_alpha=0.0001,class_weight=None,criterion='gini',max_depth=11,min_samples_split=9)\n",
        "pipeline_FDT = Pipeline(steps=[('ct',columnasTransformer), ('m',modelo_FDT)])\n",
        "modelo_FDT = pipeline_FDT.fit(X_train,y_train)\n",
        "\n",
        "results_FDT = modelo_FDT.predict(X_test)"
      ]
    },
    {
      "cell_type": "code",
      "execution_count": null,
      "metadata": {
        "id": "iFIFcHseTylO",
        "outputId": "cfe8354b-270f-4d86-dcc4-af4451524712"
      },
      "outputs": [
        {
          "name": "stdout",
          "output_type": "stream",
          "text": [
            "                   pre       rec       spe        f1       geo       iba       sup\n",
            "\n",
            "          0       0.96      0.92      0.99      0.94      0.95      0.90        49\n",
            "          1       0.97      0.97      0.99      0.97      0.98      0.96        80\n",
            "          2       0.98      1.00      0.98      0.99      0.99      0.99        85\n",
            "\n",
            "avg / total       0.97      0.97      0.99      0.97      0.98      0.96       214\n",
            "\n"
          ]
        }
      ],
      "source": [
        "print(classification_report_imbalanced(y_test,results_FDT))"
      ]
    },
    {
      "cell_type": "code",
      "execution_count": null,
      "metadata": {
        "id": "07GEH_S6TylO",
        "outputId": "053cc167-4bf7-45b2-93a7-ca144cecb629"
      },
      "outputs": [
        {
          "name": "stdout",
          "output_type": "stream",
          "text": [
            "              precision    recall  f1-score   support\n",
            "\n",
            "           0       0.96      0.92      0.94        49\n",
            "           1       0.97      0.97      0.97        80\n",
            "           2       0.98      1.00      0.99        85\n",
            "\n",
            "    accuracy                           0.97       214\n",
            "   macro avg       0.97      0.96      0.97       214\n",
            "weighted avg       0.97      0.97      0.97       214\n",
            "\n"
          ]
        }
      ],
      "source": [
        "print(classification_report(y_test,results_FDT))"
      ]
    },
    {
      "cell_type": "code",
      "execution_count": null,
      "metadata": {
        "id": "wun5xKIFTylP"
      },
      "outputs": [],
      "source": [
        "mc_dt=confusion_matrix(y_test,results_FDT)"
      ]
    },
    {
      "cell_type": "code",
      "execution_count": null,
      "metadata": {
        "id": "qZZUeWf1TylP",
        "outputId": "48119161-7379-4d2c-fe42-25a2cbc41529"
      },
      "outputs": [
        {
          "data": {
            "text/plain": [
              "<sklearn.metrics._plot.confusion_matrix.ConfusionMatrixDisplay at 0x7f9f58411af0>"
            ]
          },
          "execution_count": 126,
          "metadata": {},
          "output_type": "execute_result"
        },
        {
          "data": {
            "image/png": "[encoded data removed]",
            "text/plain": [
              "<Figure size 432x288 with 2 Axes>"
            ]
          },
          "metadata": {
            "needs_background": "light"
          },
          "output_type": "display_data"
        }
      ],
      "source": [
        "mc_dt_plot=ConfusionMatrixDisplay(mc_dt)\n",
        "mc_dt_plot.plot()"
      ]
    },
    {
      "cell_type": "markdown",
      "metadata": {
        "id": "GwSffbO5TylP"
      },
      "source": [
        "### Modelos Final Random Forest"
      ]
    },
    {
      "cell_type": "code",
      "execution_count": null,
      "metadata": {
        "id": "n9wBgcR1TylP",
        "outputId": "6efcc3b3-27a2-4f10-d693-724b53b794a4"
      },
      "outputs": [
        {
          "data": {
            "image/png": "[encoded data removed]",
            "text/plain": [
              "<Figure size 720x720 with 1 Axes>"
            ]
          },
          "metadata": {
            "needs_background": "light"
          },
          "output_type": "display_data"
        }
      ],
      "source": [
        "modelo_RFF = RandomForestClassifier(ccp_alpha=0.01,class_weight=None,criterion='entropy',max_depth=16,min_samples_split=2)\n",
        "pipeline_RFF = Pipeline(steps=[('ct',columnasTransformer),('m',modelo_RFF)])\n",
        "\n",
        "delta_train_sz = np.linspace(0.1,1,20)\n",
        "cv = RepeatedStratifiedKFold(n_splits=5, n_repeats=3)\n",
        "metrica=\"accuracy\"\n",
        "tr_sizes, tr_scores, val_scores = learning_curve(estimator = pipeline_RFF,    \n",
        "                                                 X = X_train,\n",
        "                                                 y = y_train,\n",
        "                                                 cv = cv ,\n",
        "                                                 scoring='accuracy',\n",
        "                                                 train_sizes = delta_train_sz ,\n",
        "                                                 )\n",
        "\n",
        "# Obtenemos el gráfico con las curvas de aprendizaje:\n",
        "mi_LearningCurvePlot(tr_sizes, tr_scores, val_scores,metrica)"
      ]
    },
    {
      "cell_type": "code",
      "execution_count": null,
      "metadata": {
        "id": "tpoJBbt4si7s"
      },
      "outputs": [],
      "source": [
        "#{'m__ccp_alpha': 0.01, 'm__class_weight': None, 'm__criterion': 'entropy', 'm__max_depth': 16, 'm__min_samples_split': 2}\n",
        "modelo = RandomForestClassifier(ccp_alpha=0.01,class_weight=None,criterion='entropy',max_depth=16,min_samples_split=2)\n",
        "pipeline = Pipeline(steps=[('ct',columnasTransformer),('m',modelo)])\n",
        "\n",
        "modelo_RFF = pipeline.fit(X_train,y_train)\n",
        "\n",
        "results_RFF = modelo_RFF.predict(X_test)"
      ]
    },
    {
      "cell_type": "code",
      "execution_count": null,
      "metadata": {
        "id": "9t8TF9uuTylQ",
        "outputId": "710ccb72-54b7-472f-de05-b42ecb271785"
      },
      "outputs": [
        {
          "name": "stdout",
          "output_type": "stream",
          "text": [
            "                   pre       rec       spe        f1       geo       iba       sup\n",
            "\n",
            "          0       0.90      0.92      0.97      0.91      0.94      0.89        49\n",
            "          1       0.97      0.91      0.99      0.94      0.95      0.89        80\n",
            "          2       0.96      1.00      0.97      0.98      0.98      0.97        85\n",
            "\n",
            "avg / total       0.95      0.95      0.98      0.95      0.96      0.92       214\n",
            "\n"
          ]
        }
      ],
      "source": [
        "print(classification_report_imbalanced(y_test,results_RFF))"
      ]
    },
    {
      "cell_type": "code",
      "execution_count": null,
      "metadata": {
        "id": "EVv_hwfeTylR",
        "outputId": "ea6f3702-30e0-42a3-c067-07de7b522d5d"
      },
      "outputs": [
        {
          "name": "stdout",
          "output_type": "stream",
          "text": [
            "              precision    recall  f1-score   support\n",
            "\n",
            "           0       0.90      0.92      0.91        49\n",
            "           1       0.97      0.91      0.94        80\n",
            "           2       0.96      1.00      0.98        85\n",
            "\n",
            "    accuracy                           0.95       214\n",
            "   macro avg       0.94      0.94      0.94       214\n",
            "weighted avg       0.95      0.95      0.95       214\n",
            "\n"
          ]
        }
      ],
      "source": [
        "print(classification_report(y_test,results_RFF))"
      ]
    },
    {
      "cell_type": "code",
      "execution_count": null,
      "metadata": {
        "id": "LnhrlTMnTylR",
        "outputId": "39a11200-4a41-4382-f1e2-7c40be5cc0d7"
      },
      "outputs": [
        {
          "data": {
            "text/plain": [
              "array([[45,  2,  2],\n",
              "       [ 5, 73,  2],\n",
              "       [ 0,  0, 85]])"
            ]
          },
          "execution_count": 132,
          "metadata": {},
          "output_type": "execute_result"
        }
      ],
      "source": [
        "mc=confusion_matrix(y_test,results_RFF)\n",
        "mc"
      ]
    },
    {
      "cell_type": "code",
      "execution_count": null,
      "metadata": {
        "id": "bZMShVNcTylR",
        "outputId": "47c8d0db-4e15-40bd-9d90-508ad8593b17"
      },
      "outputs": [
        {
          "data": {
            "text/plain": [
              "<sklearn.metrics._plot.confusion_matrix.ConfusionMatrixDisplay at 0x7f9f6023bcd0>"
            ]
          },
          "execution_count": 133,
          "metadata": {},
          "output_type": "execute_result"
        },
        {
          "data": {
            "image/png": "[encoded data removed]",
            "text/plain": [
              "<Figure size 432x288 with 2 Axes>"
            ]
          },
          "metadata": {
            "needs_background": "light"
          },
          "output_type": "display_data"
        }
      ],
      "source": [
        "mc_plot=ConfusionMatrixDisplay(mc)\n",
        "mc_plot.plot()"
      ]
    },
    {
      "cell_type": "markdown",
      "source": [
        "## Conclusiones "
      ],
      "metadata": {
        "id": "o5P8vm3lUd2D"
      }
    },
    {
      "cell_type": "markdown",
      "source": [
        "Durante el análisis del dataset de aguas subterráneas, se realizó un análisis de features con el motivo de conocer que variables podrían ser descartables. Donde se encontraron que las columnas que menos aportaron información fueron SUBTIPO, CALIDAD_CD, CALIDAD_HG.\n",
        "Lo cual indica que para el desarrollo de los modelos, conocer el tipo de acuífero no contribuye demasiado al semáforo. Las columnas calidad CD y calidad HG que representa la calidad del agua de acuerdo con el cadmio y el mercurio totales tampoco mostraron ser relevantes para los modelos.\n",
        "\n",
        "Durante este análisis multivariable se usaron los modelos de árbol de decisión y bosque aleatorio con el objetivo de clasificar de acuerdo con la variable semáforo la calidad del agua. Donde el modelo que mejores resultados mostro fue el árbol de decisión, que tomando en cuenta la métrica accuracy llego a un 98% de resultado. Revisando las curvas de aprendizaje y los reportes de métrica indican que no cuenta con un subentrenamiento o con sobreentrenamiento.\n",
        "Dando como resultado un modelo fiable para trabajar con este data set.\n",
        "\n",
        "Los resultados obtenidos en el bosque aleatorio, representan también una métrica aceptable aproximadamente del 96%, sin embargo, computacionalmente es más pesado el entrenamiento del bosque aleatorio, por lo que se descartaría prefiriendo el árbol de decisión.\n",
        "\n",
        "Estos estudios que involucran a la métrica accuracy como el valor para seleccionar el mejor modelo, no significa que se deban despreciar las otras métricas, relacionadas como serian el RECALL, F1 SCORE, GMEAN, etc. Por lo que sería interesante conversar con el negocio, para saber que supuestos son los que mejor apoyan a las decisiones de este estudio, por ejemplo, que supuesto tiene mayor importancia un Falso Positivo o un Falso Negativo. Como los resultados obtenidos en las matrices de confusiones que al ser multivariables deben tomar en cuenta las filas y columnas por igual.\n",
        "\n",
        "Se sugiere mayor contexto para reevaluar si los hiperparametros utilizados podría beneficiar a una métrica más acertada que el accuracy.\n"
      ],
      "metadata": {
        "id": "HxpgZzkOVYs8"
      }
    }
  ],
  "metadata": {
    "colab": {
      "provenance": [],
      "include_colab_link": true
    },
    "kernelspec": {
      "display_name": "Python 3.8.8 ('base')",
      "language": "python",
      "name": "python3"
    },
    "language_info": {
      "codemirror_mode": {
        "name": "ipython",
        "version": 3
      },
      "file_extension": ".py",
      "mimetype": "text/x-python",
      "name": "python",
      "nbconvert_exporter": "python",
      "pygments_lexer": "ipython3",
      "version": "3.8.8"
    },
    "vscode": {
      "interpreter": {
        "hash": "c52da4db0cc24982f172e6f7976463ee5edeec35eac07f0e6ceac694ec92108f"
      }
    }
  },
  "nbformat": 4,
  "nbformat_minor": 0
}