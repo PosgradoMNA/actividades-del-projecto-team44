{
  "cells": [
    {
      "cell_type": "markdown",
      "metadata": {
        "id": "view-in-github",
        "colab_type": "text"
      },
      "source": [
        "<a href=\"https://colab.research.google.com/github/PosgradoMNA/actividades-del-projecto-team44/blob/main/Semana4_Actividad5_Equipo44.ipynb\" target=\"_parent\"><img src=\"https://colab.research.google.com/assets/colab-badge.svg\" alt=\"Open In Colab\"/></a>"
      ]
    },
    {
      "cell_type": "markdown",
      "source": [
        "#**Tecnológico de Monterrey**\n",
        "\n",
        "#Maestría en Inteligencia Artificial Aplicada\n",
        "\n",
        "> Curso: Ciencia y Analítica de Datos\n",
        "\n",
        "> Entregable : Semana 4 - Actividad 5\n",
        "\n",
        ">Fecha: 11/10/2022\n",
        "\n",
        ">Profesores:\n",
        "\n",
        ">* Jobish Vallikavungal Devassia\n",
        "\n",
        ">* Roberto Antonio Guevara González\n",
        "\n",
        "> Integrantes:\n",
        "\n",
        "\n",
        "*   LUIS ALFONSO SABANERO ESQUIVEL - A01273286\n",
        "*   AQUILES YONATAN ARMENTA HERNANDEZ - A01793252\n"
      ],
      "metadata": {
        "id": "My16B0oaHXuo"
      }
    },
    {
      "cell_type": "markdown",
      "source": [
        "# Introducción \n",
        "\n",
        "Durante esta entrega tocaremos algunos temas como Reducción de la Dimensionalidad con PCA (Análisis de Componentes Principales.), Matriz de Correlación, Filtrado y Normalización del Dataset, es importante dejar claro en qué consisten y porque se emplearan.\n",
        "\n",
        "Uno de los primeros pasos durante el desarrollo de esta entrega consistió en realizar un filtrado y limpieza de datos, existen datos que tienen inconsistencia en la regla de negocio y existen otros elementos que son de tipo categórico que por el momento descartamos, adicional se le asigno un nombre más descriptivo que nos permitiera identificarlas con mayor facilidad, para esto ocupamos Pandas.\n",
        "\n",
        "Como siguiente paso se realizó una matriz de correlación, que nos indica los coeficientes de conexión que tenemos en nuestros datos, esto se logra mediante una utilidad de pandas llamada corr(), adicional mediante seaborn y matplotlib realizamos un headmap y un gráfico que nos permita ver gráficamente el comportamiento de nuestros datos correlacionados.\n",
        "\n",
        "Cumpliendo los pasos anteriores realizamos una estandarización, esta se logra con StandardScaler de Skilearn que nos ayuda a estandarizar los valores de diferentes escalas que tenemos en nuestra muestra.\n",
        "\n",
        "Por ultimo realizamos una reducción de dimensionalidad con PCA, esto se logra con Sklearn decomposition , en esencia este es el paso más importante para poder reducir la dimensionalidad de nuestros datos.\n",
        "\n",
        "\n",
        "\n"
      ],
      "metadata": {
        "id": "MaDuiAf3KZ61"
      }
    },
    {
      "cell_type": "code",
      "execution_count": 15,
      "metadata": {
        "id": "adqYQxtTGyM-"
      },
      "outputs": [],
      "source": [
        "import pandas as pd # IMPORTACION DE PANDAS\n",
        "import numpy as np # IMPORTACION DE NUMPY\n",
        "import matplotlib.pyplot as plt # IMPORTACION DE MATPLOTLIB \n",
        "import seaborn as sns # IMPORTACION DE SEABORN\n",
        "from sklearn.decomposition import PCA # ANALISIS DE COMPONENTES PRINCIPALES\n",
        "from sklearn.preprocessing import StandardScaler # ESTANDARIZACION\n",
        "from google.colab import data_table # IMPORTACION DE LIBRERIA PARA DAR FORMATO A LOS DATAFRAMES \n",
        "data_table.enable_dataframe_formatter() # ENABLE DATAFRAME FORMATTER"
      ]
    },
    {
      "cell_type": "code",
      "source": [
        "from google.colab import drive\n",
        "drive.mount('/content/drive')"
      ],
      "metadata": {
        "colab": {
          "base_uri": "https://localhost:8080/"
        },
        "id": "5ToIjux99noR",
        "outputId": "c5229d55-d6ab-400d-af11-486c624e8b11"
      },
      "execution_count": 16,
      "outputs": [
        {
          "output_type": "stream",
          "name": "stdout",
          "text": [
            "Drive already mounted at /content/drive; to attempt to forcibly remount, call drive.mount(\"/content/drive\", force_remount=True).\n"
          ]
        }
      ]
    },
    {
      "cell_type": "code",
      "execution_count": 17,
      "metadata": {
        "colab": {
          "base_uri": "https://localhost:8080/",
          "height": 207
        },
        "id": "8tXx-yshGyND",
        "outputId": "ed1c03cd-8669-4c77-b067-e959c4e84efe"
      },
      "outputs": [
        {
          "output_type": "stream",
          "name": "stdout",
          "text": [
            "Warning: Total number of columns (25) exceeds max_columns (20) limiting to first (20) columns.\n"
          ]
        },
        {
          "output_type": "execute_result",
          "data": {
            "text/html": [
              "<div>\n",
              "<style scoped>\n",
              "    .dataframe tbody tr th:only-of-type {\n",
              "        vertical-align: middle;\n",
              "    }\n",
              "\n",
              "    .dataframe tbody tr th {\n",
              "        vertical-align: top;\n",
              "    }\n",
              "\n",
              "    .dataframe thead th {\n",
              "        text-align: right;\n",
              "    }\n",
              "</style>\n",
              "<table border=\"1\" class=\"dataframe\">\n",
              "  <thead>\n",
              "    <tr style=\"text-align: right;\">\n",
              "      <th></th>\n",
              "      <th>ID</th>\n",
              "      <th>MONTO</th>\n",
              "      <th>GENERO</th>\n",
              "      <th>GRADO_ESTUDIOS</th>\n",
              "      <th>ESTADO_CIVIL</th>\n",
              "      <th>EDAD</th>\n",
              "      <th>HP_SEP</th>\n",
              "      <th>HP_AGO</th>\n",
              "      <th>HP_JUL</th>\n",
              "      <th>HP_JUN</th>\n",
              "      <th>...</th>\n",
              "      <th>MP_JUN</th>\n",
              "      <th>MP_MAY</th>\n",
              "      <th>MP_ABR</th>\n",
              "      <th>MPA_SEP</th>\n",
              "      <th>MPA_AGO</th>\n",
              "      <th>MPA_JUL</th>\n",
              "      <th>MPA_JUN</th>\n",
              "      <th>MPA_MAY</th>\n",
              "      <th>MPA_ABR</th>\n",
              "      <th>Y</th>\n",
              "    </tr>\n",
              "  </thead>\n",
              "  <tbody>\n",
              "    <tr>\n",
              "      <th>0</th>\n",
              "      <td>1</td>\n",
              "      <td>20000</td>\n",
              "      <td>2.0</td>\n",
              "      <td>2.0</td>\n",
              "      <td>1.0</td>\n",
              "      <td>24.0</td>\n",
              "      <td>2.0</td>\n",
              "      <td>2.0</td>\n",
              "      <td>-1.0</td>\n",
              "      <td>-1.0</td>\n",
              "      <td>...</td>\n",
              "      <td>0.0</td>\n",
              "      <td>0.0</td>\n",
              "      <td>0.0</td>\n",
              "      <td>0.0</td>\n",
              "      <td>689.0</td>\n",
              "      <td>0.0</td>\n",
              "      <td>0.0</td>\n",
              "      <td>0.0</td>\n",
              "      <td>0.0</td>\n",
              "      <td>1.0</td>\n",
              "    </tr>\n",
              "    <tr>\n",
              "      <th>1</th>\n",
              "      <td>2</td>\n",
              "      <td>120000</td>\n",
              "      <td>2.0</td>\n",
              "      <td>2.0</td>\n",
              "      <td>2.0</td>\n",
              "      <td>26.0</td>\n",
              "      <td>-1.0</td>\n",
              "      <td>2.0</td>\n",
              "      <td>0.0</td>\n",
              "      <td>0.0</td>\n",
              "      <td>...</td>\n",
              "      <td>3272.0</td>\n",
              "      <td>3455.0</td>\n",
              "      <td>3261.0</td>\n",
              "      <td>0.0</td>\n",
              "      <td>1000.0</td>\n",
              "      <td>1000.0</td>\n",
              "      <td>1000.0</td>\n",
              "      <td>0.0</td>\n",
              "      <td>2000.0</td>\n",
              "      <td>1.0</td>\n",
              "    </tr>\n",
              "    <tr>\n",
              "      <th>2</th>\n",
              "      <td>3</td>\n",
              "      <td>90000</td>\n",
              "      <td>2.0</td>\n",
              "      <td>2.0</td>\n",
              "      <td>2.0</td>\n",
              "      <td>34.0</td>\n",
              "      <td>0.0</td>\n",
              "      <td>0.0</td>\n",
              "      <td>0.0</td>\n",
              "      <td>0.0</td>\n",
              "      <td>...</td>\n",
              "      <td>14331.0</td>\n",
              "      <td>14948.0</td>\n",
              "      <td>15549.0</td>\n",
              "      <td>1518.0</td>\n",
              "      <td>1500.0</td>\n",
              "      <td>1000.0</td>\n",
              "      <td>1000.0</td>\n",
              "      <td>1000.0</td>\n",
              "      <td>5000.0</td>\n",
              "      <td>0.0</td>\n",
              "    </tr>\n",
              "    <tr>\n",
              "      <th>3</th>\n",
              "      <td>4</td>\n",
              "      <td>50000</td>\n",
              "      <td>2.0</td>\n",
              "      <td>2.0</td>\n",
              "      <td>1.0</td>\n",
              "      <td>37.0</td>\n",
              "      <td>0.0</td>\n",
              "      <td>0.0</td>\n",
              "      <td>0.0</td>\n",
              "      <td>0.0</td>\n",
              "      <td>...</td>\n",
              "      <td>28314.0</td>\n",
              "      <td>28959.0</td>\n",
              "      <td>29547.0</td>\n",
              "      <td>2000.0</td>\n",
              "      <td>2019.0</td>\n",
              "      <td>1200.0</td>\n",
              "      <td>1100.0</td>\n",
              "      <td>1069.0</td>\n",
              "      <td>1000.0</td>\n",
              "      <td>0.0</td>\n",
              "    </tr>\n",
              "    <tr>\n",
              "      <th>4</th>\n",
              "      <td>5</td>\n",
              "      <td>50000</td>\n",
              "      <td>1.0</td>\n",
              "      <td>2.0</td>\n",
              "      <td>1.0</td>\n",
              "      <td>57.0</td>\n",
              "      <td>-1.0</td>\n",
              "      <td>0.0</td>\n",
              "      <td>-1.0</td>\n",
              "      <td>0.0</td>\n",
              "      <td>...</td>\n",
              "      <td>20940.0</td>\n",
              "      <td>19146.0</td>\n",
              "      <td>19131.0</td>\n",
              "      <td>2000.0</td>\n",
              "      <td>36681.0</td>\n",
              "      <td>10000.0</td>\n",
              "      <td>9000.0</td>\n",
              "      <td>689.0</td>\n",
              "      <td>679.0</td>\n",
              "      <td>0.0</td>\n",
              "    </tr>\n",
              "  </tbody>\n",
              "</table>\n",
              "<p>5 rows × 25 columns</p>\n",
              "</div>"
            ],
            "application/vnd.google.colaboratory.module+javascript": "\n      import \"https://ssl.gstatic.com/colaboratory/data_table/a8bd4d5e58f96183/data_table.js\";\n\n      window.createDataTable({\n        data: [[{\n            'v': 0,\n            'f': \"0\",\n        },\n{\n            'v': 1,\n            'f': \"1\",\n        },\n{\n            'v': 20000,\n            'f': \"20000\",\n        },\n{\n            'v': 2.0,\n            'f': \"2.0\",\n        },\n{\n            'v': 2.0,\n            'f': \"2.0\",\n        },\n{\n            'v': 1.0,\n            'f': \"1.0\",\n        },\n{\n            'v': 24.0,\n            'f': \"24.0\",\n        },\n{\n            'v': 2.0,\n            'f': \"2.0\",\n        },\n{\n            'v': 2.0,\n            'f': \"2.0\",\n        },\n{\n            'v': -1.0,\n            'f': \"-1.0\",\n        },\n{\n            'v': -1.0,\n            'f': \"-1.0\",\n        },\n{\n            'v': -2.0,\n            'f': \"-2.0\",\n        },\n{\n            'v': -2.0,\n            'f': \"-2.0\",\n        },\n{\n            'v': 3913.0,\n            'f': \"3913.0\",\n        },\n{\n            'v': 3102.0,\n            'f': \"3102.0\",\n        },\n{\n            'v': 689.0,\n            'f': \"689.0\",\n        },\n{\n            'v': 0.0,\n            'f': \"0.0\",\n        },\n{\n            'v': 0.0,\n            'f': \"0.0\",\n        },\n{\n            'v': 0.0,\n            'f': \"0.0\",\n        },\n{\n            'v': 0.0,\n            'f': \"0.0\",\n        },\n{\n            'v': 689.0,\n            'f': \"689.0\",\n        }],\n [{\n            'v': 1,\n            'f': \"1\",\n        },\n{\n            'v': 2,\n            'f': \"2\",\n        },\n{\n            'v': 120000,\n            'f': \"120000\",\n        },\n{\n            'v': 2.0,\n            'f': \"2.0\",\n        },\n{\n            'v': 2.0,\n            'f': \"2.0\",\n        },\n{\n            'v': 2.0,\n            'f': \"2.0\",\n        },\n{\n            'v': 26.0,\n            'f': \"26.0\",\n        },\n{\n            'v': -1.0,\n            'f': \"-1.0\",\n        },\n{\n            'v': 2.0,\n            'f': \"2.0\",\n        },\n{\n            'v': 0.0,\n            'f': \"0.0\",\n        },\n{\n            'v': 0.0,\n            'f': \"0.0\",\n        },\n{\n            'v': 0.0,\n            'f': \"0.0\",\n        },\n{\n            'v': 2.0,\n            'f': \"2.0\",\n        },\n{\n            'v': 2682.0,\n            'f': \"2682.0\",\n        },\n{\n            'v': 1725.0,\n            'f': \"1725.0\",\n        },\n{\n            'v': 2682.0,\n            'f': \"2682.0\",\n        },\n{\n            'v': 3272.0,\n            'f': \"3272.0\",\n        },\n{\n            'v': 3455.0,\n            'f': \"3455.0\",\n        },\n{\n            'v': 3261.0,\n            'f': \"3261.0\",\n        },\n{\n            'v': 0.0,\n            'f': \"0.0\",\n        },\n{\n            'v': 1000.0,\n            'f': \"1000.0\",\n        }],\n [{\n            'v': 2,\n            'f': \"2\",\n        },\n{\n            'v': 3,\n            'f': \"3\",\n        },\n{\n            'v': 90000,\n            'f': \"90000\",\n        },\n{\n            'v': 2.0,\n            'f': \"2.0\",\n        },\n{\n            'v': 2.0,\n            'f': \"2.0\",\n        },\n{\n            'v': 2.0,\n            'f': \"2.0\",\n        },\n{\n            'v': 34.0,\n            'f': \"34.0\",\n        },\n{\n            'v': 0.0,\n            'f': \"0.0\",\n        },\n{\n            'v': 0.0,\n            'f': \"0.0\",\n        },\n{\n            'v': 0.0,\n            'f': \"0.0\",\n        },\n{\n            'v': 0.0,\n            'f': \"0.0\",\n        },\n{\n            'v': 0.0,\n            'f': \"0.0\",\n        },\n{\n            'v': 0.0,\n            'f': \"0.0\",\n        },\n{\n            'v': 29239.0,\n            'f': \"29239.0\",\n        },\n{\n            'v': 14027.0,\n            'f': \"14027.0\",\n        },\n{\n            'v': 13559.0,\n            'f': \"13559.0\",\n        },\n{\n            'v': 14331.0,\n            'f': \"14331.0\",\n        },\n{\n            'v': 14948.0,\n            'f': \"14948.0\",\n        },\n{\n            'v': 15549.0,\n            'f': \"15549.0\",\n        },\n{\n            'v': 1518.0,\n            'f': \"1518.0\",\n        },\n{\n            'v': 1500.0,\n            'f': \"1500.0\",\n        }],\n [{\n            'v': 3,\n            'f': \"3\",\n        },\n{\n            'v': 4,\n            'f': \"4\",\n        },\n{\n            'v': 50000,\n            'f': \"50000\",\n        },\n{\n            'v': 2.0,\n            'f': \"2.0\",\n        },\n{\n            'v': 2.0,\n            'f': \"2.0\",\n        },\n{\n            'v': 1.0,\n            'f': \"1.0\",\n        },\n{\n            'v': 37.0,\n            'f': \"37.0\",\n        },\n{\n            'v': 0.0,\n            'f': \"0.0\",\n        },\n{\n            'v': 0.0,\n            'f': \"0.0\",\n        },\n{\n            'v': 0.0,\n            'f': \"0.0\",\n        },\n{\n            'v': 0.0,\n            'f': \"0.0\",\n        },\n{\n            'v': 0.0,\n            'f': \"0.0\",\n        },\n{\n            'v': 0.0,\n            'f': \"0.0\",\n        },\n{\n            'v': 46990.0,\n            'f': \"46990.0\",\n        },\n{\n            'v': 48233.0,\n            'f': \"48233.0\",\n        },\n{\n            'v': 49291.0,\n            'f': \"49291.0\",\n        },\n{\n            'v': 28314.0,\n            'f': \"28314.0\",\n        },\n{\n            'v': 28959.0,\n            'f': \"28959.0\",\n        },\n{\n            'v': 29547.0,\n            'f': \"29547.0\",\n        },\n{\n            'v': 2000.0,\n            'f': \"2000.0\",\n        },\n{\n            'v': 2019.0,\n            'f': \"2019.0\",\n        }],\n [{\n            'v': 4,\n            'f': \"4\",\n        },\n{\n            'v': 5,\n            'f': \"5\",\n        },\n{\n            'v': 50000,\n            'f': \"50000\",\n        },\n{\n            'v': 1.0,\n            'f': \"1.0\",\n        },\n{\n            'v': 2.0,\n            'f': \"2.0\",\n        },\n{\n            'v': 1.0,\n            'f': \"1.0\",\n        },\n{\n            'v': 57.0,\n            'f': \"57.0\",\n        },\n{\n            'v': -1.0,\n            'f': \"-1.0\",\n        },\n{\n            'v': 0.0,\n            'f': \"0.0\",\n        },\n{\n            'v': -1.0,\n            'f': \"-1.0\",\n        },\n{\n            'v': 0.0,\n            'f': \"0.0\",\n        },\n{\n            'v': 0.0,\n            'f': \"0.0\",\n        },\n{\n            'v': 0.0,\n            'f': \"0.0\",\n        },\n{\n            'v': 8617.0,\n            'f': \"8617.0\",\n        },\n{\n            'v': 5670.0,\n            'f': \"5670.0\",\n        },\n{\n            'v': 35835.0,\n            'f': \"35835.0\",\n        },\n{\n            'v': 20940.0,\n            'f': \"20940.0\",\n        },\n{\n            'v': 19146.0,\n            'f': \"19146.0\",\n        },\n{\n            'v': 19131.0,\n            'f': \"19131.0\",\n        },\n{\n            'v': 2000.0,\n            'f': \"2000.0\",\n        },\n{\n            'v': 36681.0,\n            'f': \"36681.0\",\n        }]],\n        columns: [[\"number\", \"index\"], [\"number\", \"ID\"], [\"number\", \"MONTO\"], [\"number\", \"GENERO\"], [\"number\", \"GRADO_ESTUDIOS\"], [\"number\", \"ESTADO_CIVIL\"], [\"number\", \"EDAD\"], [\"number\", \"HP_SEP\"], [\"number\", \"HP_AGO\"], [\"number\", \"HP_JUL\"], [\"number\", \"HP_JUN\"], [\"number\", \"HP_MAY\"], [\"number\", \"HP_ABR\"], [\"number\", \"MP_SEP\"], [\"number\", \"MP_AGO\"], [\"number\", \"MP_JUL\"], [\"number\", \"MP_JUN\"], [\"number\", \"MP_MAY\"], [\"number\", \"MP_ABR\"], [\"number\", \"MPA_SEP\"], [\"number\", \"MPA_AGO\"]],\n        columnOptions: [{\"width\": \"1px\", \"className\": \"index_column\"}],\n        rowsPerPage: 25,\n        helpUrl: \"https://colab.research.google.com/notebooks/data_table.ipynb\",\n        suppressOutputScrolling: true,\n        minimumWidth: undefined,\n      });\n    ",
            "text/plain": [
              "<google.colab.data_table.DataTable object>"
            ]
          },
          "metadata": {},
          "execution_count": 17
        }
      ],
      "source": [
        "df = pd.read_csv('sample_data/dataset.csv') #LECTURA DEL ARCHIVO\n",
        "df.rename(columns={'X1':'MONTO', 'X2':'GENERO', 'X3':'GRADO_ESTUDIOS', 'X4':'ESTADO_CIVIL', 'X5':'EDAD', 'X6':'HP_SEP','X7':'HP_AGO','X8':'HP_JUL','X9':'HP_JUN','X10':'HP_MAY','X11':'HP_ABR','X12':'MP_SEP','X13':'MP_AGO','X14':'MP_JUL','X15':'MP_JUN', 'X16':'MP_MAY','X17':'MP_ABR','X18':'MPA_SEP', 'X19':'MPA_AGO','X20':'MPA_JUL','X21':'MPA_JUN','X22':'MPA_MAY','X23':'MPA_ABR'}, inplace = True) # RENOMBRAR COLUMNAS DEL DATAFRAME\n",
        "data_table.DataTable(df.head())"
      ]
    },
    {
      "cell_type": "code",
      "execution_count": 18,
      "metadata": {
        "colab": {
          "base_uri": "https://localhost:8080/",
          "height": 598
        },
        "id": "CB_pvJ9HGyNE",
        "outputId": "77196453-4b89-4b40-b352-72247b86a2ab"
      },
      "outputs": [
        {
          "output_type": "execute_result",
          "data": {
            "text/html": [
              "<div>\n",
              "<style scoped>\n",
              "    .dataframe tbody tr th:only-of-type {\n",
              "        vertical-align: middle;\n",
              "    }\n",
              "\n",
              "    .dataframe tbody tr th {\n",
              "        vertical-align: top;\n",
              "    }\n",
              "\n",
              "    .dataframe thead th {\n",
              "        text-align: right;\n",
              "    }\n",
              "</style>\n",
              "<table border=\"1\" class=\"dataframe\">\n",
              "  <thead>\n",
              "    <tr style=\"text-align: right;\">\n",
              "      <th></th>\n",
              "      <th>TIPO</th>\n",
              "    </tr>\n",
              "  </thead>\n",
              "  <tbody>\n",
              "    <tr>\n",
              "      <th>ID</th>\n",
              "      <td>int64</td>\n",
              "    </tr>\n",
              "    <tr>\n",
              "      <th>MONTO</th>\n",
              "      <td>int64</td>\n",
              "    </tr>\n",
              "    <tr>\n",
              "      <th>GENERO</th>\n",
              "      <td>float64</td>\n",
              "    </tr>\n",
              "    <tr>\n",
              "      <th>GRADO_ESTUDIOS</th>\n",
              "      <td>float64</td>\n",
              "    </tr>\n",
              "    <tr>\n",
              "      <th>ESTADO_CIVIL</th>\n",
              "      <td>float64</td>\n",
              "    </tr>\n",
              "    <tr>\n",
              "      <th>EDAD</th>\n",
              "      <td>float64</td>\n",
              "    </tr>\n",
              "    <tr>\n",
              "      <th>HP_SEP</th>\n",
              "      <td>float64</td>\n",
              "    </tr>\n",
              "    <tr>\n",
              "      <th>HP_AGO</th>\n",
              "      <td>float64</td>\n",
              "    </tr>\n",
              "    <tr>\n",
              "      <th>HP_JUL</th>\n",
              "      <td>float64</td>\n",
              "    </tr>\n",
              "    <tr>\n",
              "      <th>HP_JUN</th>\n",
              "      <td>float64</td>\n",
              "    </tr>\n",
              "    <tr>\n",
              "      <th>HP_MAY</th>\n",
              "      <td>float64</td>\n",
              "    </tr>\n",
              "    <tr>\n",
              "      <th>HP_ABR</th>\n",
              "      <td>float64</td>\n",
              "    </tr>\n",
              "    <tr>\n",
              "      <th>MP_SEP</th>\n",
              "      <td>float64</td>\n",
              "    </tr>\n",
              "    <tr>\n",
              "      <th>MP_AGO</th>\n",
              "      <td>float64</td>\n",
              "    </tr>\n",
              "    <tr>\n",
              "      <th>MP_JUL</th>\n",
              "      <td>float64</td>\n",
              "    </tr>\n",
              "    <tr>\n",
              "      <th>MP_JUN</th>\n",
              "      <td>float64</td>\n",
              "    </tr>\n",
              "    <tr>\n",
              "      <th>MP_MAY</th>\n",
              "      <td>float64</td>\n",
              "    </tr>\n",
              "    <tr>\n",
              "      <th>MP_ABR</th>\n",
              "      <td>float64</td>\n",
              "    </tr>\n",
              "    <tr>\n",
              "      <th>MPA_SEP</th>\n",
              "      <td>float64</td>\n",
              "    </tr>\n",
              "    <tr>\n",
              "      <th>MPA_AGO</th>\n",
              "      <td>float64</td>\n",
              "    </tr>\n",
              "    <tr>\n",
              "      <th>MPA_JUL</th>\n",
              "      <td>float64</td>\n",
              "    </tr>\n",
              "    <tr>\n",
              "      <th>MPA_JUN</th>\n",
              "      <td>float64</td>\n",
              "    </tr>\n",
              "    <tr>\n",
              "      <th>MPA_MAY</th>\n",
              "      <td>float64</td>\n",
              "    </tr>\n",
              "    <tr>\n",
              "      <th>MPA_ABR</th>\n",
              "      <td>float64</td>\n",
              "    </tr>\n",
              "    <tr>\n",
              "      <th>Y</th>\n",
              "      <td>float64</td>\n",
              "    </tr>\n",
              "  </tbody>\n",
              "</table>\n",
              "</div>"
            ],
            "application/vnd.google.colaboratory.module+javascript": "\n      import \"https://ssl.gstatic.com/colaboratory/data_table/a8bd4d5e58f96183/data_table.js\";\n\n      window.createDataTable({\n        data: [[\"ID\",\n\"int64\"],\n [\"MONTO\",\n\"int64\"],\n [\"GENERO\",\n\"float64\"],\n [\"GRADO_ESTUDIOS\",\n\"float64\"],\n [\"ESTADO_CIVIL\",\n\"float64\"],\n [\"EDAD\",\n\"float64\"],\n [\"HP_SEP\",\n\"float64\"],\n [\"HP_AGO\",\n\"float64\"],\n [\"HP_JUL\",\n\"float64\"],\n [\"HP_JUN\",\n\"float64\"],\n [\"HP_MAY\",\n\"float64\"],\n [\"HP_ABR\",\n\"float64\"],\n [\"MP_SEP\",\n\"float64\"],\n [\"MP_AGO\",\n\"float64\"],\n [\"MP_JUL\",\n\"float64\"],\n [\"MP_JUN\",\n\"float64\"],\n [\"MP_MAY\",\n\"float64\"],\n [\"MP_ABR\",\n\"float64\"],\n [\"MPA_SEP\",\n\"float64\"],\n [\"MPA_AGO\",\n\"float64\"],\n [\"MPA_JUL\",\n\"float64\"],\n [\"MPA_JUN\",\n\"float64\"],\n [\"MPA_MAY\",\n\"float64\"],\n [\"MPA_ABR\",\n\"float64\"],\n [\"Y\",\n\"float64\"]],\n        columns: [[\"string\", \"index\"], [\"string\", \"TIPO\"]],\n        columnOptions: [{\"width\": \"1px\", \"className\": \"index_column\"}],\n        rowsPerPage: 25,\n        helpUrl: \"https://colab.research.google.com/notebooks/data_table.ipynb\",\n        suppressOutputScrolling: true,\n        minimumWidth: undefined,\n      });\n    ",
            "text/plain": [
              "<google.colab.data_table.DataTable object>"
            ]
          },
          "metadata": {},
          "execution_count": 18
        }
      ],
      "source": [
        "dfTipos = pd.DataFrame(df.dtypes,columns={'TIPO'}) # OBTENER EL TIPO DE DATOS DEL DATAFRAME\n",
        "data_table.DataTable(dfTipos)"
      ]
    },
    {
      "cell_type": "code",
      "execution_count": 19,
      "metadata": {
        "colab": {
          "base_uri": "https://localhost:8080/",
          "height": 190
        },
        "id": "ccr9bbwRGyNF",
        "outputId": "23126988-9bc8-494e-cea4-faf498578bcd"
      },
      "outputs": [
        {
          "output_type": "execute_result",
          "data": {
            "text/html": [
              "<div>\n",
              "<style scoped>\n",
              "    .dataframe tbody tr th:only-of-type {\n",
              "        vertical-align: middle;\n",
              "    }\n",
              "\n",
              "    .dataframe tbody tr th {\n",
              "        vertical-align: top;\n",
              "    }\n",
              "\n",
              "    .dataframe thead th {\n",
              "        text-align: right;\n",
              "    }\n",
              "</style>\n",
              "<table border=\"1\" class=\"dataframe\">\n",
              "  <thead>\n",
              "    <tr style=\"text-align: right;\">\n",
              "      <th></th>\n",
              "      <th>MONTO</th>\n",
              "      <th>EDAD</th>\n",
              "      <th>MP_SEP</th>\n",
              "      <th>MP_AGO</th>\n",
              "      <th>MP_JUL</th>\n",
              "      <th>MP_JUN</th>\n",
              "      <th>MP_MAY</th>\n",
              "      <th>MP_ABR</th>\n",
              "      <th>MPA_SEP</th>\n",
              "      <th>MPA_AGO</th>\n",
              "      <th>MPA_JUL</th>\n",
              "      <th>MPA_JUN</th>\n",
              "      <th>MPA_MAY</th>\n",
              "      <th>MPA_ABR</th>\n",
              "    </tr>\n",
              "  </thead>\n",
              "  <tbody>\n",
              "    <tr>\n",
              "      <th>0</th>\n",
              "      <td>20000</td>\n",
              "      <td>24.0</td>\n",
              "      <td>3913.0</td>\n",
              "      <td>3102.0</td>\n",
              "      <td>689.0</td>\n",
              "      <td>0.0</td>\n",
              "      <td>0.0</td>\n",
              "      <td>0.0</td>\n",
              "      <td>0.0</td>\n",
              "      <td>689.0</td>\n",
              "      <td>0.0</td>\n",
              "      <td>0.0</td>\n",
              "      <td>0.0</td>\n",
              "      <td>0.0</td>\n",
              "    </tr>\n",
              "    <tr>\n",
              "      <th>1</th>\n",
              "      <td>120000</td>\n",
              "      <td>26.0</td>\n",
              "      <td>2682.0</td>\n",
              "      <td>1725.0</td>\n",
              "      <td>2682.0</td>\n",
              "      <td>3272.0</td>\n",
              "      <td>3455.0</td>\n",
              "      <td>3261.0</td>\n",
              "      <td>0.0</td>\n",
              "      <td>1000.0</td>\n",
              "      <td>1000.0</td>\n",
              "      <td>1000.0</td>\n",
              "      <td>0.0</td>\n",
              "      <td>2000.0</td>\n",
              "    </tr>\n",
              "    <tr>\n",
              "      <th>2</th>\n",
              "      <td>90000</td>\n",
              "      <td>34.0</td>\n",
              "      <td>29239.0</td>\n",
              "      <td>14027.0</td>\n",
              "      <td>13559.0</td>\n",
              "      <td>14331.0</td>\n",
              "      <td>14948.0</td>\n",
              "      <td>15549.0</td>\n",
              "      <td>1518.0</td>\n",
              "      <td>1500.0</td>\n",
              "      <td>1000.0</td>\n",
              "      <td>1000.0</td>\n",
              "      <td>1000.0</td>\n",
              "      <td>5000.0</td>\n",
              "    </tr>\n",
              "    <tr>\n",
              "      <th>3</th>\n",
              "      <td>50000</td>\n",
              "      <td>37.0</td>\n",
              "      <td>46990.0</td>\n",
              "      <td>48233.0</td>\n",
              "      <td>49291.0</td>\n",
              "      <td>28314.0</td>\n",
              "      <td>28959.0</td>\n",
              "      <td>29547.0</td>\n",
              "      <td>2000.0</td>\n",
              "      <td>2019.0</td>\n",
              "      <td>1200.0</td>\n",
              "      <td>1100.0</td>\n",
              "      <td>1069.0</td>\n",
              "      <td>1000.0</td>\n",
              "    </tr>\n",
              "    <tr>\n",
              "      <th>4</th>\n",
              "      <td>50000</td>\n",
              "      <td>57.0</td>\n",
              "      <td>8617.0</td>\n",
              "      <td>5670.0</td>\n",
              "      <td>35835.0</td>\n",
              "      <td>20940.0</td>\n",
              "      <td>19146.0</td>\n",
              "      <td>19131.0</td>\n",
              "      <td>2000.0</td>\n",
              "      <td>36681.0</td>\n",
              "      <td>10000.0</td>\n",
              "      <td>9000.0</td>\n",
              "      <td>689.0</td>\n",
              "      <td>679.0</td>\n",
              "    </tr>\n",
              "  </tbody>\n",
              "</table>\n",
              "</div>"
            ],
            "application/vnd.google.colaboratory.module+javascript": "\n      import \"https://ssl.gstatic.com/colaboratory/data_table/a8bd4d5e58f96183/data_table.js\";\n\n      window.createDataTable({\n        data: [[{\n            'v': 0,\n            'f': \"0\",\n        },\n{\n            'v': 20000,\n            'f': \"20000\",\n        },\n{\n            'v': 24.0,\n            'f': \"24.0\",\n        },\n{\n            'v': 3913.0,\n            'f': \"3913.0\",\n        },\n{\n            'v': 3102.0,\n            'f': \"3102.0\",\n        },\n{\n            'v': 689.0,\n            'f': \"689.0\",\n        },\n{\n            'v': 0.0,\n            'f': \"0.0\",\n        },\n{\n            'v': 0.0,\n            'f': \"0.0\",\n        },\n{\n            'v': 0.0,\n            'f': \"0.0\",\n        },\n{\n            'v': 0.0,\n            'f': \"0.0\",\n        },\n{\n            'v': 689.0,\n            'f': \"689.0\",\n        },\n{\n            'v': 0.0,\n            'f': \"0.0\",\n        },\n{\n            'v': 0.0,\n            'f': \"0.0\",\n        },\n{\n            'v': 0.0,\n            'f': \"0.0\",\n        },\n{\n            'v': 0.0,\n            'f': \"0.0\",\n        }],\n [{\n            'v': 1,\n            'f': \"1\",\n        },\n{\n            'v': 120000,\n            'f': \"120000\",\n        },\n{\n            'v': 26.0,\n            'f': \"26.0\",\n        },\n{\n            'v': 2682.0,\n            'f': \"2682.0\",\n        },\n{\n            'v': 1725.0,\n            'f': \"1725.0\",\n        },\n{\n            'v': 2682.0,\n            'f': \"2682.0\",\n        },\n{\n            'v': 3272.0,\n            'f': \"3272.0\",\n        },\n{\n            'v': 3455.0,\n            'f': \"3455.0\",\n        },\n{\n            'v': 3261.0,\n            'f': \"3261.0\",\n        },\n{\n            'v': 0.0,\n            'f': \"0.0\",\n        },\n{\n            'v': 1000.0,\n            'f': \"1000.0\",\n        },\n{\n            'v': 1000.0,\n            'f': \"1000.0\",\n        },\n{\n            'v': 1000.0,\n            'f': \"1000.0\",\n        },\n{\n            'v': 0.0,\n            'f': \"0.0\",\n        },\n{\n            'v': 2000.0,\n            'f': \"2000.0\",\n        }],\n [{\n            'v': 2,\n            'f': \"2\",\n        },\n{\n            'v': 90000,\n            'f': \"90000\",\n        },\n{\n            'v': 34.0,\n            'f': \"34.0\",\n        },\n{\n            'v': 29239.0,\n            'f': \"29239.0\",\n        },\n{\n            'v': 14027.0,\n            'f': \"14027.0\",\n        },\n{\n            'v': 13559.0,\n            'f': \"13559.0\",\n        },\n{\n            'v': 14331.0,\n            'f': \"14331.0\",\n        },\n{\n            'v': 14948.0,\n            'f': \"14948.0\",\n        },\n{\n            'v': 15549.0,\n            'f': \"15549.0\",\n        },\n{\n            'v': 1518.0,\n            'f': \"1518.0\",\n        },\n{\n            'v': 1500.0,\n            'f': \"1500.0\",\n        },\n{\n            'v': 1000.0,\n            'f': \"1000.0\",\n        },\n{\n            'v': 1000.0,\n            'f': \"1000.0\",\n        },\n{\n            'v': 1000.0,\n            'f': \"1000.0\",\n        },\n{\n            'v': 5000.0,\n            'f': \"5000.0\",\n        }],\n [{\n            'v': 3,\n            'f': \"3\",\n        },\n{\n            'v': 50000,\n            'f': \"50000\",\n        },\n{\n            'v': 37.0,\n            'f': \"37.0\",\n        },\n{\n            'v': 46990.0,\n            'f': \"46990.0\",\n        },\n{\n            'v': 48233.0,\n            'f': \"48233.0\",\n        },\n{\n            'v': 49291.0,\n            'f': \"49291.0\",\n        },\n{\n            'v': 28314.0,\n            'f': \"28314.0\",\n        },\n{\n            'v': 28959.0,\n            'f': \"28959.0\",\n        },\n{\n            'v': 29547.0,\n            'f': \"29547.0\",\n        },\n{\n            'v': 2000.0,\n            'f': \"2000.0\",\n        },\n{\n            'v': 2019.0,\n            'f': \"2019.0\",\n        },\n{\n            'v': 1200.0,\n            'f': \"1200.0\",\n        },\n{\n            'v': 1100.0,\n            'f': \"1100.0\",\n        },\n{\n            'v': 1069.0,\n            'f': \"1069.0\",\n        },\n{\n            'v': 1000.0,\n            'f': \"1000.0\",\n        }],\n [{\n            'v': 4,\n            'f': \"4\",\n        },\n{\n            'v': 50000,\n            'f': \"50000\",\n        },\n{\n            'v': 57.0,\n            'f': \"57.0\",\n        },\n{\n            'v': 8617.0,\n            'f': \"8617.0\",\n        },\n{\n            'v': 5670.0,\n            'f': \"5670.0\",\n        },\n{\n            'v': 35835.0,\n            'f': \"35835.0\",\n        },\n{\n            'v': 20940.0,\n            'f': \"20940.0\",\n        },\n{\n            'v': 19146.0,\n            'f': \"19146.0\",\n        },\n{\n            'v': 19131.0,\n            'f': \"19131.0\",\n        },\n{\n            'v': 2000.0,\n            'f': \"2000.0\",\n        },\n{\n            'v': 36681.0,\n            'f': \"36681.0\",\n        },\n{\n            'v': 10000.0,\n            'f': \"10000.0\",\n        },\n{\n            'v': 9000.0,\n            'f': \"9000.0\",\n        },\n{\n            'v': 689.0,\n            'f': \"689.0\",\n        },\n{\n            'v': 679.0,\n            'f': \"679.0\",\n        }]],\n        columns: [[\"number\", \"index\"], [\"number\", \"MONTO\"], [\"number\", \"EDAD\"], [\"number\", \"MP_SEP\"], [\"number\", \"MP_AGO\"], [\"number\", \"MP_JUL\"], [\"number\", \"MP_JUN\"], [\"number\", \"MP_MAY\"], [\"number\", \"MP_ABR\"], [\"number\", \"MPA_SEP\"], [\"number\", \"MPA_AGO\"], [\"number\", \"MPA_JUL\"], [\"number\", \"MPA_JUN\"], [\"number\", \"MPA_MAY\"], [\"number\", \"MPA_ABR\"]],\n        columnOptions: [{\"width\": \"1px\", \"className\": \"index_column\"}],\n        rowsPerPage: 25,\n        helpUrl: \"https://colab.research.google.com/notebooks/data_table.ipynb\",\n        suppressOutputScrolling: true,\n        minimumWidth: undefined,\n      });\n    ",
            "text/plain": [
              "<google.colab.data_table.DataTable object>"
            ]
          },
          "metadata": {},
          "execution_count": 19
        }
      ],
      "source": [
        "copy_df = df.copy() # COPY DEL DATAFRAME PARA SU LIMPIEZA\n",
        "copy_df.dropna(inplace=True) # LIMPEZA DE VALORES VACIOS\n",
        "copy_df = copy_df.drop(labels=['ID','GENERO','GRADO_ESTUDIOS','ESTADO_CIVIL','HP_SEP','HP_AGO','HP_JUL','HP_JUN','HP_MAY','HP_ABR','Y'],axis=1).copy() # ELIMINACION DE COLUMNAS QUE TIENEN INCONSISTENCIA DE NEGOCIO Y LAS CATEGORICAS\n",
        "data_table.DataTable(copy_df.head())"
      ]
    },
    {
      "cell_type": "markdown",
      "source": [
        "En esta seccion se muestra el BoxPlot de nuestros datos despues de eliminar los datos con inconsistencia de negocio y todas las variables categoricas."
      ],
      "metadata": {
        "id": "wNvFe2XAP8vO"
      }
    },
    {
      "cell_type": "code",
      "source": [
        "copy_df.boxplot() #GENERAMOS BOXPLOT CON VARIABLES ORIGINALES"
      ],
      "metadata": {
        "id": "m0wKy-XaLtvz",
        "colab": {
          "base_uri": "https://localhost:8080/",
          "height": 292
        },
        "outputId": "e481129d-b747-478a-fd8a-2d0aa850a21d"
      },
      "execution_count": null,
      "outputs": [
        {
          "output_type": "execute_result",
          "data": {
            "text/plain": [
              "<matplotlib.axes._subplots.AxesSubplot at 0x7f19837cc2d0>"
            ]
          },
          "metadata": {},
          "execution_count": 7
        },
        {
          "output_type": "display_data",
          "data": {
            "text/plain": [
              "<Figure size 432x288 with 1 Axes>"
            ],
            "image/png": "[encoded data removed]"
          },
          "metadata": {
            "needs_background": "light"
          }
        }
      ]
    },
    {
      "cell_type": "markdown",
      "source": [
        "La matriz de correlacion nos permite identificar de una mejor manera el comportamiento de nuestra dataframe cuando le aplicamos la correlacion."
      ],
      "metadata": {
        "id": "A9W0P_QXPv2y"
      }
    },
    {
      "cell_type": "code",
      "execution_count": 20,
      "metadata": {
        "colab": {
          "base_uri": "https://localhost:8080/",
          "height": 1000
        },
        "id": "N8Xjp2fbGyNG",
        "outputId": "505c27f0-986d-4c0d-e8d2-4d0b84c1be33"
      },
      "outputs": [
        {
          "output_type": "display_data",
          "data": {
            "text/plain": [
              "<Figure size 1440x1440 with 2 Axes>"
            ],
            "image/png": "[encoded data removed]"
          },
          "metadata": {
            "needs_background": "light"
          }
        }
      ],
      "source": [
        "#GENERAMOS MATRIZ DE CORRELACIONES\n",
        "corr=copy_df.corr()\n",
        "plt.figure(figsize=(20,20))\n",
        "sns.heatmap(corr,annot=True)\n",
        "plt.title=\"Correlación\"\n",
        "plt.show()"
      ]
    },
    {
      "cell_type": "markdown",
      "source": [
        "Normalizacion del Dataset con StandardScaler()"
      ],
      "metadata": {
        "id": "lPH2ZxbOQhxZ"
      }
    },
    {
      "cell_type": "code",
      "execution_count": 21,
      "metadata": {
        "colab": {
          "base_uri": "https://localhost:8080/",
          "height": 190
        },
        "id": "Bt0A0QH4GyNH",
        "outputId": "487da289-f7ad-4547-babf-65b884a8e2ce"
      },
      "outputs": [
        {
          "output_type": "execute_result",
          "data": {
            "text/html": [
              "<div>\n",
              "<style scoped>\n",
              "    .dataframe tbody tr th:only-of-type {\n",
              "        vertical-align: middle;\n",
              "    }\n",
              "\n",
              "    .dataframe tbody tr th {\n",
              "        vertical-align: top;\n",
              "    }\n",
              "\n",
              "    .dataframe thead th {\n",
              "        text-align: right;\n",
              "    }\n",
              "</style>\n",
              "<table border=\"1\" class=\"dataframe\">\n",
              "  <thead>\n",
              "    <tr style=\"text-align: right;\">\n",
              "      <th></th>\n",
              "      <th>MONTO</th>\n",
              "      <th>EDAD</th>\n",
              "      <th>MP_SEP</th>\n",
              "      <th>MP_AGO</th>\n",
              "      <th>MP_JUL</th>\n",
              "      <th>MP_JUN</th>\n",
              "      <th>MP_MAY</th>\n",
              "      <th>MP_ABR</th>\n",
              "      <th>MPA_SEP</th>\n",
              "      <th>MPA_AGO</th>\n",
              "      <th>MPA_JUL</th>\n",
              "      <th>MPA_JUN</th>\n",
              "      <th>MPA_MAY</th>\n",
              "      <th>MPA_ABR</th>\n",
              "    </tr>\n",
              "  </thead>\n",
              "  <tbody>\n",
              "    <tr>\n",
              "      <th>0</th>\n",
              "      <td>-1.137363</td>\n",
              "      <td>-1.246282</td>\n",
              "      <td>-0.642497</td>\n",
              "      <td>-0.647359</td>\n",
              "      <td>-0.667925</td>\n",
              "      <td>-0.672419</td>\n",
              "      <td>-0.663031</td>\n",
              "      <td>-0.652714</td>\n",
              "      <td>-0.341890</td>\n",
              "      <td>-0.227134</td>\n",
              "      <td>-0.296782</td>\n",
              "      <td>-0.308107</td>\n",
              "      <td>-0.314124</td>\n",
              "      <td>-0.293485</td>\n",
              "    </tr>\n",
              "    <tr>\n",
              "      <th>1</th>\n",
              "      <td>-0.366561</td>\n",
              "      <td>-1.029224</td>\n",
              "      <td>-0.659205</td>\n",
              "      <td>-0.666697</td>\n",
              "      <td>-0.639201</td>\n",
              "      <td>-0.621583</td>\n",
              "      <td>-0.606229</td>\n",
              "      <td>-0.597982</td>\n",
              "      <td>-0.341890</td>\n",
              "      <td>-0.213645</td>\n",
              "      <td>-0.240019</td>\n",
              "      <td>-0.244315</td>\n",
              "      <td>-0.314124</td>\n",
              "      <td>-0.181054</td>\n",
              "    </tr>\n",
              "    <tr>\n",
              "      <th>2</th>\n",
              "      <td>-0.597802</td>\n",
              "      <td>-0.160996</td>\n",
              "      <td>-0.298738</td>\n",
              "      <td>-0.493940</td>\n",
              "      <td>-0.482436</td>\n",
              "      <td>-0.449762</td>\n",
              "      <td>-0.417277</td>\n",
              "      <td>-0.391745</td>\n",
              "      <td>-0.250270</td>\n",
              "      <td>-0.191958</td>\n",
              "      <td>-0.240019</td>\n",
              "      <td>-0.244315</td>\n",
              "      <td>-0.248702</td>\n",
              "      <td>-0.012407</td>\n",
              "    </tr>\n",
              "    <tr>\n",
              "      <th>3</th>\n",
              "      <td>-0.906122</td>\n",
              "      <td>0.164590</td>\n",
              "      <td>-0.057797</td>\n",
              "      <td>-0.013586</td>\n",
              "      <td>0.032552</td>\n",
              "      <td>-0.232512</td>\n",
              "      <td>-0.186929</td>\n",
              "      <td>-0.156808</td>\n",
              "      <td>-0.221179</td>\n",
              "      <td>-0.169448</td>\n",
              "      <td>-0.228667</td>\n",
              "      <td>-0.237936</td>\n",
              "      <td>-0.244188</td>\n",
              "      <td>-0.237269</td>\n",
              "    </tr>\n",
              "    <tr>\n",
              "      <th>4</th>\n",
              "      <td>-0.906122</td>\n",
              "      <td>2.335161</td>\n",
              "      <td>-0.578648</td>\n",
              "      <td>-0.611297</td>\n",
              "      <td>-0.161383</td>\n",
              "      <td>-0.347080</td>\n",
              "      <td>-0.348260</td>\n",
              "      <td>-0.331626</td>\n",
              "      <td>-0.221179</td>\n",
              "      <td>1.333962</td>\n",
              "      <td>0.270850</td>\n",
              "      <td>0.266021</td>\n",
              "      <td>-0.269048</td>\n",
              "      <td>-0.255314</td>\n",
              "    </tr>\n",
              "  </tbody>\n",
              "</table>\n",
              "</div>"
            ],
            "application/vnd.google.colaboratory.module+javascript": "\n      import \"https://ssl.gstatic.com/colaboratory/data_table/a8bd4d5e58f96183/data_table.js\";\n\n      window.createDataTable({\n        data: [[{\n            'v': 0,\n            'f': \"0\",\n        },\n{\n            'v': -1.1373626916853703,\n            'f': \"-1.1373626916853703\",\n        },\n{\n            'v': -1.2462815061446422,\n            'f': \"-1.2462815061446422\",\n        },\n{\n            'v': -0.6424966692477729,\n            'f': \"-0.6424966692477729\",\n        },\n{\n            'v': -0.647359432679696,\n            'f': \"-0.647359432679696\",\n        },\n{\n            'v': -0.6679252897888898,\n            'f': \"-0.6679252897888898\",\n        },\n{\n            'v': -0.6724193268488081,\n            'f': \"-0.6724193268488081\",\n        },\n{\n            'v': -0.6630308135930671,\n            'f': \"-0.6630308135930671\",\n        },\n{\n            'v': -0.6527138785200648,\n            'f': \"-0.6527138785200648\",\n        },\n{\n            'v': -0.34188963380010207,\n            'f': \"-0.34188963380010207\",\n        },\n{\n            'v': -0.22713421827764374,\n            'f': \"-0.22713421827764374\",\n        },\n{\n            'v': -0.29678247553033804,\n            'f': \"-0.29678247553033804\",\n        },\n{\n            'v': -0.30810735192181465,\n            'f': \"-0.30810735192181465\",\n        },\n{\n            'v': -0.3141241813366536,\n            'f': \"-0.3141241813366536\",\n        },\n{\n            'v': -0.29348473351951604,\n            'f': \"-0.29348473351951604\",\n        }],\n [{\n            'v': 1,\n            'f': \"1\",\n        },\n{\n            'v': -0.36656146683933,\n            'f': \"-0.36656146683933\",\n        },\n{\n            'v': -1.029224399973326,\n            'f': \"-1.029224399973326\",\n        },\n{\n            'v': -0.6592054766088807,\n            'f': \"-0.6592054766088807\",\n        },\n{\n            'v': -0.6666965924183629,\n            'f': \"-0.6666965924183629\",\n        },\n{\n            'v': -0.6392011235520958,\n            'f': \"-0.6392011235520958\",\n        },\n{\n            'v': -0.6215831479041813,\n            'f': \"-0.6215831479041813\",\n        },\n{\n            'v': -0.6062287025329632,\n            'f': \"-0.6062287025329632\",\n        },\n{\n            'v': -0.5979824817352057,\n            'f': \"-0.5979824817352057\",\n        },\n{\n            'v': -0.34188963380010207,\n            'f': \"-0.34188963380010207\",\n        },\n{\n            'v': -0.2136450871014988,\n            'f': \"-0.2136450871014988\",\n        },\n{\n            'v': -0.24001926414347577,\n            'f': \"-0.24001926414347577\",\n        },\n{\n            'v': -0.24431533990958534,\n            'f': \"-0.24431533990958534\",\n        },\n{\n            'v': -0.3141241813366536,\n            'f': \"-0.3141241813366536\",\n        },\n{\n            'v': -0.18105372525840324,\n            'f': \"-0.18105372525840324\",\n        }],\n [{\n            'v': 2,\n            'f': \"2\",\n        },\n{\n            'v': -0.5978018342931422,\n            'f': \"-0.5978018342931422\",\n        },\n{\n            'v': -0.16099597528806123,\n            'f': \"-0.16099597528806123\",\n        },\n{\n            'v': -0.2987377291767602,\n            'f': \"-0.2987377291767602\",\n        },\n{\n            'v': -0.4939400643827197,\n            'f': \"-0.4939400643827197\",\n        },\n{\n            'v': -0.48243606777808296,\n            'f': \"-0.48243606777808296\",\n        },\n{\n            'v': -0.4497624562939649,\n            'f': \"-0.4497624562939649\",\n        },\n{\n            'v': -0.41727742542333274,\n            'f': \"-0.41727742542333274\",\n        },\n{\n            'v': -0.3917453140895918,\n            'f': \"-0.3917453140895918\",\n        },\n{\n            'v': -0.2502702539198042,\n            'f': \"-0.2502702539198042\",\n        },\n{\n            'v': -0.19195838103052615,\n            'f': \"-0.19195838103052615\",\n        },\n{\n            'v': -0.24001926414347577,\n            'f': \"-0.24001926414347577\",\n        },\n{\n            'v': -0.24431533990958534,\n            'f': \"-0.24431533990958534\",\n        },\n{\n            'v': -0.24870183690357361,\n            'f': \"-0.24870183690357361\",\n        },\n{\n            'v': -0.012407212866734055,\n            'f': \"-0.012407212866734055\",\n        }],\n [{\n            'v': 3,\n            'f': \"3\",\n        },\n{\n            'v': -0.9061223242315583,\n            'f': \"-0.9061223242315583\",\n        },\n{\n            'v': 0.16458968396891308,\n            'f': \"0.16458968396891308\",\n        },\n{\n            'v': -0.057796998496804926,\n            'f': \"-0.057796998496804926\",\n        },\n{\n            'v': -0.013586479763372305,\n            'f': \"-0.013586479763372305\",\n        },\n{\n            'v': 0.03255234565549501,\n            'f': \"0.03255234565549501\",\n        },\n{\n            'v': -0.23251236760731536,\n            'f': \"-0.23251236760731536\",\n        },\n{\n            'v': -0.18692883553531106,\n            'f': \"-0.18692883553531106\",\n        },\n{\n            'v': -0.15680814996985673,\n            'f': \"-0.15680814996985673\",\n        },\n{\n            'v': -0.2211789883715146,\n            'f': \"-0.2211789883715146\",\n        },\n{\n            'v': -0.16944758012885658,\n            'f': \"-0.16944758012885658\",\n        },\n{\n            'v': -0.22866662186610334,\n            'f': \"-0.22866662186610334\",\n        },\n{\n            'v': -0.23793613870836242,\n            'f': \"-0.23793613870836242\",\n        },\n{\n            'v': -0.2441876951376911,\n            'f': \"-0.2441876951376911\",\n        },\n{\n            'v': -0.23726922938895964,\n            'f': \"-0.23726922938895964\",\n        }],\n [{\n            'v': 4,\n            'f': \"4\",\n        },\n{\n            'v': -0.9061223242315583,\n            'f': \"-0.9061223242315583\",\n        },\n{\n            'v': 2.335160745682075,\n            'f': \"2.335160745682075\",\n        },\n{\n            'v': -0.5786475792179995,\n            'f': \"-0.5786475792179995\",\n        },\n{\n            'v': -0.6112971042781733,\n            'f': \"-0.6112971042781733\",\n        },\n{\n            'v': -0.16138261715549304,\n            'f': \"-0.16138261715549304\",\n        },\n{\n            'v': -0.3470802109868014,\n            'f': \"-0.3470802109868014\",\n        },\n{\n            'v': -0.34825998338850905,\n            'f': \"-0.34825998338850905\",\n        },\n{\n            'v': -0.33162637410695917,\n            'f': \"-0.33162637410695917\",\n        },\n{\n            'v': -0.2211789883715146,\n            'f': \"-0.2211789883715146\",\n        },\n{\n            'v': 1.3339616315352498,\n            'f': \"1.3339616315352498\",\n        },\n{\n            'v': 0.27084963833828435,\n            'f': \"0.27084963833828435\",\n        },\n{\n            'v': 0.26602075618824916,\n            'f': \"0.26602075618824916\",\n        },\n{\n            'v': -0.2690481860222615,\n            'f': \"-0.2690481860222615\",\n        },\n{\n            'v': -0.25531440621486823,\n            'f': \"-0.25531440621486823\",\n        }]],\n        columns: [[\"number\", \"index\"], [\"number\", \"MONTO\"], [\"number\", \"EDAD\"], [\"number\", \"MP_SEP\"], [\"number\", \"MP_AGO\"], [\"number\", \"MP_JUL\"], [\"number\", \"MP_JUN\"], [\"number\", \"MP_MAY\"], [\"number\", \"MP_ABR\"], [\"number\", \"MPA_SEP\"], [\"number\", \"MPA_AGO\"], [\"number\", \"MPA_JUL\"], [\"number\", \"MPA_JUN\"], [\"number\", \"MPA_MAY\"], [\"number\", \"MPA_ABR\"]],\n        columnOptions: [{\"width\": \"1px\", \"className\": \"index_column\"}],\n        rowsPerPage: 25,\n        helpUrl: \"https://colab.research.google.com/notebooks/data_table.ipynb\",\n        suppressOutputScrolling: true,\n        minimumWidth: undefined,\n      });\n    ",
            "text/plain": [
              "<google.colab.data_table.DataTable object>"
            ]
          },
          "metadata": {},
          "execution_count": 21
        }
      ],
      "source": [
        "scaler = StandardScaler() #INSTANCIAMOS OBJECTO SCALER\n",
        "scaled = scaler.fit_transform(copy_df) #AJUSTAMOS Y TRANSFORMAMOS EL DATAFRAME\n",
        "scaled_df = pd.DataFrame(scaled, columns=copy_df.columns) #FORMATEAMOS EL DF\n",
        "data_table.DataTable(scaled_df.head())\n"
      ]
    },
    {
      "cell_type": "markdown",
      "source": [
        "Boxplot despues de Normalizar el Dataset con StandardScaler()"
      ],
      "metadata": {
        "id": "KF_KdlY4QsHl"
      }
    },
    {
      "cell_type": "code",
      "source": [
        "scaled_df.boxplot() #BOXPLOT DATOS NORMALIZADOS"
      ],
      "metadata": {
        "id": "c8jpjMcyL7FI",
        "colab": {
          "base_uri": "https://localhost:8080/",
          "height": 282
        },
        "outputId": "ee208f14-5d42-416e-dd99-a50ba9ad59cf"
      },
      "execution_count": 22,
      "outputs": [
        {
          "output_type": "execute_result",
          "data": {
            "text/plain": [
              "<matplotlib.axes._subplots.AxesSubplot at 0x7f197fb021d0>"
            ]
          },
          "metadata": {},
          "execution_count": 22
        },
        {
          "output_type": "display_data",
          "data": {
            "text/plain": [
              "<Figure size 432x288 with 1 Axes>"
            ],
            "image/png": "[encoded data removed]"
          },
          "metadata": {
            "needs_background": "light"
          }
        }
      ]
    },
    {
      "cell_type": "markdown",
      "source": [
        "Reduccion de Dimensionalidad con PCA del Dataset Normalizado con StandardScaler."
      ],
      "metadata": {
        "id": "mBJIrpgRRAEJ"
      }
    },
    {
      "cell_type": "code",
      "execution_count": 23,
      "metadata": {
        "id": "x4xE4QTNGyNJ"
      },
      "outputs": [],
      "source": [
        "pca = PCA() #INSTANCIAMOS OBJETO PCA\n",
        "pca_fit =pca.fit_transform(scaled_df) #GENERAMOS MODELO PCA"
      ]
    },
    {
      "cell_type": "code",
      "execution_count": 24,
      "metadata": {
        "id": "mbPLgdimGyNK"
      },
      "outputs": [],
      "source": [
        "#PARA REVISAR Y COMPARAR VARIANZAS\n",
        "pcsSummary_df = pd.DataFrame({ \n",
        "    '% varianza explicada': np.round(pca.explained_variance_ratio_,4) * 100,\n",
        "    '% varianza acumulada': np.cumsum(pca.explained_variance_ratio_) * 100\n",
        "    })\n"
      ]
    },
    {
      "cell_type": "markdown",
      "source": [
        "Obtenemos la proporción acumulada de la varianza."
      ],
      "metadata": {
        "id": "F9lMyst0TPHV"
      }
    },
    {
      "cell_type": "code",
      "execution_count": 25,
      "metadata": {
        "colab": {
          "base_uri": "https://localhost:8080/",
          "height": 374
        },
        "id": "ngpynMz4GyNL",
        "outputId": "afe5f262-8c51-48ca-a0be-75ff61055f91"
      },
      "outputs": [
        {
          "output_type": "execute_result",
          "data": {
            "text/html": [
              "<div>\n",
              "<style scoped>\n",
              "    .dataframe tbody tr th:only-of-type {\n",
              "        vertical-align: middle;\n",
              "    }\n",
              "\n",
              "    .dataframe tbody tr th {\n",
              "        vertical-align: top;\n",
              "    }\n",
              "\n",
              "    .dataframe thead th {\n",
              "        text-align: right;\n",
              "    }\n",
              "</style>\n",
              "<table border=\"1\" class=\"dataframe\">\n",
              "  <thead>\n",
              "    <tr style=\"text-align: right;\">\n",
              "      <th></th>\n",
              "      <th>% varianza explicada</th>\n",
              "      <th>% varianza acumulada</th>\n",
              "    </tr>\n",
              "  </thead>\n",
              "  <tbody>\n",
              "    <tr>\n",
              "      <th>PC1</th>\n",
              "      <td>42.28</td>\n",
              "      <td>42.277891</td>\n",
              "    </tr>\n",
              "    <tr>\n",
              "      <th>PC2</th>\n",
              "      <td>12.26</td>\n",
              "      <td>54.533132</td>\n",
              "    </tr>\n",
              "    <tr>\n",
              "      <th>PC3</th>\n",
              "      <td>7.46</td>\n",
              "      <td>61.997411</td>\n",
              "    </tr>\n",
              "    <tr>\n",
              "      <th>PC4</th>\n",
              "      <td>6.61</td>\n",
              "      <td>68.605797</td>\n",
              "    </tr>\n",
              "    <tr>\n",
              "      <th>PC5</th>\n",
              "      <td>6.31</td>\n",
              "      <td>74.918180</td>\n",
              "    </tr>\n",
              "    <tr>\n",
              "      <th>PC6</th>\n",
              "      <td>6.23</td>\n",
              "      <td>81.152296</td>\n",
              "    </tr>\n",
              "    <tr>\n",
              "      <th>PC7</th>\n",
              "      <td>5.57</td>\n",
              "      <td>86.721112</td>\n",
              "    </tr>\n",
              "    <tr>\n",
              "      <th>PC8</th>\n",
              "      <td>5.19</td>\n",
              "      <td>91.911302</td>\n",
              "    </tr>\n",
              "    <tr>\n",
              "      <th>PC9</th>\n",
              "      <td>5.05</td>\n",
              "      <td>96.963631</td>\n",
              "    </tr>\n",
              "    <tr>\n",
              "      <th>PC10</th>\n",
              "      <td>1.89</td>\n",
              "      <td>98.852509</td>\n",
              "    </tr>\n",
              "    <tr>\n",
              "      <th>PC11</th>\n",
              "      <td>0.51</td>\n",
              "      <td>99.359679</td>\n",
              "    </tr>\n",
              "    <tr>\n",
              "      <th>PC12</th>\n",
              "      <td>0.29</td>\n",
              "      <td>99.652989</td>\n",
              "    </tr>\n",
              "    <tr>\n",
              "      <th>PC13</th>\n",
              "      <td>0.18</td>\n",
              "      <td>99.833971</td>\n",
              "    </tr>\n",
              "    <tr>\n",
              "      <th>PC14</th>\n",
              "      <td>0.17</td>\n",
              "      <td>100.000000</td>\n",
              "    </tr>\n",
              "  </tbody>\n",
              "</table>\n",
              "</div>"
            ],
            "application/vnd.google.colaboratory.module+javascript": "\n      import \"https://ssl.gstatic.com/colaboratory/data_table/a8bd4d5e58f96183/data_table.js\";\n\n      window.createDataTable({\n        data: [[\"PC1\",\n{\n            'v': 42.28,\n            'f': \"42.28\",\n        },\n{\n            'v': 42.27789059798236,\n            'f': \"42.27789059798236\",\n        }],\n [\"PC2\",\n{\n            'v': 12.26,\n            'f': \"12.26\",\n        },\n{\n            'v': 54.533131796362724,\n            'f': \"54.533131796362724\",\n        }],\n [\"PC3\",\n{\n            'v': 7.46,\n            'f': \"7.46\",\n        },\n{\n            'v': 61.99741118373312,\n            'f': \"61.99741118373312\",\n        }],\n [\"PC4\",\n{\n            'v': 6.61,\n            'f': \"6.61\",\n        },\n{\n            'v': 68.60579678093276,\n            'f': \"68.60579678093276\",\n        }],\n [\"PC5\",\n{\n            'v': 6.3100000000000005,\n            'f': \"6.3100000000000005\",\n        },\n{\n            'v': 74.91818028767486,\n            'f': \"74.91818028767486\",\n        }],\n [\"PC6\",\n{\n            'v': 6.23,\n            'f': \"6.23\",\n        },\n{\n            'v': 81.15229587495327,\n            'f': \"81.15229587495327\",\n        }],\n [\"PC7\",\n{\n            'v': 5.57,\n            'f': \"5.57\",\n        },\n{\n            'v': 86.72111228812757,\n            'f': \"86.72111228812757\",\n        }],\n [\"PC8\",\n{\n            'v': 5.19,\n            'f': \"5.19\",\n        },\n{\n            'v': 91.91130219475122,\n            'f': \"91.91130219475122\",\n        }],\n [\"PC9\",\n{\n            'v': 5.050000000000001,\n            'f': \"5.050000000000001\",\n        },\n{\n            'v': 96.96363062975944,\n            'f': \"96.96363062975944\",\n        }],\n [\"PC10\",\n{\n            'v': 1.8900000000000001,\n            'f': \"1.8900000000000001\",\n        },\n{\n            'v': 98.85250856362445,\n            'f': \"98.85250856362445\",\n        }],\n [\"PC11\",\n{\n            'v': 0.51,\n            'f': \"0.51\",\n        },\n{\n            'v': 99.35967875484945,\n            'f': \"99.35967875484945\",\n        }],\n [\"PC12\",\n{\n            'v': 0.29,\n            'f': \"0.29\",\n        },\n{\n            'v': 99.65298884846861,\n            'f': \"99.65298884846861\",\n        }],\n [\"PC13\",\n{\n            'v': 0.18,\n            'f': \"0.18\",\n        },\n{\n            'v': 99.8339709836657,\n            'f': \"99.8339709836657\",\n        }],\n [\"PC14\",\n{\n            'v': 0.16999999999999998,\n            'f': \"0.16999999999999998\",\n        },\n{\n            'v': 100.0,\n            'f': \"100.0\",\n        }]],\n        columns: [[\"string\", \"index\"], [\"number\", \"% varianza explicada\"], [\"number\", \"% varianza acumulada\"]],\n        columnOptions: [{\"width\": \"1px\", \"className\": \"index_column\"}],\n        rowsPerPage: 25,\n        helpUrl: \"https://colab.research.google.com/notebooks/data_table.ipynb\",\n        suppressOutputScrolling: true,\n        minimumWidth: undefined,\n      });\n    ",
            "text/plain": [
              "<google.colab.data_table.DataTable object>"
            ]
          },
          "metadata": {},
          "execution_count": 25
        }
      ],
      "source": [
        "#FORMATEAMOS PARA MEJOR LECTURA\n",
        "pcs_labels = [f'PC{i + 1}' for i in range(len(scaled_df.columns))]\n",
        "pcsSummary_df.index = pcs_labels\n",
        "data_table.DataTable(pcsSummary_df)"
      ]
    },
    {
      "cell_type": "markdown",
      "source": [
        "Explicacion de la varianza acomulada vs explicada."
      ],
      "metadata": {
        "id": "SY_R0LdtTiOh"
      }
    },
    {
      "cell_type": "code",
      "execution_count": 26,
      "metadata": {
        "colab": {
          "base_uri": "https://localhost:8080/"
        },
        "id": "XojlVhhgGyNM",
        "outputId": "95dbfcf7-e18a-4e0a-ba3a-a72f39cd3eed"
      },
      "outputs": [
        {
          "output_type": "stream",
          "name": "stdout",
          "text": [
            "Varianza total variables originales:  14.000467336515669\n",
            "Varianza total de los componentes:  14.000467336515666\n"
          ]
        }
      ],
      "source": [
        "#VERIFACMOS QUE NO SE PIERDA INFORMACION\n",
        "pcs_df = pd.DataFrame(pca_fit, columns =pcs_labels)\n",
        "print(\"Varianza total variables originales: \", scaled_df.var().sum())\n",
        "print(\"Varianza total de los componentes: \", pcs_df.var().sum())"
      ]
    },
    {
      "cell_type": "code",
      "execution_count": 27,
      "metadata": {
        "colab": {
          "base_uri": "https://localhost:8080/",
          "height": 374
        },
        "id": "hallVD0sGyNM",
        "outputId": "bf304c9a-f642-42f9-9daa-d054fc73a9e7"
      },
      "outputs": [
        {
          "output_type": "execute_result",
          "data": {
            "text/html": [
              "<div>\n",
              "<style scoped>\n",
              "    .dataframe tbody tr th:only-of-type {\n",
              "        vertical-align: middle;\n",
              "    }\n",
              "\n",
              "    .dataframe tbody tr th {\n",
              "        vertical-align: top;\n",
              "    }\n",
              "\n",
              "    .dataframe thead th {\n",
              "        text-align: right;\n",
              "    }\n",
              "</style>\n",
              "<table border=\"1\" class=\"dataframe\">\n",
              "  <thead>\n",
              "    <tr style=\"text-align: right;\">\n",
              "      <th></th>\n",
              "      <th>% varianza explicada</th>\n",
              "      <th>% varianza acumulada</th>\n",
              "    </tr>\n",
              "  </thead>\n",
              "  <tbody>\n",
              "    <tr>\n",
              "      <th>PC1</th>\n",
              "      <td>42.28</td>\n",
              "      <td>42.277891</td>\n",
              "    </tr>\n",
              "    <tr>\n",
              "      <th>PC2</th>\n",
              "      <td>12.26</td>\n",
              "      <td>54.533132</td>\n",
              "    </tr>\n",
              "    <tr>\n",
              "      <th>PC3</th>\n",
              "      <td>7.46</td>\n",
              "      <td>61.997411</td>\n",
              "    </tr>\n",
              "    <tr>\n",
              "      <th>PC4</th>\n",
              "      <td>6.61</td>\n",
              "      <td>68.605797</td>\n",
              "    </tr>\n",
              "    <tr>\n",
              "      <th>PC5</th>\n",
              "      <td>6.31</td>\n",
              "      <td>74.918180</td>\n",
              "    </tr>\n",
              "    <tr>\n",
              "      <th>PC6</th>\n",
              "      <td>6.23</td>\n",
              "      <td>81.152296</td>\n",
              "    </tr>\n",
              "    <tr>\n",
              "      <th>PC7</th>\n",
              "      <td>5.57</td>\n",
              "      <td>86.721112</td>\n",
              "    </tr>\n",
              "    <tr>\n",
              "      <th>PC8</th>\n",
              "      <td>5.19</td>\n",
              "      <td>91.911302</td>\n",
              "    </tr>\n",
              "    <tr>\n",
              "      <th>PC9</th>\n",
              "      <td>5.05</td>\n",
              "      <td>96.963631</td>\n",
              "    </tr>\n",
              "    <tr>\n",
              "      <th>PC10</th>\n",
              "      <td>1.89</td>\n",
              "      <td>98.852509</td>\n",
              "    </tr>\n",
              "    <tr>\n",
              "      <th>PC11</th>\n",
              "      <td>0.51</td>\n",
              "      <td>99.359679</td>\n",
              "    </tr>\n",
              "    <tr>\n",
              "      <th>PC12</th>\n",
              "      <td>0.29</td>\n",
              "      <td>99.652989</td>\n",
              "    </tr>\n",
              "    <tr>\n",
              "      <th>PC13</th>\n",
              "      <td>0.18</td>\n",
              "      <td>99.833971</td>\n",
              "    </tr>\n",
              "    <tr>\n",
              "      <th>PC14</th>\n",
              "      <td>0.17</td>\n",
              "      <td>100.000000</td>\n",
              "    </tr>\n",
              "  </tbody>\n",
              "</table>\n",
              "</div>"
            ],
            "application/vnd.google.colaboratory.module+javascript": "\n      import \"https://ssl.gstatic.com/colaboratory/data_table/a8bd4d5e58f96183/data_table.js\";\n\n      window.createDataTable({\n        data: [[\"PC1\",\n{\n            'v': 42.28,\n            'f': \"42.28\",\n        },\n{\n            'v': 42.27789059798236,\n            'f': \"42.27789059798236\",\n        }],\n [\"PC2\",\n{\n            'v': 12.26,\n            'f': \"12.26\",\n        },\n{\n            'v': 54.533131796362724,\n            'f': \"54.533131796362724\",\n        }],\n [\"PC3\",\n{\n            'v': 7.46,\n            'f': \"7.46\",\n        },\n{\n            'v': 61.99741118373312,\n            'f': \"61.99741118373312\",\n        }],\n [\"PC4\",\n{\n            'v': 6.61,\n            'f': \"6.61\",\n        },\n{\n            'v': 68.60579678093276,\n            'f': \"68.60579678093276\",\n        }],\n [\"PC5\",\n{\n            'v': 6.3100000000000005,\n            'f': \"6.3100000000000005\",\n        },\n{\n            'v': 74.91818028767486,\n            'f': \"74.91818028767486\",\n        }],\n [\"PC6\",\n{\n            'v': 6.23,\n            'f': \"6.23\",\n        },\n{\n            'v': 81.15229587495327,\n            'f': \"81.15229587495327\",\n        }],\n [\"PC7\",\n{\n            'v': 5.57,\n            'f': \"5.57\",\n        },\n{\n            'v': 86.72111228812757,\n            'f': \"86.72111228812757\",\n        }],\n [\"PC8\",\n{\n            'v': 5.19,\n            'f': \"5.19\",\n        },\n{\n            'v': 91.91130219475122,\n            'f': \"91.91130219475122\",\n        }],\n [\"PC9\",\n{\n            'v': 5.050000000000001,\n            'f': \"5.050000000000001\",\n        },\n{\n            'v': 96.96363062975944,\n            'f': \"96.96363062975944\",\n        }],\n [\"PC10\",\n{\n            'v': 1.8900000000000001,\n            'f': \"1.8900000000000001\",\n        },\n{\n            'v': 98.85250856362445,\n            'f': \"98.85250856362445\",\n        }],\n [\"PC11\",\n{\n            'v': 0.51,\n            'f': \"0.51\",\n        },\n{\n            'v': 99.35967875484945,\n            'f': \"99.35967875484945\",\n        }],\n [\"PC12\",\n{\n            'v': 0.29,\n            'f': \"0.29\",\n        },\n{\n            'v': 99.65298884846861,\n            'f': \"99.65298884846861\",\n        }],\n [\"PC13\",\n{\n            'v': 0.18,\n            'f': \"0.18\",\n        },\n{\n            'v': 99.8339709836657,\n            'f': \"99.8339709836657\",\n        }],\n [\"PC14\",\n{\n            'v': 0.16999999999999998,\n            'f': \"0.16999999999999998\",\n        },\n{\n            'v': 100.0,\n            'f': \"100.0\",\n        }]],\n        columns: [[\"string\", \"index\"], [\"number\", \"% varianza explicada\"], [\"number\", \"% varianza acumulada\"]],\n        columnOptions: [{\"width\": \"1px\", \"className\": \"index_column\"}],\n        rowsPerPage: 25,\n        helpUrl: \"https://colab.research.google.com/notebooks/data_table.ipynb\",\n        suppressOutputScrolling: true,\n        minimumWidth: undefined,\n      });\n    ",
            "text/plain": [
              "<google.colab.data_table.DataTable object>"
            ]
          },
          "metadata": {},
          "execution_count": 27
        }
      ],
      "source": [
        "data_table.DataTable(pcsSummary_df) #FORMATEAMOS DATAFRAME"
      ]
    },
    {
      "cell_type": "code",
      "execution_count": 28,
      "metadata": {
        "colab": {
          "base_uri": "https://localhost:8080/",
          "height": 374
        },
        "id": "IdmFaynpGyNN",
        "outputId": "806c4582-da92-4d97-d88d-c34527db658a"
      },
      "outputs": [
        {
          "output_type": "execute_result",
          "data": {
            "text/html": [
              "<div>\n",
              "<style scoped>\n",
              "    .dataframe tbody tr th:only-of-type {\n",
              "        vertical-align: middle;\n",
              "    }\n",
              "\n",
              "    .dataframe tbody tr th {\n",
              "        vertical-align: top;\n",
              "    }\n",
              "\n",
              "    .dataframe thead th {\n",
              "        text-align: right;\n",
              "    }\n",
              "</style>\n",
              "<table border=\"1\" class=\"dataframe\">\n",
              "  <thead>\n",
              "    <tr style=\"text-align: right;\">\n",
              "      <th></th>\n",
              "      <th>Porcentaje Varianza</th>\n",
              "      <th>Porcentaje Varianza Acumulado</th>\n",
              "    </tr>\n",
              "  </thead>\n",
              "  <tbody>\n",
              "    <tr>\n",
              "      <th>MONTO</th>\n",
              "      <td>7.142857</td>\n",
              "      <td>7.142857</td>\n",
              "    </tr>\n",
              "    <tr>\n",
              "      <th>EDAD</th>\n",
              "      <td>7.142857</td>\n",
              "      <td>14.285714</td>\n",
              "    </tr>\n",
              "    <tr>\n",
              "      <th>MP_SEP</th>\n",
              "      <td>7.142857</td>\n",
              "      <td>21.428571</td>\n",
              "    </tr>\n",
              "    <tr>\n",
              "      <th>MP_AGO</th>\n",
              "      <td>7.142857</td>\n",
              "      <td>28.571429</td>\n",
              "    </tr>\n",
              "    <tr>\n",
              "      <th>MP_JUL</th>\n",
              "      <td>7.142857</td>\n",
              "      <td>35.714286</td>\n",
              "    </tr>\n",
              "    <tr>\n",
              "      <th>MP_JUN</th>\n",
              "      <td>7.142857</td>\n",
              "      <td>42.857143</td>\n",
              "    </tr>\n",
              "    <tr>\n",
              "      <th>MP_MAY</th>\n",
              "      <td>7.142857</td>\n",
              "      <td>50.000000</td>\n",
              "    </tr>\n",
              "    <tr>\n",
              "      <th>MP_ABR</th>\n",
              "      <td>7.142857</td>\n",
              "      <td>57.142857</td>\n",
              "    </tr>\n",
              "    <tr>\n",
              "      <th>MPA_SEP</th>\n",
              "      <td>7.142857</td>\n",
              "      <td>64.285714</td>\n",
              "    </tr>\n",
              "    <tr>\n",
              "      <th>MPA_AGO</th>\n",
              "      <td>7.142857</td>\n",
              "      <td>71.428571</td>\n",
              "    </tr>\n",
              "    <tr>\n",
              "      <th>MPA_JUL</th>\n",
              "      <td>7.142857</td>\n",
              "      <td>78.571429</td>\n",
              "    </tr>\n",
              "    <tr>\n",
              "      <th>MPA_JUN</th>\n",
              "      <td>7.142857</td>\n",
              "      <td>85.714286</td>\n",
              "    </tr>\n",
              "    <tr>\n",
              "      <th>MPA_MAY</th>\n",
              "      <td>7.142857</td>\n",
              "      <td>92.857143</td>\n",
              "    </tr>\n",
              "    <tr>\n",
              "      <th>MPA_ABR</th>\n",
              "      <td>7.142857</td>\n",
              "      <td>100.000000</td>\n",
              "    </tr>\n",
              "  </tbody>\n",
              "</table>\n",
              "</div>"
            ],
            "application/vnd.google.colaboratory.module+javascript": "\n      import \"https://ssl.gstatic.com/colaboratory/data_table/a8bd4d5e58f96183/data_table.js\";\n\n      window.createDataTable({\n        data: [[\"MONTO\",\n{\n            'v': 7.142857142857144,\n            'f': \"7.142857142857144\",\n        },\n{\n            'v': 7.142857142857144,\n            'f': \"7.142857142857144\",\n        }],\n [\"EDAD\",\n{\n            'v': 7.142857142857144,\n            'f': \"7.142857142857144\",\n        },\n{\n            'v': 14.285714285714288,\n            'f': \"14.285714285714288\",\n        }],\n [\"MP_SEP\",\n{\n            'v': 7.142857142857144,\n            'f': \"7.142857142857144\",\n        },\n{\n            'v': 21.428571428571434,\n            'f': \"21.428571428571434\",\n        }],\n [\"MP_AGO\",\n{\n            'v': 7.142857142857144,\n            'f': \"7.142857142857144\",\n        },\n{\n            'v': 28.571428571428577,\n            'f': \"28.571428571428577\",\n        }],\n [\"MP_JUL\",\n{\n            'v': 7.142857142857144,\n            'f': \"7.142857142857144\",\n        },\n{\n            'v': 35.71428571428572,\n            'f': \"35.71428571428572\",\n        }],\n [\"MP_JUN\",\n{\n            'v': 7.142857142857144,\n            'f': \"7.142857142857144\",\n        },\n{\n            'v': 42.85714285714287,\n            'f': \"42.85714285714287\",\n        }],\n [\"MP_MAY\",\n{\n            'v': 7.142857142857142,\n            'f': \"7.142857142857142\",\n        },\n{\n            'v': 50.000000000000014,\n            'f': \"50.000000000000014\",\n        }],\n [\"MP_ABR\",\n{\n            'v': 7.142857142857142,\n            'f': \"7.142857142857142\",\n        },\n{\n            'v': 57.14285714285714,\n            'f': \"57.14285714285714\",\n        }],\n [\"MPA_SEP\",\n{\n            'v': 7.142857142857144,\n            'f': \"7.142857142857144\",\n        },\n{\n            'v': 64.28571428571429,\n            'f': \"64.28571428571429\",\n        }],\n [\"MPA_AGO\",\n{\n            'v': 7.142857142857144,\n            'f': \"7.142857142857144\",\n        },\n{\n            'v': 71.42857142857143,\n            'f': \"71.42857142857143\",\n        }],\n [\"MPA_JUL\",\n{\n            'v': 7.142857142857144,\n            'f': \"7.142857142857144\",\n        },\n{\n            'v': 78.57142857142857,\n            'f': \"78.57142857142857\",\n        }],\n [\"MPA_JUN\",\n{\n            'v': 7.142857142857144,\n            'f': \"7.142857142857144\",\n        },\n{\n            'v': 85.71428571428571,\n            'f': \"85.71428571428571\",\n        }],\n [\"MPA_MAY\",\n{\n            'v': 7.142857142857144,\n            'f': \"7.142857142857144\",\n        },\n{\n            'v': 92.85714285714286,\n            'f': \"92.85714285714286\",\n        }],\n [\"MPA_ABR\",\n{\n            'v': 7.142857142857147,\n            'f': \"7.142857142857147\",\n        },\n{\n            'v': 100.0,\n            'f': \"100.0\",\n        }]],\n        columns: [[\"string\", \"index\"], [\"number\", \"Porcentaje Varianza\"], [\"number\", \"Porcentaje Varianza Acumulado\"]],\n        columnOptions: [{\"width\": \"1px\", \"className\": \"index_column\"}],\n        rowsPerPage: 25,\n        helpUrl: \"https://colab.research.google.com/notebooks/data_table.ipynb\",\n        suppressOutputScrolling: true,\n        minimumWidth: undefined,\n      });\n    ",
            "text/plain": [
              "<google.colab.data_table.DataTable object>"
            ]
          },
          "metadata": {},
          "execution_count": 28
        }
      ],
      "source": [
        "#ANALISIS DE VARIANZA CON VARIABLES ORIGINALES\n",
        "total_var =scaled_df.var().sum()\n",
        "data_table.DataTable(pd.DataFrame({\n",
        "\"Porcentaje Varianza\": (scaled_df.var()/ total_var) * 100,\n",
        "\"Porcentaje Varianza Acumulado\": (scaled_df.var().cumsum() / total_var) * 100\n",
        "}))"
      ]
    },
    {
      "cell_type": "markdown",
      "source": [
        "Revision de la magnitud de las componentes respecto a las variables originales"
      ],
      "metadata": {
        "id": "akHDNtd7CRU8"
      }
    },
    {
      "cell_type": "code",
      "execution_count": 29,
      "metadata": {
        "colab": {
          "base_uri": "https://localhost:8080/",
          "height": 374
        },
        "id": "LowtBLPfGyNN",
        "outputId": "6d1ff059-c25e-4a19-ff14-7cc4f0ca137d"
      },
      "outputs": [
        {
          "output_type": "execute_result",
          "data": {
            "text/html": [
              "<div>\n",
              "<style scoped>\n",
              "    .dataframe tbody tr th:only-of-type {\n",
              "        vertical-align: middle;\n",
              "    }\n",
              "\n",
              "    .dataframe tbody tr th {\n",
              "        vertical-align: top;\n",
              "    }\n",
              "\n",
              "    .dataframe thead th {\n",
              "        text-align: right;\n",
              "    }\n",
              "</style>\n",
              "<table border=\"1\" class=\"dataframe\">\n",
              "  <thead>\n",
              "    <tr style=\"text-align: right;\">\n",
              "      <th></th>\n",
              "      <th>PC1</th>\n",
              "      <th>PC2</th>\n",
              "      <th>PC3</th>\n",
              "      <th>PC4</th>\n",
              "      <th>PC5</th>\n",
              "      <th>PC6</th>\n",
              "      <th>PC7</th>\n",
              "    </tr>\n",
              "  </thead>\n",
              "  <tbody>\n",
              "    <tr>\n",
              "      <th>MONTO</th>\n",
              "      <td>0.1655</td>\n",
              "      <td>0.0328</td>\n",
              "      <td>0.3724</td>\n",
              "      <td>0.3833</td>\n",
              "      <td>0.3883</td>\n",
              "      <td>0.3916</td>\n",
              "      <td>0.3885</td>\n",
              "    </tr>\n",
              "    <tr>\n",
              "      <th>EDAD</th>\n",
              "      <td>0.3007</td>\n",
              "      <td>0.0719</td>\n",
              "      <td>-0.1908</td>\n",
              "      <td>-0.1746</td>\n",
              "      <td>-0.1269</td>\n",
              "      <td>-0.1204</td>\n",
              "      <td>-0.1059</td>\n",
              "    </tr>\n",
              "    <tr>\n",
              "      <th>MP_SEP</th>\n",
              "      <td>-0.3786</td>\n",
              "      <td>-0.8695</td>\n",
              "      <td>-0.0342</td>\n",
              "      <td>-0.0018</td>\n",
              "      <td>0.0347</td>\n",
              "      <td>0.0341</td>\n",
              "      <td>0.0339</td>\n",
              "    </tr>\n",
              "    <tr>\n",
              "      <th>MP_AGO</th>\n",
              "      <td>-0.2001</td>\n",
              "      <td>0.3390</td>\n",
              "      <td>-0.0639</td>\n",
              "      <td>0.0076</td>\n",
              "      <td>0.0605</td>\n",
              "      <td>0.0748</td>\n",
              "      <td>0.0396</td>\n",
              "    </tr>\n",
              "    <tr>\n",
              "      <th>MP_JUL</th>\n",
              "      <td>0.0353</td>\n",
              "      <td>-0.0398</td>\n",
              "      <td>0.0414</td>\n",
              "      <td>0.0832</td>\n",
              "      <td>0.1138</td>\n",
              "      <td>0.0284</td>\n",
              "      <td>-0.1068</td>\n",
              "    </tr>\n",
              "    <tr>\n",
              "      <th>MP_JUN</th>\n",
              "      <td>-0.0789</td>\n",
              "      <td>0.0715</td>\n",
              "      <td>-0.0440</td>\n",
              "      <td>-0.0288</td>\n",
              "      <td>0.0992</td>\n",
              "      <td>0.0145</td>\n",
              "      <td>-0.0993</td>\n",
              "    </tr>\n",
              "    <tr>\n",
              "      <th>MP_MAY</th>\n",
              "      <td>0.1112</td>\n",
              "      <td>-0.0788</td>\n",
              "      <td>0.0082</td>\n",
              "      <td>-0.0324</td>\n",
              "      <td>-0.1212</td>\n",
              "      <td>0.1265</td>\n",
              "      <td>-0.0076</td>\n",
              "    </tr>\n",
              "    <tr>\n",
              "      <th>MP_ABR</th>\n",
              "      <td>-0.0464</td>\n",
              "      <td>0.0274</td>\n",
              "      <td>0.0093</td>\n",
              "      <td>-0.1356</td>\n",
              "      <td>0.0931</td>\n",
              "      <td>0.0392</td>\n",
              "      <td>0.0498</td>\n",
              "    </tr>\n",
              "    <tr>\n",
              "      <th>MPA_SEP</th>\n",
              "      <td>-0.8220</td>\n",
              "      <td>0.3303</td>\n",
              "      <td>0.0103</td>\n",
              "      <td>0.0169</td>\n",
              "      <td>-0.0186</td>\n",
              "      <td>0.0191</td>\n",
              "      <td>0.0237</td>\n",
              "    </tr>\n",
              "    <tr>\n",
              "      <th>MPA_AGO</th>\n",
              "      <td>-0.0292</td>\n",
              "      <td>-0.0090</td>\n",
              "      <td>0.5667</td>\n",
              "      <td>0.3869</td>\n",
              "      <td>0.1229</td>\n",
              "      <td>-0.2053</td>\n",
              "      <td>-0.4200</td>\n",
              "    </tr>\n",
              "    <tr>\n",
              "      <th>MPA_JUL</th>\n",
              "      <td>-0.0062</td>\n",
              "      <td>0.0001</td>\n",
              "      <td>0.4160</td>\n",
              "      <td>0.0384</td>\n",
              "      <td>-0.4848</td>\n",
              "      <td>-0.5232</td>\n",
              "      <td>0.0684</td>\n",
              "    </tr>\n",
              "    <tr>\n",
              "      <th>MPA_JUN</th>\n",
              "      <td>0.0157</td>\n",
              "      <td>-0.0014</td>\n",
              "      <td>-0.4330</td>\n",
              "      <td>0.3451</td>\n",
              "      <td>0.4958</td>\n",
              "      <td>-0.4896</td>\n",
              "      <td>-0.2495</td>\n",
              "    </tr>\n",
              "    <tr>\n",
              "      <th>MPA_MAY</th>\n",
              "      <td>-0.0004</td>\n",
              "      <td>0.0001</td>\n",
              "      <td>-0.1838</td>\n",
              "      <td>0.3295</td>\n",
              "      <td>-0.0865</td>\n",
              "      <td>-0.3621</td>\n",
              "      <td>0.7184</td>\n",
              "    </tr>\n",
              "    <tr>\n",
              "      <th>MPA_ABR</th>\n",
              "      <td>0.0033</td>\n",
              "      <td>0.0011</td>\n",
              "      <td>-0.3166</td>\n",
              "      <td>0.6452</td>\n",
              "      <td>-0.5276</td>\n",
              "      <td>0.3461</td>\n",
              "      <td>-0.2267</td>\n",
              "    </tr>\n",
              "  </tbody>\n",
              "</table>\n",
              "</div>"
            ],
            "application/vnd.google.colaboratory.module+javascript": "\n      import \"https://ssl.gstatic.com/colaboratory/data_table/a8bd4d5e58f96183/data_table.js\";\n\n      window.createDataTable({\n        data: [[\"MONTO\",\n{\n            'v': 0.1655,\n            'f': \"0.1655\",\n        },\n{\n            'v': 0.0328,\n            'f': \"0.0328\",\n        },\n{\n            'v': 0.3724,\n            'f': \"0.3724\",\n        },\n{\n            'v': 0.3833,\n            'f': \"0.3833\",\n        },\n{\n            'v': 0.3883,\n            'f': \"0.3883\",\n        },\n{\n            'v': 0.3916,\n            'f': \"0.3916\",\n        },\n{\n            'v': 0.3885,\n            'f': \"0.3885\",\n        }],\n [\"EDAD\",\n{\n            'v': 0.3007,\n            'f': \"0.3007\",\n        },\n{\n            'v': 0.0719,\n            'f': \"0.0719\",\n        },\n{\n            'v': -0.1908,\n            'f': \"-0.1908\",\n        },\n{\n            'v': -0.1746,\n            'f': \"-0.1746\",\n        },\n{\n            'v': -0.1269,\n            'f': \"-0.1269\",\n        },\n{\n            'v': -0.1204,\n            'f': \"-0.1204\",\n        },\n{\n            'v': -0.1059,\n            'f': \"-0.1059\",\n        }],\n [\"MP_SEP\",\n{\n            'v': -0.3786,\n            'f': \"-0.3786\",\n        },\n{\n            'v': -0.8695,\n            'f': \"-0.8695\",\n        },\n{\n            'v': -0.0342,\n            'f': \"-0.0342\",\n        },\n{\n            'v': -0.0018,\n            'f': \"-0.0018\",\n        },\n{\n            'v': 0.0347,\n            'f': \"0.0347\",\n        },\n{\n            'v': 0.0341,\n            'f': \"0.0341\",\n        },\n{\n            'v': 0.0339,\n            'f': \"0.0339\",\n        }],\n [\"MP_AGO\",\n{\n            'v': -0.2001,\n            'f': \"-0.2001\",\n        },\n{\n            'v': 0.339,\n            'f': \"0.339\",\n        },\n{\n            'v': -0.0639,\n            'f': \"-0.0639\",\n        },\n{\n            'v': 0.0076,\n            'f': \"0.0076\",\n        },\n{\n            'v': 0.0605,\n            'f': \"0.0605\",\n        },\n{\n            'v': 0.0748,\n            'f': \"0.0748\",\n        },\n{\n            'v': 0.0396,\n            'f': \"0.0396\",\n        }],\n [\"MP_JUL\",\n{\n            'v': 0.0353,\n            'f': \"0.0353\",\n        },\n{\n            'v': -0.0398,\n            'f': \"-0.0398\",\n        },\n{\n            'v': 0.0414,\n            'f': \"0.0414\",\n        },\n{\n            'v': 0.0832,\n            'f': \"0.0832\",\n        },\n{\n            'v': 0.1138,\n            'f': \"0.1138\",\n        },\n{\n            'v': 0.0284,\n            'f': \"0.0284\",\n        },\n{\n            'v': -0.1068,\n            'f': \"-0.1068\",\n        }],\n [\"MP_JUN\",\n{\n            'v': -0.0789,\n            'f': \"-0.0789\",\n        },\n{\n            'v': 0.0715,\n            'f': \"0.0715\",\n        },\n{\n            'v': -0.044,\n            'f': \"-0.044\",\n        },\n{\n            'v': -0.0288,\n            'f': \"-0.0288\",\n        },\n{\n            'v': 0.0992,\n            'f': \"0.0992\",\n        },\n{\n            'v': 0.0145,\n            'f': \"0.0145\",\n        },\n{\n            'v': -0.0993,\n            'f': \"-0.0993\",\n        }],\n [\"MP_MAY\",\n{\n            'v': 0.1112,\n            'f': \"0.1112\",\n        },\n{\n            'v': -0.0788,\n            'f': \"-0.0788\",\n        },\n{\n            'v': 0.0082,\n            'f': \"0.0082\",\n        },\n{\n            'v': -0.0324,\n            'f': \"-0.0324\",\n        },\n{\n            'v': -0.1212,\n            'f': \"-0.1212\",\n        },\n{\n            'v': 0.1265,\n            'f': \"0.1265\",\n        },\n{\n            'v': -0.0076,\n            'f': \"-0.0076\",\n        }],\n [\"MP_ABR\",\n{\n            'v': -0.0464,\n            'f': \"-0.0464\",\n        },\n{\n            'v': 0.0274,\n            'f': \"0.0274\",\n        },\n{\n            'v': 0.0093,\n            'f': \"0.0093\",\n        },\n{\n            'v': -0.1356,\n            'f': \"-0.1356\",\n        },\n{\n            'v': 0.0931,\n            'f': \"0.0931\",\n        },\n{\n            'v': 0.0392,\n            'f': \"0.0392\",\n        },\n{\n            'v': 0.0498,\n            'f': \"0.0498\",\n        }],\n [\"MPA_SEP\",\n{\n            'v': -0.822,\n            'f': \"-0.822\",\n        },\n{\n            'v': 0.3303,\n            'f': \"0.3303\",\n        },\n{\n            'v': 0.0103,\n            'f': \"0.0103\",\n        },\n{\n            'v': 0.0169,\n            'f': \"0.0169\",\n        },\n{\n            'v': -0.0186,\n            'f': \"-0.0186\",\n        },\n{\n            'v': 0.0191,\n            'f': \"0.0191\",\n        },\n{\n            'v': 0.0237,\n            'f': \"0.0237\",\n        }],\n [\"MPA_AGO\",\n{\n            'v': -0.0292,\n            'f': \"-0.0292\",\n        },\n{\n            'v': -0.009,\n            'f': \"-0.009\",\n        },\n{\n            'v': 0.5667,\n            'f': \"0.5667\",\n        },\n{\n            'v': 0.3869,\n            'f': \"0.3869\",\n        },\n{\n            'v': 0.1229,\n            'f': \"0.1229\",\n        },\n{\n            'v': -0.2053,\n            'f': \"-0.2053\",\n        },\n{\n            'v': -0.42,\n            'f': \"-0.42\",\n        }],\n [\"MPA_JUL\",\n{\n            'v': -0.0062,\n            'f': \"-0.0062\",\n        },\n{\n            'v': 0.0001,\n            'f': \"0.0001\",\n        },\n{\n            'v': 0.416,\n            'f': \"0.416\",\n        },\n{\n            'v': 0.0384,\n            'f': \"0.0384\",\n        },\n{\n            'v': -0.4848,\n            'f': \"-0.4848\",\n        },\n{\n            'v': -0.5232,\n            'f': \"-0.5232\",\n        },\n{\n            'v': 0.0684,\n            'f': \"0.0684\",\n        }],\n [\"MPA_JUN\",\n{\n            'v': 0.0157,\n            'f': \"0.0157\",\n        },\n{\n            'v': -0.0014,\n            'f': \"-0.0014\",\n        },\n{\n            'v': -0.433,\n            'f': \"-0.433\",\n        },\n{\n            'v': 0.3451,\n            'f': \"0.3451\",\n        },\n{\n            'v': 0.4958,\n            'f': \"0.4958\",\n        },\n{\n            'v': -0.4896,\n            'f': \"-0.4896\",\n        },\n{\n            'v': -0.2495,\n            'f': \"-0.2495\",\n        }],\n [\"MPA_MAY\",\n{\n            'v': -0.0004,\n            'f': \"-0.0004\",\n        },\n{\n            'v': 0.0001,\n            'f': \"0.0001\",\n        },\n{\n            'v': -0.1838,\n            'f': \"-0.1838\",\n        },\n{\n            'v': 0.3295,\n            'f': \"0.3295\",\n        },\n{\n            'v': -0.0865,\n            'f': \"-0.0865\",\n        },\n{\n            'v': -0.3621,\n            'f': \"-0.3621\",\n        },\n{\n            'v': 0.7184,\n            'f': \"0.7184\",\n        }],\n [\"MPA_ABR\",\n{\n            'v': 0.0033,\n            'f': \"0.0033\",\n        },\n{\n            'v': 0.0011,\n            'f': \"0.0011\",\n        },\n{\n            'v': -0.3166,\n            'f': \"-0.3166\",\n        },\n{\n            'v': 0.6452,\n            'f': \"0.6452\",\n        },\n{\n            'v': -0.5276,\n            'f': \"-0.5276\",\n        },\n{\n            'v': 0.3461,\n            'f': \"0.3461\",\n        },\n{\n            'v': -0.2267,\n            'f': \"-0.2267\",\n        }]],\n        columns: [[\"string\", \"index\"], [\"number\", \"PC1\"], [\"number\", \"PC2\"], [\"number\", \"PC3\"], [\"number\", \"PC4\"], [\"number\", \"PC5\"], [\"number\", \"PC6\"], [\"number\", \"PC7\"]],\n        columnOptions: [{\"width\": \"1px\", \"className\": \"index_column\"}],\n        rowsPerPage: 25,\n        helpUrl: \"https://colab.research.google.com/notebooks/data_table.ipynb\",\n        suppressOutputScrolling: true,\n        minimumWidth: undefined,\n      });\n    ",
            "text/plain": [
              "<google.colab.data_table.DataTable object>"
            ]
          },
          "metadata": {},
          "execution_count": 29
        }
      ],
      "source": [
        "#Revision de pesos de los componentes\n",
        "comps_df = pd.DataFrame(\n",
        "pca.components_.round(4),\n",
        "columns = pcs_df.columns,\n",
        "index = scaled_df.columns)\n",
        "data_table.DataTable(comps_df.iloc[:,:7])"
      ]
    },
    {
      "cell_type": "code",
      "execution_count": null,
      "metadata": {
        "colab": {
          "base_uri": "https://localhost:8080/"
        },
        "id": "YIKybpKdGyNO",
        "outputId": "53bbaada-1770-462b-84d5-22e4781f10a5"
      },
      "outputs": [
        {
          "output_type": "execute_result",
          "data": {
            "text/plain": [
              "PC1       EDAD\n",
              "PC2     MP_AGO\n",
              "PC3    MPA_AGO\n",
              "PC4    MPA_ABR\n",
              "PC5    MPA_JUN\n",
              "PC6      MONTO\n",
              "PC7    MPA_MAY\n",
              "dtype: object"
            ]
          },
          "metadata": {},
          "execution_count": 70
        }
      ],
      "source": [
        "#Seleccionamos los 7 componentes más relevantes\n",
        "comps_df.iloc[:,:7].idxmax()"
      ]
    },
    {
      "cell_type": "markdown",
      "source": [
        "BoxPlot despues de aplicar PCA y varianza de los componentes."
      ],
      "metadata": {
        "id": "1BzSwYkZT0Z7"
      }
    },
    {
      "cell_type": "code",
      "source": [
        "comps_df.boxplot() #Bloxplot despues del PCA"
      ],
      "metadata": {
        "id": "8Ie3VwcXL1NE",
        "colab": {
          "base_uri": "https://localhost:8080/",
          "height": 283
        },
        "outputId": "38d1985f-cf0c-4f0d-e651-522d57707a8b"
      },
      "execution_count": null,
      "outputs": [
        {
          "output_type": "execute_result",
          "data": {
            "text/plain": [
              "<matplotlib.axes._subplots.AxesSubplot at 0x7fc240e4d110>"
            ]
          },
          "metadata": {},
          "execution_count": 71
        },
        {
          "output_type": "display_data",
          "data": {
            "text/plain": [
              "<Figure size 432x288 with 1 Axes>"
            ],
            "image/png": "[encoded data removed]"
          },
          "metadata": {
            "needs_background": "light"
          }
        }
      ]
    },
    {
      "cell_type": "markdown",
      "source": [
        "# **RESPUESTAS**\n",
        "\n",
        "1. ¿Cuál es el número de componentes mínimo y por qué?\n",
        "\n",
        "> Determinamos que el número de componentes mínimo después de aplicar PCA y realizar un análisis de la varianza de componentes, concluimos que el número mínimo es 6 donde tenemos a:\n",
        "\n",
        "\n",
        ">*   PC1 - EDAD\n",
        ">*   PC2 - MP_AGO\n",
        ">*   PC3 - MPA_AGO\n",
        ">*   PC4 - MPA_ABR\n",
        ">*   PC5 - MPA_JUN\n",
        ">*   PC6 - MONTO\n",
        "\n",
        "> Estos componentes corresponden al 86.72% de varianza de la muestra, sin embargo, podemos también considerar usar un séptimo componente que juntaría el 91.90% de la varianza. Sería conveniente definir una regla de negocio para este criterio.\n",
        "\n",
        "\n",
        "\n",
        "2. ¿Cuál es la variación de los datos que representan esos componentes?\n",
        "\n",
        "> > Usando los 6 compontes estaríamos representando el 86.72% de varianza\n",
        "\n",
        "3. ¿Cuál es la pérdida de información después de realizar PCA?\n",
        "\n",
        "> Después de seleccionar los componentes, estimamos que tendríamos el 13.28 % de perdida de información..\n",
        "\n",
        "4. De las variables originales, ¿Cuál tiene mayor y cuál tiene menor importancia en los componentes principales?\n",
        "\n",
        "> La que tiene mayor importancia es PC1 - EDAD y la que tiene menor importancia PC14 - MP_JUL \n",
        "\n",
        "* PC1\t42.28\n",
        "* PC2\t12.26\n",
        "* PC3\t7.46\n",
        "* PC4\t6.61\n",
        "* PC5\t6.3100000000000005\n",
        "* PC6\t6.23\n",
        "* PC7\t5.57\n",
        "* PC8\t5.19\n",
        "* PC9\t5.050000000000001\n",
        "* PC10\t1.8900000000000001\n",
        "* PC11\t0.51\n",
        "* PC12\t0.29\n",
        "* PC13\t0.18\n",
        "* PC14\t0.16999999999999998\n",
        "\n",
        "\n",
        "\n",
        "5. ¿Cuándo se recomienda realizar un PCA y qué beneficios ofrece para Machine Learning?\n",
        "\n",
        "> Se recomienda usar el PCA cuando se requiere reducir la cantidad de información que tiene un dataSet, dando como resultado un dataset más pequeño con casi la misma calidad de información que el dataset original.\n",
        "De esta manera el modelo que se generaría por medio de un Algoritmo de machine learning, computacionalmente no sería complejo y arrojaría un resultado optimo. También es importante considerar que ese proceso requiere únicamente datos continuos es decir no es capaz de trabajar con datos categóricos, por lo que no siempre podría ser la mejor alternativa.\n"
      ],
      "metadata": {
        "id": "WfSg7_Y2N14Z"
      }
    },
    {
      "cell_type": "markdown",
      "source": [
        "# Referencias Bibliograficas\n",
        "\n",
        "* (S/f). Datacamp.com. Recuperado el 12 de octubre de 2022, de https://www.datacamp.com/tutorial/principal-component-analysis-in-python\n",
        "\n",
        "* Hall, M. (2015, abril 15). Variance vs. Covariance: What’s the difference? Investopedia. https://www.investopedia.com/ask/answers/041515/what-difference-between-variance-and-covariance.asp"
      ],
      "metadata": {
        "id": "_jnJGTq8AOeZ"
      }
    }
  ],
  "metadata": {
    "kernelspec": {
      "display_name": "Python 3.8.8 ('base')",
      "language": "python",
      "name": "python3"
    },
    "language_info": {
      "codemirror_mode": {
        "name": "ipython",
        "version": 3
      },
      "file_extension": ".py",
      "mimetype": "text/x-python",
      "name": "python",
      "nbconvert_exporter": "python",
      "pygments_lexer": "ipython3",
      "version": "3.8.8"
    },
    "orig_nbformat": 4,
    "vscode": {
      "interpreter": {
        "hash": "c52da4db0cc24982f172e6f7976463ee5edeec35eac07f0e6ceac694ec92108f"
      }
    },
    "colab": {
      "provenance": [],
      "collapsed_sections": [],
      "include_colab_link": true
    }
  },
  "nbformat": 4,
  "nbformat_minor": 0
}