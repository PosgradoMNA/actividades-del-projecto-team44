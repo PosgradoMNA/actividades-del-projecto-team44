{
  "nbformat": 4,
  "nbformat_minor": 0,
  "metadata": {
    "colab": {
      "provenance": [],
      "authorship_tag": "ABX9TyMHdStY8k9GobZGm7wdQFPn",
      "include_colab_link": true
    },
    "kernelspec": {
      "name": "python3",
      "display_name": "Python 3"
    },
    "language_info": {
      "name": "python"
    }
  },
  "cells": [
    {
      "cell_type": "markdown",
      "metadata": {
        "id": "view-in-github",
        "colab_type": "text"
      },
      "source": [
        "<a href=\"https://colab.research.google.com/github/PosgradoMNA/actividades-del-projecto-team44/blob/main/EQUIPO44_A01273286_A01793252.ipynb\" target=\"_parent\"><img src=\"https://colab.research.google.com/assets/colab-badge.svg\" alt=\"Open In Colab\"/></a>"
      ]
    },
    {
      "cell_type": "markdown",
      "source": [
        "\n",
        "\n",
        "\n",
        "\n",
        "Preguntas:\n",
        "¿Qué genero tuvo más pruebas positivas?\n",
        "¿Qué genero tuvo más pruebas negativas?\n",
        "¿Cuál fue el municipio más afectado por el COVID?\n",
        "¿Cuál fue el municipio menor afectado por el COVID?\n",
        "¿Cuál es el porcentaje de casos positivos con tabaquismo?\n",
        "¿Cuál es el porcentaje de casos positivos con obesidad?\n",
        "¿Qué cantidad de pacientes fueron entubados?\n",
        "¿Qué porcentaje de pacientes fueron hospitalizados?\n",
        "¿Cuáles la enfermedad más asociada a casos positivos de COVID?\n",
        "¿Cuál es la edad más común/promedio entre los pacientes de COVID?\n",
        "Del numero total de pacientes infectados, ¿Que porcentaje de ellos hablan una lengua indigena?"
      ],
      "metadata": {
        "id": "eqge1Ve02hHv"
      }
    }
  ]
}