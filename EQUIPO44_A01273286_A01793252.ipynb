{
  "nbformat": 4,
  "nbformat_minor": 0,
  "metadata": {
    "colab": {
      "provenance": [],
      "collapsed_sections": [],
      "include_colab_link": true
    },
    "kernelspec": {
      "name": "python3",
      "display_name": "Python 3"
    },
    "language_info": {
      "name": "python"
    }
  },
  "cells": [
    {
      "cell_type": "markdown",
      "metadata": {
        "id": "view-in-github",
        "colab_type": "text"
      },
      "source": [
        "<a href=\"https://colab.research.google.com/github/PosgradoMNA/actividades-del-projecto-team44/blob/main/EQUIPO44_A01273286_A01793252.ipynb\" target=\"_parent\"><img src=\"https://colab.research.google.com/assets/colab-badge.svg\" alt=\"Open In Colab\"/></a>"
      ]
    },
    {
      "cell_type": "markdown",
      "source": [
        "#**Datos clínicos de COVID-19 en México**"
      ],
      "metadata": {
        "id": "N5zhDflG3-sE"
      }
    },
    {
      "cell_type": "markdown",
      "source": [
        "#**Integrantes**\n",
        "\n",
        "**EQUIPO 44**\n",
        "\n",
        "*   Luis Alfonso Sabanero Esquivel - A01273286\n",
        "*   Aquiles Yonatan Armenta Hernandez - A01793252\n",
        "\n"
      ],
      "metadata": {
        "id": "BrO6YHA2CDjt"
      }
    },
    {
      "cell_type": "markdown",
      "source": [
        "#**Acerca del conjunto de datos**\n",
        "\n",
        "Este conjunto de datos contiene los resultados de las pruebas de PCR en tiempo real para COVID-19 en México según lo informado por la [Dirección General de Epidemiología] (https://www.gob.mx/salud/documentos/datos-abiertos-152127).\n",
        "\n",
        "El conjunto de datos sin procesar oficial está disponible en el sitio web de la Secretaría Oficial de Epidemiología: https://www.gob.mx/salud/documentos/datos-abiertos-152127."
      ],
      "metadata": {
        "id": "stF4__wm4dAT"
      }
    },
    {
      "cell_type": "markdown",
      "source": [
        "#**Fuente**\n",
        "\n",
        "Los datos se recopilaron utilizando un \"modelo centinela\" que muestra el 10% de los pacientes que presentan un diagnóstico respiratorio viral para la prueba de COVID-19, y consta de datos informados por 475 unidades de monitoreo de enfermedades respiratorias virales (hospitales) llamados USMER (Unidades Monitoras de Enfermedad Respiratoria Viral) en todo el país en todo el sector salud (IMSS, ISSSTE, SEDENA, SEMAR, entre otros). Los datos se procesan primero con la ayuda del código respaldado en el siguiente repositorio: https://github.com/marianarf/covid19_mexico_analysis/tree/master/notebooks, se utilizó el noteboook preprocess.R.\n",
        "\n",
        "La fuente de datos se puede descargar del siguiente Link: https://www.kaggle.com/datasets/marianarfranklin/mexico-covid19-clinical-data\n",
        "\n"
      ],
      "metadata": {
        "id": "25tX3ilH4xVh"
      }
    },
    {
      "cell_type": "markdown",
      "source": [
        "#**File**\n",
        "Nombre: mexico_covid19.csv\n",
        "\n",
        "Tamaño: 48.06 MB\n",
        "\n",
        "Total de Registros: 263007"
      ],
      "metadata": {
        "id": "L9bqkfTZA2us"
      }
    },
    {
      "cell_type": "markdown",
      "source": [
        "#**Descripcion del Conjuto de Datos**\n",
        "\n",
        "Este conjunto de datos esta constituido por 41 Columnas que se describen el siguiente diccionario de Datos:\n",
        "\n",
        "COLUMNA | DESCRIPCION \n",
        "-----:|:--------:\n",
        "id|Identificación única para realizar un seguimiento de los datos durante el preprocesamiento.\n",
        "|\n",
        "FECHA_ARCHIVO|Fecha en la que se actualizó el registro por última vez.\n",
        "|\n",
        "ID_REGISTRO|Identificación única utilizada por la fuente original para identificar casos.\n",
        "|\n",
        "ENTIDAD_UM|Región donde el hospital realizó el ingreso.\n",
        "|\n",
        "ENTIDAD_RES|Región de residencia del paciente.\n",
        "|\n",
        "RESULTADO|Resultado de la prueba de laboratorio para RT-PCR de COVID-19.\n",
        "|\n",
        "DELAY|Lapso (en días) entre un caso notificado y el resultado de laboratorio que confirma un resultado positivo o negativo de COVID-19.\n",
        "|\n",
        "ENTIDAD_REGISTRO|La región real donde se asignó oficialmente el caso.\n",
        "|\n",
        "ENTIDAD|Nombre de la región (estado).\n",
        "|\n",
        "ABR_ENT|Nombre simplificado de la región (estado).\n",
        "|\n",
        "FECHA_ACTUALIZACION|La base de datos se alimenta diariamente, esta variable permite identificar la fecha de la última actualización (AAAA-MM-DD).\n",
        "|\n",
        "ORIGEN|Paciente fue incluio o no dentro del complejo USMER.\n",
        "|\n",
        "SECTOR|Identificar el tipo de institución del Sistema Nacional de Salud que brindó la atención.\n",
        "|\n",
        "SEXO|Género del paciente.\n",
        "|\n",
        "ENTIDAD_NAC|La región de nacimiento del paciente (estado).\n",
        "|\n",
        "MUNICIPIO_RES|Ciudad de nacimiento del paciente.\n",
        "|\n",
        "TIPO_PACIENTE|Tipo de atención que recibió el paciente en la unidad. Se llama paciente ambulatorio si regresó a casa o se llama paciente internado si fue admitido en el hospital.\n",
        "|\n",
        "FECHA_INGRESO|Fecha de ingreso del paciente a la unidad asistencial (AAAA-MM-DD).\n",
        "|\n",
        "FECHA_SINTOMAS|Fecha de inicio de los síntomas del paciente (AAAA-MM-DD).\n",
        "|\n",
        "FECHA_DEF|Fecha de fallecimiento del paciente.\n",
        "|\n",
        "INTUBADO|Identifica si el paciente requirió intubación.\n",
        "|\n",
        "NEUMONIA|Identifica si el paciente fue diagnosticado con neumonía.\n",
        "|\n",
        "EDAD|Edad del paciente.\n",
        "|\n",
        "NACIONALIDAD|Identifica si el paciente es mexicano o extranjero.\n",
        "|\n",
        "EMBARAZO|Identifica si la paciente está embarazada.\n",
        "|\n",
        "HABLA_LENGUA_INDIG|Identifica si el paciente habla una lengua indígena.\n",
        "|\n",
        "DIABETES|Identifica si el paciente es diabético.\n",
        "|\n",
        "EPOC|Identifica si el paciente presenta EPOC.\n",
        "|\n",
        "ASMA|Identifica si el paciente tiene asma.\n",
        "|\n",
        "INMUSUPR|Identifica si el paciente está inmunodeprimido.\n",
        "|\n",
        "HIPERTENSION|Identifica si el paciente tiene hipertensión.\n",
        "|\n",
        "OTRA_COM|Identifica si el paciente presenta otra enfermedad.\n",
        "|\n",
        "CARDIOVASCULAR|Identifica si el paciente presenta enfermedad cardiovascular.\n",
        "|\n",
        "OBESIDAD|Identifica si el paciente presenta obesidad.\n",
        "|\n",
        "RENAL_CRONICA|Identifica si el paciente presenta insuficiencia renal crónica.\n",
        "|\n",
        "TABAQUISMO|Identifica si el paciente tiene adicción al tabaco.\n",
        "|\n",
        "OTRO_CASO|Identifica si el paciente tuvo contacto con algún otro caso diagnosticado con SARS CoV-2\n",
        "|\n",
        "MIGRANTE|Identifica si el paciente es migrante.\n",
        "|\n",
        "PAIS_NACIONALIDAD|Identifica la nacionalidad del paciente.\n",
        "|\n",
        "PAIS_ORIGEN|Identifica el país de origen (es decir, entrada) del paciente.\n",
        "|\n",
        "UCI|Identifica si el paciente ingresó en la Unidad de Cuidados Intensivos.\n",
        "|"
      ],
      "metadata": {
        "id": "eDc6w3t08PBv"
      }
    },
    {
      "cell_type": "markdown",
      "source": [
        "\n",
        "\n",
        "#**Preguntas**:\n",
        "\n",
        "**1**. ¿Qué genero tuvo más pruebas positivas?\n",
        "\n",
        "**2**. ¿Qué genero tuvo más pruebas negativas?\n",
        "\n",
        "**3**. ¿Cuál fue el municipio más afectado por el COVID?\n",
        "\n",
        "**4**. ¿Cuál fue el municipio menor afectado por el COVID?\n",
        "\n",
        "**5**. ¿Cuál es el porcentaje de casos positivos con tabaquismo?\n",
        "\n",
        "**6**. ¿Cuál es el porcentaje de casos positivos con obesidad?\n",
        "\n",
        "**7**. ¿Qué cantidad de pacientes fueron entubados?\n",
        "\n",
        "**8**. ¿Qué porcentaje de pacientes fueron hospitalizados?\n",
        "\n",
        "**9**. ¿Cuáles la enfermedad más asociada a casos positivos de COVID?\n",
        "\n",
        "**10**. ¿Cuál es la edad más común/promedio entre los pacientes de COVID?\n",
        "\n",
        "**11**. ¿Cuál es el numero de muertes registradas por genero?"
      ],
      "metadata": {
        "id": "eqge1Ve02hHv"
      }
    },
    {
      "cell_type": "markdown",
      "source": [
        "# **Interesados en las Respuestas a las Preguntas**\n",
        "\n",
        "Consideramos que la población en General en México se verá beneficiada de este análisis de datos, puesto que las preguntas nos sirven como indicador para saber qué sector de la población con ciertos padecimientos se vio afectado. Así como las edades en donde más se presentaron casos de covid y de estos cuantos pasaron de un padecimiento de Neumonía ha entubamenitento para ambos géneros de la población.\n",
        "\n"
      ],
      "metadata": {
        "id": "UZZu0LAJDNtp"
      }
    }
  ]
}